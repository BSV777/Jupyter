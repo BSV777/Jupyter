{
 "cells": [
  {
   "cell_type": "markdown",
   "id": "5404d35c",
   "metadata": {},
   "source": [
    "### Изучение нейронных сетей. Лаб.1"
   ]
  },
  {
   "cell_type": "markdown",
   "id": "b1f4cc32",
   "metadata": {},
   "source": [
    "Установка ПО:\n",
    "\n",
    "apt install ubuntu-drivers\n",
    "\n",
    "ubuntu-drivers devices\n",
    "\n",
    "ubuntu-drivers autoinstall\n",
    "\n",
    "nvidia-smi\n",
    "\n",
    "apt install nvidia-cuda-toolkit\n",
    "\n",
    "curl -O https://repo.anaconda.com/archive/Anaconda3-2021.05-Linux-x86_64.sh\n",
    "\n",
    "bash Anaconda3-2021.05-Linux-x86_64.sh -b\n",
    "\n",
    "conda install pytorch torchvision cudatoolkit jupyter -y -c pytorch\n",
    "\n",
    "jupyter notebook --no-browser --port=8080 --allow-root\n",
    "\n",
    "ssh -L 8080:localhost:8080 dev@lab1"
   ]
  },
  {
   "cell_type": "markdown",
   "id": "893985fa",
   "metadata": {},
   "source": [
    "#### Проверка pytorch"
   ]
  },
  {
   "cell_type": "code",
   "execution_count": 2,
   "id": "8467e991",
   "metadata": {},
   "outputs": [
    {
     "name": "stdout",
     "output_type": "stream",
     "text": [
      "tensor([[0.6001, 0.8168, 0.2516],\n",
      "        [0.4397, 0.4862, 0.3252],\n",
      "        [0.2382, 0.5760, 0.4119],\n",
      "        [0.2738, 0.4023, 0.8979],\n",
      "        [0.1098, 0.4531, 0.6185]])\n"
     ]
    }
   ],
   "source": [
    "from __future__ import print_function\n",
    "import torch\n",
    "x = torch.rand(5, 3)\n",
    "print(x)"
   ]
  },
  {
   "cell_type": "markdown",
   "id": "fb13bcf2",
   "metadata": {},
   "source": [
    "#### Проверка GPU. Разные варианты записи:"
   ]
  },
  {
   "cell_type": "code",
   "execution_count": 3,
   "id": "1d66588f",
   "metadata": {},
   "outputs": [
    {
     "name": "stderr",
     "output_type": "stream",
     "text": [
      "/home/sbaykov/anaconda3/lib/python3.8/site-packages/torch/cuda/__init__.py:83: UserWarning: \n",
      "    Found GPU%d %s which is of cuda capability %d.%d.\n",
      "    PyTorch no longer supports this GPU because it is too old.\n",
      "    The minimum cuda capability supported by this library is %d.%d.\n",
      "    \n",
      "  warnings.warn(old_gpu_warn.format(d, name, major, minor, min_arch // 10, min_arch % 10))\n"
     ]
    }
   ],
   "source": [
    "if torch.cuda.is_available():\n",
    "    torch.cuda.set_device(0)\n",
    "    torch.cuda.current_device()\n",
    "    torch.cuda.device(0)\n",
    "    torch.cuda.device_count()\n",
    "    torch.cuda.get_device_name(0)\n",
    "else:\n",
    "    device = torch.device(\"cpu\")"
   ]
  },
  {
   "cell_type": "code",
   "execution_count": 13,
   "id": "cbf91c9c",
   "metadata": {},
   "outputs": [
    {
     "name": "stdout",
     "output_type": "stream",
     "text": [
      "Using device: cuda\n",
      "\n",
      "NVIDIA GeForce GT 1030\n",
      "Memory Usage:\n",
      "Allocated: 0.0 GB\n",
      "Cached:    0.0 GB\n"
     ]
    }
   ],
   "source": [
    "# setting device on GPU if available, else CPU\n",
    "device = torch.device('cuda' if torch.cuda.is_available() else 'cpu')\n",
    "print('Using device:', device)\n",
    "print()\n",
    "\n",
    "#Additional Info when using cuda\n",
    "if device.type == 'cuda':\n",
    "    print(torch.cuda.get_device_name(0))\n",
    "    print('Memory Usage:')\n",
    "    print('Allocated:', round(torch.cuda.memory_allocated(0)/1024**3,1), 'GB')\n",
    "    print('Cached:   ', round(torch.cuda.memory_reserved(0)/1024**3,1), 'GB')"
   ]
  },
  {
   "cell_type": "markdown",
   "id": "3d038cd1",
   "metadata": {},
   "source": [
    "Определим наше GPU как первое видимое устройство cuda."
   ]
  },
  {
   "cell_type": "code",
   "execution_count": 2,
   "id": "649533c7",
   "metadata": {},
   "outputs": [
    {
     "name": "stdout",
     "output_type": "stream",
     "text": [
      "cuda\n"
     ]
    }
   ],
   "source": [
    "# Assuming that we are on a CUDA machine, this should print a CUDA device:\n",
    "device = torch.device(\"cuda:0\" if torch.cuda.is_available() else \"cpu\" )\n",
    "print(device)"
   ]
  },
  {
   "cell_type": "markdown",
   "id": "0a978c3e",
   "metadata": {},
   "source": [
    "#### Загрузка и нормализация CIFAR10. \n",
    "\n",
    "CIFAR - Canadian Institute For Andfanced Research. \n",
    "\n",
    "База содержит 60 тыс изображений в разрешении 3х32х32, разделенные на 10 классов."
   ]
  },
  {
   "cell_type": "code",
   "execution_count": 3,
   "id": "646b1db2",
   "metadata": {},
   "outputs": [
    {
     "name": "stdout",
     "output_type": "stream",
     "text": [
      "Files already downloaded and verified\n",
      "Files already downloaded and verified\n"
     ]
    }
   ],
   "source": [
    "import torch\n",
    "import torchvision\n",
    "import torchvision.transforms as transforms\n",
    "\n",
    "# Компонуемые преобразования для наборов данных\n",
    "transform = transforms.Compose(\n",
    "    [transforms.ToTensor(),\n",
    "     transforms.Normalize((0.5, 0.5, 0.5), (0.5, 0.5, 0.5))])\n",
    "# Если изображения разные - добавляют преобразование, например transforms.Resize((32,32))\n",
    "# Можно применить нормализацию по параметрам из ImageNet (mean & std)\n",
    "# transforms.Normalize(mean=[0.485, 0.456, 0.406], std=[0.229, 0.224, 0.225])\n",
    "# mean - среднее отклонение\n",
    "# std - стандартное отклонение\n",
    "\n",
    "# mini-batches - мини-пакеты -\n",
    "# batch_size=4 - размер пакета - сколько изображений пройдёт через сеть,\n",
    "#                                прежде, чем мы обучим и обновим её\n",
    "\n",
    "trainset = torchvision.datasets.CIFAR10(root='./data', train=True, \n",
    "                                        download=True, transform=transform)\n",
    "# загрузчик\n",
    "\n",
    "trainloader = torch.utils.data.DataLoader(trainset, batch_size=4, \n",
    "                                          shuffle=True, num_workers=2)\n",
    "\n",
    "testset = torchvision.datasets.CIFAR10(root='./data', train=False, \n",
    "                                       download=True, transform=transform)\n",
    "testloader = torch.utils.data.DataLoader(testset, batch_size=4, \n",
    "                                         shuffle=False, num_workers=2)\n",
    "\n",
    "classes = ('plane', 'car', 'bird', 'cat', 'deer', \n",
    "           'dog', 'frog', 'horse', 'ship', 'truck')"
   ]
  },
  {
   "cell_type": "markdown",
   "id": "b99d7ab1",
   "metadata": {},
   "source": [
    "Выведем несколько тренировочных образов для проверки:"
   ]
  },
  {
   "cell_type": "code",
   "execution_count": 4,
   "id": "3789efbc",
   "metadata": {},
   "outputs": [
    {
     "data": {
      "image/png": "[encoded data removed]",
      "text/plain": [
       "<Figure size 432x288 with 1 Axes>"
      ]
     },
     "metadata": {
      "needs_background": "light"
     },
     "output_type": "display_data"
    },
    {
     "name": "stdout",
     "output_type": "stream",
     "text": [
      "horse   dog  bird plane\n"
     ]
    }
   ],
   "source": [
    "import matplotlib.pyplot as plt\n",
    "import numpy as np\n",
    "\n",
    "# functions to show an image\n",
    "\n",
    "def imshow(img):\n",
    "    img = img / 2 + 0.5     # unnormalize - изменить в случае, \n",
    "    npimg = img.numpy()     # если использовались другие параметры нормализации!\n",
    "    plt.imshow(np.transpose(npimg, (1, 2, 0))) # см. permute, reshape для тензоров\n",
    "    plt.show()\n",
    "\n",
    "# get some random training images\n",
    "dataiter = iter(trainloader)         # как работает итератор?\n",
    "images, labels = dataiter.next()\n",
    "\n",
    "# show images\n",
    "imshow(torchvision.utils.make_grid(images))\n",
    "# print labels\n",
    "print(' '.join('%5s' % classes[labels[j]] for j in range(4)))  \n",
    "# 4 это количество изображений в пакете (размер мини-батча)"
   ]
  },
  {
   "cell_type": "markdown",
   "id": "41853dbc",
   "metadata": {},
   "source": [
    "#### Определение нейронной сети.\n",
    "\n",
    "Общее название - MLP - MultiLayer Perceptron.\n",
    "\n",
    "В данном случае это Convolutional Neural Network - Свёрточная нейронная сеть.\n",
    "\n",
    "Классическая схема:\n",
    "\n",
    "![title](https://hsto.org/r/w1560/files/314/9c8/fcf/3149c8fcfa2146b6bf3b1115fd56deb6.png)\n",
    "\n",
    "![title](https://hsto.org/r/w1560/webt/t8/4m/yg/t84mygi1sjuzssoezguistupmeo.png)\n",
    "\n",
    "Convolutions - Свёртка\n",
    "\n",
    "Subsampling - Подвыборка\n",
    "\n",
    "Gaussian connections - соединения Гаусса–Манина\n",
    "\n",
    "Сеть имеет 6 слоёв:\n",
    "1. Входной фильтр. С1:feature maps 6@28x28\n",
    "2. S2: feature maps 6@14x14\n",
    "3. C3: feature maps 16@10x10\n",
    "4. S4: feature maps 16@5x5\n",
    "5. Полносвязный слой - F5 - 120\n",
    "6. Полносвязный слой - F6 - 84\n",
    "\n",
    "Выход - 10\n",
    "\n",
    "На выходе используется Функция активации (Передаточная функция). \n",
    "\n",
    "Часто используется Сигмоид (Многомерная логистическая функция) - softmax()\n",
    "\n",
    "$y=F(s)=\\frac{1}{1+e^{-a*s}}=\\frac{1}{1+\\exp(-a*s)}$\n",
    "\n",
    "<img src=\"https://taewanmerepo.github.io/2017/09/sigmoid/post.jpg\" width=\"400\">\n",
    "\n",
    "А также Линейную выпрямительную функцию активации (ReLU)\n",
    "<img src=\"https://i.stack.imgur.com/1BX7l.png\">\n"
   ]
  },
  {
   "cell_type": "code",
   "execution_count": 5,
   "id": "46327293",
   "metadata": {},
   "outputs": [],
   "source": [
    "import torch.nn as nn\n",
    "import torch.nn.functional as F\n",
    "\n",
    "class Net(nn.Module):\n",
    "    def __init__(self):\n",
    "        super(Net, self).__init__() # Конструктор суперкласса\n",
    "        \n",
    "        # Описание слоёв:\n",
    "        self.conv1 = nn.Conv2d(3, 6, 5)       #\n",
    "        self.pool = nn.MaxPool2d(2, 2)        #\n",
    "        self.conv2 = nn.Conv2d(6, 16, 5)      #\n",
    "        self.fc1 = nn.Linear(16 * 5 * 5, 120) # Полносвязный слой первый аргумент — определение \n",
    "                                              # количества узлов в i-том слое, а второй — \n",
    "                                              # количество узлов в i+1 слое\n",
    "        self.fc2 = nn.Linear(120, 84)         # Полносвязный слой\n",
    "        self.fc3 = nn.Linear(84, 10)          # Полносвязный слой\n",
    "\n",
    "    # Функция, описывающая поток данных при обучении и предсказании\n",
    "    def forward(self, x):\n",
    "        x = self.pool(F.relu(self.conv1(x)))\n",
    "        x = self.pool(F.relu(self.conv2(x)))\n",
    "        x = x.view(-1, 16 * 5 * 5)    # Преобразование в одномерный тензор\n",
    "        x = F.relu(self.fc1(x))\n",
    "        x = F.relu(self.fc2(x))\n",
    "        x = self.fc3(x)\n",
    "        return x\n",
    "\n",
    "net = Net()"
   ]
  },
  {
   "cell_type": "markdown",
   "id": "b6a19a90",
   "metadata": {},
   "source": [
    "#### Определим функцию потерь и оптимизатор "
   ]
  },
  {
   "cell_type": "code",
   "execution_count": 6,
   "id": "0b0dade3",
   "metadata": {},
   "outputs": [],
   "source": [
    "import torch.optim as optim\n",
    "\n",
    "criterion = nn.CrossEntropyLoss()  # Функция потерь. \n",
    "#Есть альтернативный вариант MSELoss\n",
    "\n",
    "# Оптимизатор SGD - Стохастический градиентный оптимизатор. \n",
    "# Есть альтернативные варианты: AdaGrad, RMSProp, Adam\n",
    "optimizer = optim.SGD(net.parameters(), lr=0.001, momentum=0.9) \n",
    "# lr=0.001 - скорость обучения. Нужно подбирать!"
   ]
  },
  {
   "cell_type": "markdown",
   "id": "908dcf4b",
   "metadata": {},
   "source": [
    "#### Тренировка сети на тренировочных данных"
   ]
  },
  {
   "cell_type": "code",
   "execution_count": 9,
   "id": "bee67a28",
   "metadata": {},
   "outputs": [
    {
     "name": "stdout",
     "output_type": "stream",
     "text": [
      "[1,  2000] loss: 2.247\n",
      "[1,  4000] loss: 1.892\n",
      "[1,  6000] loss: 1.671\n",
      "[1,  8000] loss: 1.588\n",
      "[1, 10000] loss: 1.530\n",
      "[1, 12000] loss: 1.472\n",
      "12499\n",
      "[2,  2000] loss: 1.390\n",
      "[2,  4000] loss: 1.368\n",
      "[2,  6000] loss: 1.340\n",
      "[2,  8000] loss: 1.319\n",
      "[2, 10000] loss: 1.288\n",
      "[2, 12000] loss: 1.271\n",
      "12499\n",
      "Finished Training\n",
      "Working time: 67.92948794364929 seconds\n",
      " CPU times: user 4min 24s, sys: 5.66 s, total: 4min 30s\n",
      "Wall time: 1min 7s\n"
     ]
    }
   ],
   "source": [
    "# %%time\n",
    "# %%prun\n",
    "\n",
    "import time\n",
    "start_time = time.time()\n",
    "\n",
    "# Эпохи - \n",
    "# mini-batches - мини-пакеты -\n",
    "\n",
    "\n",
    "for epoch in range(2):  # loop over the dataset multiple times\n",
    "\n",
    "    running_loss = 0.0\n",
    "    for i, data in enumerate(trainloader, 0):    # мини-батчи ?\n",
    "        # get the inputs; data is a list of [inputs, labels]\n",
    "        inputs, labels = data\n",
    "\n",
    "        # zero the parameter gradients\n",
    "        # обнуление градиентов, вычисленных для предыдущего пакета\n",
    "        optimizer.zero_grad()    \n",
    "\n",
    "        # forward + backward + optimize\n",
    "        outputs = net(inputs)\n",
    "        loss = criterion(outputs, labels)\n",
    "        loss.backward()         # вычисляем градиенты\n",
    "        optimizer.step()        # корректировка весов\n",
    "\n",
    "        # print statistics\n",
    "        running_loss += loss.item()\n",
    "        if i % 2000 == 1999:    # print every 2000 mini-batches - как считается?\n",
    "            print('[%d, %5d] loss: %.3f' %\n",
    "                  (epoch + 1, i + 1, running_loss / 2000))\n",
    "            running_loss = 0.0\n",
    "    print(i)\n",
    "print('Finished Training')\n",
    "\n",
    "print(\"Working time: %s seconds\" % (time.time() - start_time))"
   ]
  },
  {
   "cell_type": "code",
   "execution_count": null,
   "id": "ccc1a6fc",
   "metadata": {},
   "outputs": [],
   "source": [
    "Без профайлера время выполнения:\n",
    "    Working time: 60.50507616996765 seconds\n",
    "С профайлером:\n",
    "    Working time: 68.91293144226074 seconds\n",
    "Первые строчки профайлера:\n",
    "         24453957 function calls (24278954 primitive calls) in 68.699 seconds\n",
    "\n",
    "   Ordered by: internal time\n",
    "\n",
    "   ncalls  tottime  percall  cumtime  percall filename:lineno(function)\n",
    "    25000   18.771    0.001   18.771    0.001 {method 'run_backward' of 'torch._C._EngineBase' objects}\n",
    "    50000    6.919    0.000    6.919    0.000 {built-in method conv2d}\n",
    "   350000    3.124    0.000    3.124    0.000 {built-in method posix.read}\n",
    "   250000    2.077    0.000    2.077    0.000 {method 'mul_' of 'torch._C._TensorBase' objects}\n",
    "    75000    1.863    0.000    1.863    0.000 {built-in method torch._C._nn.linear}\n",
    "   500000    1.675    0.000    1.675    0.000 {method 'add_' of 'torch._C._TensorBase' objects}"
   ]
  },
  {
   "cell_type": "markdown",
   "id": "c2cbdc83",
   "metadata": {},
   "source": [
    "#### Сохраняем нашу обученную модель:"
   ]
  },
  {
   "cell_type": "code",
   "execution_count": 38,
   "id": "f627fed4",
   "metadata": {},
   "outputs": [],
   "source": [
    "PATH = './cifar_net.pth'\n",
    "torch.save(net.state_dict(), PATH)"
   ]
  },
  {
   "cell_type": "markdown",
   "id": "4805ba02",
   "metadata": {},
   "source": [
    "#### Тестирование сети на тестовых данных. \n",
    "\n",
    "Часто используется подход: обучение -> валидация -> тестирование. И соответствующие наборы данных."
   ]
  },
  {
   "cell_type": "code",
   "execution_count": 39,
   "id": "fa77529c",
   "metadata": {},
   "outputs": [
    {
     "data": {
      "image/png": "[encoded data removed]",
      "text/plain": [
       "<Figure size 432x288 with 1 Axes>"
      ]
     },
     "metadata": {
      "needs_background": "light"
     },
     "output_type": "display_data"
    },
    {
     "name": "stdout",
     "output_type": "stream",
     "text": [
      "GroundTruth:    cat  ship  ship plane\n"
     ]
    }
   ],
   "source": [
    "dataiter = iter(testloader)\n",
    "images, labels = dataiter.next()\n",
    "\n",
    "# print images\n",
    "imshow(torchvision.utils.make_grid(images))\n",
    "print('GroundTruth: ', ' '.join('%5s' % classes[labels[j]] for j in range(4)))"
   ]
  },
  {
   "cell_type": "markdown",
   "id": "0d9ced8b",
   "metadata": {},
   "source": [
    "#### Теперь попросим нейронную сеть сообщить нам что на этих картинках:"
   ]
  },
  {
   "cell_type": "code",
   "execution_count": 40,
   "id": "24ef700d",
   "metadata": {},
   "outputs": [
    {
     "name": "stdout",
     "output_type": "stream",
     "text": [
      "Predicted:    cat  ship plane plane\n"
     ]
    }
   ],
   "source": [
    "net = Net()\n",
    "\n",
    "# Загрузка параметров модели из файла\n",
    "net.load_state_dict(torch.load(PATH))\n",
    "\n",
    "outputs = net(images)\n",
    "\n",
    "_, predicted = torch.max(outputs, 1)    # что значит _,  ?\n",
    "\n",
    "print('Predicted: ', ' '.join('%5s' % classes[predicted[j]]\n",
    "                              for j in range(4)))\n"
   ]
  },
  {
   "cell_type": "markdown",
   "id": "be5e9948",
   "metadata": {},
   "source": [
    "#### Посмотрим, как сеть работает на всем наборе данных."
   ]
  },
  {
   "cell_type": "code",
   "execution_count": 41,
   "id": "3e5dd74a",
   "metadata": {},
   "outputs": [
    {
     "name": "stdout",
     "output_type": "stream",
     "text": [
      "Accuracy of the network on the 10000 test images: 64 %\n"
     ]
    }
   ],
   "source": [
    "correct = 0\n",
    "total = 0\n",
    "with torch.no_grad():   # что значит no_grad() ?\n",
    "    for data in testloader:\n",
    "        images, labels = data\n",
    "        outputs = net(images)\n",
    "        _, predicted = torch.max(outputs.data, 1)\n",
    "        total += labels.size(0)\n",
    "        correct += (predicted == labels).sum().item()\n",
    "\n",
    "print('Accuracy of the network on the 10000 test images: %d %%' % (\n",
    "    100 * correct / total))"
   ]
  },
  {
   "cell_type": "markdown",
   "id": "84adfe86",
   "metadata": {},
   "source": [
    "#### Теперь посмотрим, какие классы сеть определяет лучше:"
   ]
  },
  {
   "cell_type": "code",
   "execution_count": 42,
   "id": "a2b576ab",
   "metadata": {},
   "outputs": [
    {
     "name": "stdout",
     "output_type": "stream",
     "text": [
      "Accuracy of plane : 71 %\n",
      "Accuracy of   car : 77 %\n",
      "Accuracy of  bird : 49 %\n",
      "Accuracy of   cat : 47 %\n",
      "Accuracy of  deer : 60 %\n",
      "Accuracy of   dog : 46 %\n",
      "Accuracy of  frog : 72 %\n",
      "Accuracy of horse : 66 %\n",
      "Accuracy of  ship : 76 %\n",
      "Accuracy of truck : 73 %\n"
     ]
    }
   ],
   "source": [
    "class_correct = list(0. for i in range(10))\n",
    "class_total = list(0. for i in range(10))\n",
    "with torch.no_grad():\n",
    "    for data in testloader:\n",
    "        images, labels = data\n",
    "        outputs = net(images)\n",
    "        _, predicted = torch.max(outputs, 1)\n",
    "        c = (predicted == labels).squeeze()\n",
    "        for i in range(4):\n",
    "            label = labels[i]\n",
    "            class_correct[label] += c[i].item()\n",
    "            class_total[label] += 1\n",
    "\n",
    "\n",
    "for i in range(10):\n",
    "    print('Accuracy of %5s : %2d %%' % (\n",
    "        classes[i], 100 * class_correct[i] / class_total[i]))"
   ]
  },
  {
   "cell_type": "markdown",
   "id": "5d25e4a7",
   "metadata": {},
   "source": [
    "#### Отправляем сеть на GPU:"
   ]
  },
  {
   "cell_type": "code",
   "execution_count": 7,
   "id": "6e8d5f1b",
   "metadata": {},
   "outputs": [
    {
     "data": {
      "text/plain": [
       "Net(\n",
       "  (conv1): Conv2d(3, 6, kernel_size=(5, 5), stride=(1, 1))\n",
       "  (pool): MaxPool2d(kernel_size=2, stride=2, padding=0, dilation=1, ceil_mode=False)\n",
       "  (conv2): Conv2d(6, 16, kernel_size=(5, 5), stride=(1, 1))\n",
       "  (fc1): Linear(in_features=400, out_features=120, bias=True)\n",
       "  (fc2): Linear(in_features=120, out_features=84, bias=True)\n",
       "  (fc3): Linear(in_features=84, out_features=10, bias=True)\n",
       ")"
      ]
     },
     "execution_count": 7,
     "metadata": {},
     "output_type": "execute_result"
    }
   ],
   "source": [
    "net.to(device)"
   ]
  },
  {
   "cell_type": "markdown",
   "id": "f6ee31de",
   "metadata": {},
   "source": [
    "Также нам придется отправлять входы и цели на каждом шаге и в GPU:\n",
    "\n",
    "inputs, labels = data[0].to(device), data[1].to(device)"
   ]
  },
  {
   "cell_type": "markdown",
   "id": "97f71692",
   "metadata": {},
   "source": [
    "#### Запустим повторное обучение сети уже на GPU: "
   ]
  },
  {
   "cell_type": "code",
   "execution_count": 11,
   "id": "63240dc1",
   "metadata": {},
   "outputs": [
    {
     "name": "stdout",
     "output_type": "stream",
     "text": [
      "[1,  2000] loss: 1.028\n",
      "[1,  4000] loss: 1.032\n",
      "[1,  6000] loss: 1.056\n",
      "[1,  8000] loss: 1.056\n",
      "[1, 10000] loss: 1.076\n",
      "[1, 12000] loss: 1.055\n",
      "[2,  2000] loss: 0.969\n",
      "[2,  4000] loss: 0.985\n",
      "[2,  6000] loss: 0.998\n",
      "[2,  8000] loss: 1.004\n",
      "[2, 10000] loss: 1.013\n",
      "[2, 12000] loss: 1.013\n",
      "Finished Training\n",
      "Working time: 56.64906024932861 seconds\n"
     ]
    }
   ],
   "source": [
    "# %%time\n",
    "# %%prun\n",
    "\n",
    "import time\n",
    "start_time = time.time()\n",
    "\n",
    "import torch.optim as optim\n",
    "\n",
    "criterion = nn.CrossEntropyLoss()\n",
    "optimizer = optim.SGD(net.parameters(), lr=0.001, momentum=0.9)\n",
    "for epoch in range(2):  # loop over the dataset multiple times\n",
    "\n",
    "    running_loss = 0.0\n",
    "    for i, data in enumerate(trainloader, 0):\n",
    "        # get the inputs; data is a list of [inputs, labels]\n",
    "        inputs, labels = data[0].to(device), data[1].to(device)\n",
    "\n",
    "        # zero the parameter gradients\n",
    "        optimizer.zero_grad()\n",
    "\n",
    "        # forward + backward + optimize\n",
    "        outputs = net(inputs)\n",
    "        loss = criterion(outputs, labels)\n",
    "        loss.backward()\n",
    "        optimizer.step()\n",
    "\n",
    "        # print statistics\n",
    "        running_loss += loss.item()\n",
    "        if i % 2000 == 1999:    # print every 2000 mini-batches\n",
    "            print('[%d, %5d] loss: %.3f' %\n",
    "                  (epoch + 1, i + 1, running_loss / 2000))\n",
    "            running_loss = 0.0\n",
    "\n",
    "print('Finished Training')\n",
    "\n",
    "print(\"Working time: %s seconds\" % (time.time() - start_time))"
   ]
  },
  {
   "cell_type": "code",
   "execution_count": null,
   "id": "96496e84",
   "metadata": {},
   "outputs": [],
   "source": [
    "Без профайлера время выполнения:\n",
    "    Working time: 58.505470275878906 seconds\n",
    "С профайлером:\n",
    "    Working time: 64.53588533401489 seconds\n",
    "Первые строчки профайлера:\n",
    " 24504260 function calls (24329246 primitive calls) in 64.327 seconds\n",
    "\n",
    "   Ordered by: internal time\n",
    "\n",
    "   ncalls  tottime  percall  cumtime  percall filename:lineno(function)\n",
    "    25000   15.599    0.001   15.599    0.001 {method 'run_backward' of 'torch._C._EngineBase' objects}\n",
    "    50000    3.282    0.000    3.282    0.000 {built-in method conv2d}\n",
    "   350000    3.086    0.000    3.086    0.000 {built-in method posix.read}\n",
    "   499990    2.903    0.000    2.903    0.000 {method 'add_' of 'torch._C._TensorBase' objects}\n",
    "    75000    2.425    0.000    2.425    0.000 {built-in method torch._C._nn.linear}\n",
    "   249990    2.284    0.000    2.284    0.000 {method 'mul_' of 'torch._C._TensorBase' objects}\n",
    "    50000    1.869    0.000    1.869    0.000 {method 'to' of 'torch._C._TensorBase' objects}\n",
    "   100000    1.851    0.000    1.851    0.000 {built-in method relu}"
   ]
  },
  {
   "cell_type": "markdown",
   "id": "ba11866b",
   "metadata": {},
   "source": [
    "#### Проверка использования видеопамяти"
   ]
  },
  {
   "cell_type": "code",
   "execution_count": 19,
   "id": "0aab7470",
   "metadata": {},
   "outputs": [
    {
     "name": "stdout",
     "output_type": "stream",
     "text": [
      "Mon Oct  4 11:15:58 2021       \r\n",
      "+-----------------------------------------------------------------------------+\r\n",
      "| NVIDIA-SMI 470.63.01    Driver Version: 470.63.01    CUDA Version: 11.4     |\r\n",
      "|-------------------------------+----------------------+----------------------+\r\n",
      "| GPU  Name        Persistence-M| Bus-Id        Disp.A | Volatile Uncorr. ECC |\r\n",
      "| Fan  Temp  Perf  Pwr:Usage/Cap|         Memory-Usage | GPU-Util  Compute M. |\r\n",
      "|                               |                      |               MIG M. |\r\n",
      "|===============================+======================+======================|\r\n",
      "|   0  NVIDIA GeForce ...  Off  | 00000000:20:00.0  On |                  N/A |\r\n",
      "| 36%   37C    P0    N/A /  30W |    660MiB /  1998MiB |      0%      Default |\r\n",
      "|                               |                      |                  N/A |\r\n",
      "+-------------------------------+----------------------+----------------------+\r\n",
      "                                                                               \r\n",
      "+-----------------------------------------------------------------------------+\r\n",
      "| Processes:                                                                  |\r\n",
      "|  GPU   GI   CI        PID   Type   Process name                  GPU Memory |\r\n",
      "|        ID   ID                                                   Usage      |\r\n",
      "|=============================================================================|\r\n",
      "|    0   N/A  N/A      1169      G   /usr/lib/xorg/Xorg                 35MiB |\r\n",
      "|    0   N/A  N/A      2979      C   .../dev/anaconda3/bin/python      617MiB |\r\n",
      "+-----------------------------------------------------------------------------+\r\n"
     ]
    }
   ],
   "source": [
    "!nvidia-smi"
   ]
  },
  {
   "cell_type": "code",
   "execution_count": 10,
   "id": "a0c606e1",
   "metadata": {},
   "outputs": [],
   "source": [
    "torch.cuda.empty_cache()"
   ]
  },
  {
   "cell_type": "code",
   "execution_count": null,
   "id": "f1da7413",
   "metadata": {},
   "outputs": [],
   "source": []
  }
 ],
 "metadata": {
  "kernelspec": {
   "display_name": "Python 3",
   "language": "python",
   "name": "python3"
  },
  "language_info": {
   "codemirror_mode": {
    "name": "ipython",
    "version": 3
   },
   "file_extension": ".py",
   "mimetype": "text/x-python",
   "name": "python",
   "nbconvert_exporter": "python",
   "pygments_lexer": "ipython3",
   "version": "3.8.8"
  }
 },
 "nbformat": 4,
 "nbformat_minor": 5
}
