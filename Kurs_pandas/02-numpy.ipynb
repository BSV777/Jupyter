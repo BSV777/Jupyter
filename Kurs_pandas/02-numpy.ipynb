{
 "cells": [
  {
   "cell_type": "markdown",
   "metadata": {},
   "source": [
    "# Курс \"Программирование на языке Python. Уровень 4. Анализ и визуализация данных на языке Python. Библиотеки numpy, pandas, matplotlib\"\n",
    "\n",
    "## Модуль 2. Библиотека numpy\n",
    "\n",
    "- Вспомним, что такое векторы, матрицы, тензоры, гиперплоскости и т.д. \n",
    "\n",
    "\n",
    "\n",
    "- Массивы (списки) в Python: индексы, срезы, итерация\n",
    "- Векторы и матрицы в numpy, типы данных numpy\n",
    "- Базовые операции в numpy: сложение, умножение, бродкаст\n",
    "- Как нужно и как не нужно использовать numpy\n",
    "- Линейная алгебра в numpy\n",
    "- Векторизация, практика\n",
    "\n",
    "\n"
   ]
  },
  {
   "cell_type": "markdown",
   "metadata": {},
   "source": [
    "## Массивы (списки) в Python: базовые операции, индексы, срезы, итерация"
   ]
  },
  {
   "cell_type": "code",
   "execution_count": 2,
   "metadata": {},
   "outputs": [],
   "source": [
    "# активируем numpy\n",
    "# если на этом этапе получаем сообщение об ошибке, выполняем pip install numpy / conda install numpy\n",
    "\n",
    "import numpy as np\n"
   ]
  },
  {
   "cell_type": "code",
   "execution_count": 2,
   "metadata": {},
   "outputs": [
    {
     "name": "stdout",
     "output_type": "stream",
     "text": [
      "['a', 'b', 1, 0.5, {'James': 'Brown', 'Luke': 'Skywalker'}]\n"
     ]
    }
   ],
   "source": [
    "# создать список\n",
    "list1 = ['a', 'b', 1, 0.5, {'James':'Brown', 'Luke':'Skywalker'}]\n",
    "list2 = list(range(5))\n",
    "\n",
    "#показать содержимое списка\n",
    "print(list1)\n",
    "\n",
    "#добавить элемент\n",
    "list1.append('Something New') # ['a', 'b', 1, 0.5, {'Luke': 'Skywalker', 'James': 'Brown'}, 'Something New']\n",
    "#убрать последний элемент (и вернуть его)\n",
    "list2.pop() # [0, 1, 2, 3]\n",
    "#сортировать (в порядке убывания)\n",
    "list2.sort(reverse = True)  # [3, 2, 1, 0]\n"
   ]
  },
  {
   "cell_type": "code",
   "execution_count": 3,
   "metadata": {},
   "outputs": [
    {
     "name": "stdout",
     "output_type": "stream",
     "text": [
      "[0, 1, 2, 3, 4]\n",
      "2\n",
      "2\n",
      "[2, 3]\n",
      "[2, 3, 4]\n",
      "[0, 1]\n",
      "[0, 1, 2, 3, 4]\n",
      "[0, 1, 2]\n",
      "[0, 2, 4]\n",
      "[1, 3]\n",
      "[0, 1, 8, 9, 4]\n"
     ]
    }
   ],
   "source": [
    "# обращение к элементам списка\n",
    "nums = list(range(5))     \n",
    "print(nums)               # выведет на экран \"[0, 1, 2, 3, 4]\"\n",
    "print(nums[2])            # выведет на экран 2-й элемент: \"2\"\n",
    "print(nums[-3])           # выведет на экран 3-й элемент с конца: \"2\"\n",
    "print(nums[2:4])          # выведет на экран срез со 2-го до 4-го: \"[2, 3]\"\n",
    "print(nums[2:])           # выведет на экран срез со 2-го и до конца: \"[2, 3, 4]\"\n",
    "print(nums[:2])           # выведет на экран срез с начала и до 2-го элемента \"[0, 1]\"\n",
    "print(nums[:])            # срез всего списка: \"[0, 1, 2, 3, 4]\"\n",
    "print(nums[:-2])          # отрицательный срез, все элементы, кроме двух в конце: \"[0, 1, 2]\"\n",
    "print(nums[::2])          # все четные элементы\n",
    "print(nums[1::2])         # все нечетные элементы\n",
    "nums[2:4] = [8, 9]        # заместит элементы со 2-го до 4-го списком [8, 9]\n",
    "print(nums)               # выведет на экран \"[0, 1, 8, 9, 4]\""
   ]
  },
  {
   "cell_type": "markdown",
   "metadata": {},
   "source": [
    "## Векторы и матрицы в numpy\n",
    "\n",
    "### Различные способы создания векторов и матриц"
   ]
  },
  {
   "cell_type": "code",
   "execution_count": 4,
   "metadata": {},
   "outputs": [
    {
     "name": "stdout",
     "output_type": "stream",
     "text": [
      "<class 'numpy.ndarray'>\n",
      "(3,)\n",
      "1 2 3\n",
      "[5 2 3]\n",
      "(2, 3)\n",
      "1 2 4\n"
     ]
    }
   ],
   "source": [
    "a = np.array([1, 2, 3])   # Создаем вектор как массив numpy, из списка\n",
    "print(type(a))            # выведет на экран \"<class 'numpy.ndarray'>\"\n",
    "print(a.shape)            # выведет на экран \"(3,)\"\n",
    "print(a[0], a[1], a[2])   # выведет на экран \"1 2 3\"\n",
    "a[0] = 5                  # Запишем что-нибудь в первый элемент\n",
    "print(a)                  # выведет на экран \"[5, 2, 3]\"\n",
    "\n",
    "b = np.array([[1,2,3],[4,5,6]])    # Создаем матрицу размера 2х3 из двух списков\n",
    "print(b.shape)                     # выведет на экран \"(2, 3)\"\n",
    "print(b[0, 0], b[0, 1], b[1, 0])   # выведет на экран \"1 2 4\""
   ]
  },
  {
   "cell_type": "code",
   "execution_count": 5,
   "metadata": {},
   "outputs": [
    {
     "name": "stdout",
     "output_type": "stream",
     "text": [
      "[0 1 2 3 4 5 6 7 8 9]\n",
      "[[0. 0.]\n",
      " [0. 0.]]\n",
      "[[1. 1.]]\n",
      "[[7 7]\n",
      " [7 7]]\n",
      "[[1. 0.]\n",
      " [0. 1.]]\n"
     ]
    },
    {
     "ename": "NameError",
     "evalue": "name 'random_matrix' is not defined",
     "output_type": "error",
     "traceback": [
      "\u001b[0;31m---------------------------------------------------------------------------\u001b[0m",
      "\u001b[0;31mNameError\u001b[0m                                 Traceback (most recent call last)",
      "\u001b[0;32m<ipython-input-5-6e52785f1771>\u001b[0m in \u001b[0;36m<module>\u001b[0;34m\u001b[0m\n\u001b[1;32m     11\u001b[0m \u001b[0mprint\u001b[0m\u001b[0;34m(\u001b[0m\u001b[0mall_sevens_2x2\u001b[0m\u001b[0;34m)\u001b[0m\u001b[0;34m\u001b[0m\u001b[0;34m\u001b[0m\u001b[0m\n\u001b[1;32m     12\u001b[0m \u001b[0mprint\u001b[0m\u001b[0;34m(\u001b[0m\u001b[0midentity_matrix\u001b[0m\u001b[0;34m)\u001b[0m\u001b[0;34m\u001b[0m\u001b[0;34m\u001b[0m\u001b[0m\n\u001b[0;32m---> 13\u001b[0;31m \u001b[0mprint\u001b[0m\u001b[0;34m(\u001b[0m\u001b[0mrandom_matrix\u001b[0m\u001b[0;34m)\u001b[0m\u001b[0;34m\u001b[0m\u001b[0;34m\u001b[0m\u001b[0m\n\u001b[0m",
      "\u001b[0;31mNameError\u001b[0m: name 'random_matrix' is not defined"
     ]
    }
   ],
   "source": [
    "# некоторые встроенные функции для создания специфических матриц\n",
    "nat_nums = np.arange(10) # вектор из натуральных чисел\n",
    "all_zeros_2x2 = np.zeros((2,2))   # Создаем нулевую матрицу размером 2x2\n",
    "all_ones_1x2 = np.ones((1,2))    # Единичная матрица размера 1x2\n",
    "all_sevens_2x2 = np.full((2,2), 7)  # Матрица 2х2, заполненная числом 7\n",
    "identity_matrix = np.eye(2)         # Матрица идентичности 2x2 (все эелементы - 0, главная диагональ - 1)\n",
    "\n",
    "print(nat_nums)\n",
    "print(all_zeros_2x2)\n",
    "print(all_ones_1x2)\n",
    "print(all_sevens_2x2)\n",
    "print(identity_matrix)\n",
    "print(random_matrix)"
   ]
  },
  {
   "cell_type": "markdown",
   "metadata": {},
   "source": [
    "### Случайные числа\n",
    "\n",
    "Используем подмодуль ```np.random```, его специально устанавливать не нужно."
   ]
  },
  {
   "cell_type": "code",
   "execution_count": 6,
   "metadata": {},
   "outputs": [
    {
     "name": "stdout",
     "output_type": "stream",
     "text": [
      "[[0.02804617 0.24606847]\n",
      " [0.67747742 0.7785153 ]]\n",
      "[[2 1 6]\n",
      " [6 4 2]\n",
      " [1 6 8]]\n",
      "[  0  10  20  30  40  50  60  70  80  90 100 110 120 130 140 150 160 170\n",
      " 180 190 200 210 220 230 240 250 260 270 280 290 300 310 320 330 340 350\n",
      " 360 370 380 390 400 410]\n",
      "[ 10 170 210]\n"
     ]
    },
    {
     "ename": "ValueError",
     "evalue": "a must be 1-dimensional",
     "output_type": "error",
     "traceback": [
      "\u001b[0;31m---------------------------------------------------------------------------\u001b[0m",
      "\u001b[0;31mValueError\u001b[0m                                Traceback (most recent call last)",
      "\u001b[0;32m<ipython-input-6-1699f16df37a>\u001b[0m in \u001b[0;36m<module>\u001b[0;34m\u001b[0m\n\u001b[1;32m      9\u001b[0m \u001b[0mprint\u001b[0m\u001b[0;34m(\u001b[0m\u001b[0mchoice\u001b[0m\u001b[0;34m)\u001b[0m\u001b[0;34m\u001b[0m\u001b[0;34m\u001b[0m\u001b[0m\n\u001b[1;32m     10\u001b[0m \u001b[0;34m\u001b[0m\u001b[0m\n\u001b[0;32m---> 11\u001b[0;31m \u001b[0mprint\u001b[0m\u001b[0;34m(\u001b[0m\u001b[0mnp\u001b[0m\u001b[0;34m.\u001b[0m\u001b[0mrandom\u001b[0m\u001b[0;34m.\u001b[0m\u001b[0mchoice\u001b[0m\u001b[0;34m(\u001b[0m\u001b[0mrandom_matrix\u001b[0m\u001b[0;34m,\u001b[0m \u001b[0;36m2\u001b[0m\u001b[0;34m)\u001b[0m\u001b[0;34m)\u001b[0m \u001b[0;31m# работает только с векторами\u001b[0m\u001b[0;34m\u001b[0m\u001b[0;34m\u001b[0m\u001b[0m\n\u001b[0m",
      "\u001b[0;32mmtrand.pyx\u001b[0m in \u001b[0;36mnumpy.random.mtrand.RandomState.choice\u001b[0;34m()\u001b[0m\n",
      "\u001b[0;31mValueError\u001b[0m: a must be 1-dimensional"
     ]
    }
   ],
   "source": [
    "random_matrix = np.random.random((2,2))  # Матрица 2x2 со случайно заданными вещ. числами от 0 до 1\n",
    "print(random_matrix)\n",
    "randint_matrix_3x3 = np.random.randint(0,10, (3,3)) # Матрица 3х3 со случайнами целыми числами\n",
    "print(randint_matrix_3x3)\n",
    "\n",
    "vec = np.arange(42) * 10\n",
    "print(vec)\n",
    "choice = np.random.choice(vec, 3) # выберет случаные 3 элемента из массива\n",
    "print(choice)\n",
    "\n",
    "print(np.random.choice(random_matrix, 2)) # работает только с векторами"
   ]
  },
  {
   "cell_type": "markdown",
   "metadata": {},
   "source": [
    "#### Практика\n",
    "\n",
    "Выполните следующие упражнения:\n",
    "\n"
   ]
  },
  {
   "cell_type": "code",
   "execution_count": 12,
   "metadata": {},
   "outputs": [
    {
     "name": "stdout",
     "output_type": "stream",
     "text": [
      "[1 2 3 4 5 6 7]\n",
      "[ 1  4  9 16 25 36 49 64 81]\n"
     ]
    }
   ],
   "source": [
    "# создайте вектор, состоящий из натуральных чисел от 1 до 7\n",
    "v_nat_1_7 = np.arange(1,8)\n",
    "print(v_nat_1_7)\n",
    "\n",
    "\n",
    "# создайте матрицу размером 2x3 из списка списков\n",
    "m_2x3 = np.array([[1,2,3],[4,5,6]])\n",
    "\n",
    "# создайте вектор, состоящий из квадратов натуральных чисел, начиная с 1 до 10\n",
    "v_sqrs = np.arange(1,10)**2\n",
    "print(v_sqrs)\n",
    "\n"
   ]
  },
  {
   "cell_type": "markdown",
   "metadata": {},
   "source": [
    "### Обращение к элементам матриц, срезы"
   ]
  },
  {
   "cell_type": "code",
   "execution_count": 13,
   "metadata": {},
   "outputs": [
    {
     "name": "stdout",
     "output_type": "stream",
     "text": [
      "3\n",
      "3\n",
      "2\n",
      "77\n",
      "[5 6 7 8]\n",
      "[[5 6 7 8]]\n",
      "[77  6 10]\n",
      "[[77]\n",
      " [ 6]\n",
      " [10]]\n"
     ]
    }
   ],
   "source": [
    "a = np.array([[1,2,3,4], [5,6,7,8], [9,10,11,12]])\n",
    "# [[ 1  2  3  4]\n",
    "#  [ 5  6  7  8]\n",
    "#  [ 9 10 11 12]]\n",
    "\n",
    "# Эти выражения эквивалентны\n",
    "print(a[0][2])\n",
    "print(a[0, 2]) # лучше использовать это, т.к. оно выполняется оптимальнее\n",
    "\n",
    "# Срежем: возьмем ряды с 0-го до 2-го и колонки с 1-й до 3-ей\n",
    "b = a[:2, 1:3]\n",
    "# [[2 3]\n",
    "#  [6 7]]\n",
    "\n",
    "## ВНИМАНИЕ: нулевое измерение - всегда \"по вертикали\", первое - по \"горизонтали\"!\n",
    "\n",
    "# Срез массива numpy - это представление оригинального массива\n",
    "# Попытка изменить там данные приведет к изменению оригинального массива\n",
    "print(a[0, 1])   # Выведет \"2\"\n",
    "b[0, 0] = 77     # b[0, 0] - то же самое, что и a[0, 1]\n",
    "print(a[0, 1])   # выведет на экран \"77\"\n",
    "\n",
    "# Срезы матриц можно получать как в виде векторов, так и 2-мерных матриц с размерностью 1xn или nx1\n",
    "print(a[1, :]) ## выведет на экран \"[5 6 7 8]\"\n",
    "print(a[1:2, :]) ## выведет на экран \"[[5 6 7 8]]\" \n",
    "print(a[:, 1]) ## выведет на экран \"[77  6 10]\"\n",
    "print(a[:, 1:2]) ## ВОПРОС: что эта команда выведет на экран?"
   ]
  },
  {
   "cell_type": "markdown",
   "metadata": {},
   "source": [
    "#### Практические задачи\n",
    "\n",
    "Выполните следующие упражнения:"
   ]
  },
  {
   "cell_type": "code",
   "execution_count": 30,
   "metadata": {},
   "outputs": [
    {
     "name": "stdout",
     "output_type": "stream",
     "text": [
      "[[ 1 77  3  4]\n",
      " [ 5  6  7  8]\n",
      " [ 9 10 11 12]]\n",
      "[[ 1 77]\n",
      " [ 5  6]]\n",
      "[[ 7  8]\n",
      " [11 12]]\n",
      "[ 3  7 11]\n",
      "[ 9 10 11 12]\n"
     ]
    }
   ],
   "source": [
    "print(a)\n",
    "\n",
    "# для матрицы a - сделайте срез в виде квадратных матриц 2x2 из левого верхнего левого и правого нижнего углов\n",
    "a_upper_left_2x2 = a[0:2, 0:2]\n",
    "\n",
    "print(a_upper_left_2x2)\n",
    "\n",
    "a_lower_right_2x2 = a[-2:, -2:]\n",
    "print(a_lower_right_2x2)\n",
    "\n",
    "# для той же матрицы получите в виде векторов\n",
    "# 2-й с конца столбец\n",
    "a_col_2 = a[:, -2]\n",
    "print(a_col_2)\n",
    "\n",
    "# последнюю строку\n",
    "a_last_row = a[-1, :]\n",
    "print(a_last_row)\n"
   ]
  },
  {
   "cell_type": "markdown",
   "metadata": {},
   "source": [
    "### Индексирование: булев индекс и индекс массивом целых чисел\n",
    "\n",
    "Для доступа к элементам массивов numpy можно использовать \"маску\" - матрицу булевых элементов, а также список целых чисел."
   ]
  },
  {
   "cell_type": "code",
   "execution_count": 31,
   "metadata": {},
   "outputs": [
    {
     "name": "stdout",
     "output_type": "stream",
     "text": [
      "[[False False]\n",
      " [ True  True]\n",
      " [ True  True]]\n",
      "[3 4 5 6]\n",
      "[3 4 5 6]\n"
     ]
    }
   ],
   "source": [
    "a = np.array([[1,2], [3, 4], [5, 6]])\n",
    "\n",
    "bool_idx = (a > 2)   # Эта команда возвращает массив numpy из булевых элементов\n",
    "                     # той же размерности, что и a. Его элементы True, если\n",
    "                     # соотв. элементы a > 2 \n",
    "\n",
    "print(bool_idx)      # выведет на экран \"[[False False]\n",
    "                     #                   [ True  True]\n",
    "                     #                   [ True  True]]\"\n",
    "\n",
    "# Используя эту матрицу, мы можем получить вектор из элементов матрицы a, которые соответсвуют условию\n",
    "print(a[bool_idx])  # выведет на экран \"[3 4 5 6]\"\n",
    "\n",
    "# ...и все это - одной строкой:\n",
    "print(a[a > 2])     # выведет на экран \"[3 4 5 6]\""
   ]
  },
  {
   "cell_type": "markdown",
   "metadata": {},
   "source": [
    "Для булевых масок определены следующие логические операции:\n",
    "- ```&``` - логическое \"и\"\n",
    "- ```|``` - логическое \"или\"\n",
    "- ```~``` - логическое отрицание.\n",
    "\n",
    "**Обратите внимание:** каждый операнд в логическом выражении порождает свою булеву маску, далее эти операторы работают как битовые, выполняя логические операции для каждого элемента масок-операндов."
   ]
  },
  {
   "cell_type": "code",
   "execution_count": 32,
   "metadata": {},
   "outputs": [
    {
     "name": "stdout",
     "output_type": "stream",
     "text": [
      "[[False False]\n",
      " [ True  True]\n",
      " [ True  True]]\n",
      "[[ True  True]\n",
      " [ True  True]\n",
      " [False False]]\n",
      "[[False False]\n",
      " [ True  True]\n",
      " [False False]]\n",
      "[3 4]\n",
      "[]\n"
     ]
    }
   ],
   "source": [
    "a = np.array([[1,2], [3, 4], [5, 6]])\n",
    "bm_1 = (a>2)\n",
    "bm_2 = (a<5)\n",
    "print( bm_1)\n",
    "print( bm_2 )\n",
    "print( bm_1 & bm_2 ) # \"&\" работает как \"and\" для каждого элемента маски-операнда\n",
    "print(a[ bm_1 & bm_2 ])\n",
    "\n",
    "print( a[ (a<2) & (a>5) ] ) # не забывайте про скобки для каждой анонимной булевой маски!"
   ]
  },
  {
   "cell_type": "markdown",
   "metadata": {},
   "source": [
    "\"Fancy indexing\" - индексирование массивом целых чисел."
   ]
  },
  {
   "cell_type": "code",
   "execution_count": 33,
   "metadata": {},
   "outputs": [
    {
     "name": "stdout",
     "output_type": "stream",
     "text": [
      "[ 0 10 20 30 40 50 60 70 80 90]\n",
      "[20 30 20 40 20]\n"
     ]
    }
   ],
   "source": [
    "a = np.arange(0, 100, 10)\n",
    "print(a) # [ 0 10 20 30 40 50 60 70 80 90]\n",
    "\n",
    "b = a[[2, 3, 2, 4, 2]] \n",
    "print(b) # [20 30 20 40 20]"
   ]
  },
  {
   "cell_type": "markdown",
   "metadata": {},
   "source": [
    "#### Практика\n",
    "\n",
    "Выполните следующие упражнения:\n",
    "\n",
    "1. Из среза в виде квадратной матрицы 3x3, взятой с правого конца, выберите следующие элементы:"
   ]
  },
  {
   "cell_type": "code",
   "execution_count": 38,
   "metadata": {},
   "outputs": [
    {
     "name": "stdout",
     "output_type": "stream",
     "text": [
      "[[ 2  3  4]\n",
      " [ 6  7  8]\n",
      " [10 11 12]]\n",
      "[2 3 4 6 7 8]\n",
      "[ 3  7 11]\n"
     ]
    }
   ],
   "source": [
    "a = np.array([[1,2,3,4], [5,6,7,8], [9,10,11,12]])\n",
    "\n",
    "a_3x3_last = a[-3:,-3:]\n",
    "print(a_3x3_last)\n",
    "\n",
    "# 1. те, которые меньше 10\n",
    "print(a_3x3_last[a_3x3_last<10])\n",
    "\n",
    "# 2. нечетные элементы\n",
    "print(a_3x3_last[a_3x3_last%2!=0])\n"
   ]
  },
  {
   "cell_type": "markdown",
   "metadata": {},
   "source": [
    "\n",
    "2. Создайте массив из 10 натуральных чисел и присвойте 3-м случайным элементам из этого массива число 5000."
   ]
  },
  {
   "cell_type": "code",
   "execution_count": 67,
   "metadata": {},
   "outputs": [
    {
     "name": "stdout",
     "output_type": "stream",
     "text": [
      "[  0 100 200 300 400 500 600 700 800 900]\n",
      "[5000  100 5000  300  400  500  600 5000  800  900]\n",
      "[0 1 2 3 4 5 6 7 8 9]\n"
     ]
    }
   ],
   "source": [
    "a = np.arange(0, 1000, 100)\n",
    "print(a)\n",
    "choise  = np.random.choice(np.arange(a.shape[0]), 3, replace=False)\n",
    "a[ choise ] = 5000\n",
    "print(a)\n",
    "print(np.arange(a.shape[0]))\n"
   ]
  },
  {
   "cell_type": "markdown",
   "metadata": {},
   "source": [
    "### Изменение форм и размерностей массивов numpy\n",
    "\n",
    "Изменить форму массива можно функцией ```reshape( dim )```, где dim - кортеж с новой размерностью массива. Будет возвращена копия объекта, но область данных останется неизменной, а изменения в оригинальном массиве будут отражены в порожденной копии. При этом, если одна из размерностей массива неизвестна, на ее месте можно указать ```-1```.\n",
    "\n",
    "Кортеж с текущей размерностью массива находится в его свойстве ```shape```.\n",
    "\n",
    "\"Плоское\" представление массива вернет метод ```ravel()```, а метод ```flatten()``` вернет его копию."
   ]
  },
  {
   "cell_type": "code",
   "execution_count": 68,
   "metadata": {},
   "outputs": [
    {
     "name": "stdout",
     "output_type": "stream",
     "text": [
      "[0 1 2 3 4 5 6 7 8]\n",
      "[[  0   1   2]\n",
      " [  3   4 100]\n",
      " [  6   7   8]]\n",
      "[  0   1   2   3   4 100   6   7   8]\n",
      "[  0   1   2   3   4 100   6   7   8]\n",
      "[  0   1   2   3 200 100   6   7   8]\n"
     ]
    }
   ],
   "source": [
    "a = np.arange(9) # [0 1 2 3 4 5 6 7 8]\n",
    "print(a)\n",
    "b = a.reshape((3,3)) \n",
    "# [[  0   1   2]\n",
    "#  [  3   4   5]\n",
    "#  [  6   7   8]]\n",
    "a[5] = 100\n",
    "print(b)\n",
    "# [[  0   1   2]\n",
    "#  [  3   4 100]\n",
    "#  [  6   7   8]]\n",
    "\n",
    "r = b.ravel()\n",
    "f = b.flatten()\n",
    "print(f)\n",
    "f[4] = 200\n",
    "print(a) # [  0   1   2   3   4 100   6   7   8]\n",
    "r[4] = 200\n",
    "print(a) # [  0   1   2   3 200 100   6   7   8]"
   ]
  },
  {
   "cell_type": "markdown",
   "metadata": {},
   "source": [
    "#### Практика\n",
    "\n",
    "Создайте матрицу случайной размерности от 2 до 16, заполненную нулями и на ее базе создайте новую матрицу, обратной размерности, заполненную случайными числами."
   ]
  },
  {
   "cell_type": "code",
   "execution_count": 87,
   "metadata": {},
   "outputs": [
    {
     "name": "stdout",
     "output_type": "stream",
     "text": [
      "[7 8]\n",
      "[8 7]\n"
     ]
    },
    {
     "data": {
      "text/plain": [
       "array([[0.17728601, 0.15027555, 0.9287091 , 0.87219443, 0.82985732,\n",
       "        0.50385251, 0.4110734 ],\n",
       "       [0.75049488, 0.42772064, 0.78433109, 0.89862753, 0.35892371,\n",
       "        0.41207053, 0.45614601],\n",
       "       [0.41470577, 0.93951914, 0.89447782, 0.94743154, 0.51021626,\n",
       "        0.43014412, 0.64400177],\n",
       "       [0.20407976, 0.63244322, 0.0990062 , 0.3569914 , 0.61736378,\n",
       "        0.95423382, 0.11424144],\n",
       "       [0.71617326, 0.74704268, 0.11587901, 0.15191047, 0.90806655,\n",
       "        0.26940002, 0.17866961],\n",
       "       [0.65100894, 0.96316965, 0.08434432, 0.54522768, 0.07162076,\n",
       "        0.58651012, 0.99422444],\n",
       "       [0.96372961, 0.7143975 , 0.25720118, 0.65529312, 0.87417284,\n",
       "        0.74653594, 0.24514782],\n",
       "       [0.89081374, 0.32613596, 0.6814352 , 0.25375616, 0.850628  ,\n",
       "        0.05072863, 0.28044333]])"
      ]
     },
     "execution_count": 87,
     "metadata": {},
     "output_type": "execute_result"
    }
   ],
   "source": [
    "dims = ( (14 * np.random.random(2) // 1) + 2).astype(dtype=np.int64)\n",
    "dims\n",
    "#c = np.random.random(dims.shape).reshape\n",
    "c=np.zeros(dims)\n",
    "d=np.random.random((dims[::-1]))\n",
    "print(dims)\n",
    "print(dims[::-1])\n",
    "d"
   ]
  },
  {
   "cell_type": "markdown",
   "metadata": {},
   "source": [
    "\n",
    "### Конкатенация  и разбиение массивов\n",
    "\n",
    "Используются функции ```concatenate()``` и ```split()```.\n"
   ]
  },
  {
   "cell_type": "code",
   "execution_count": 88,
   "metadata": {},
   "outputs": [
    {
     "name": "stdout",
     "output_type": "stream",
     "text": [
      "[[ 1  2  3]\n",
      " [ 4  5  6]\n",
      " [ 7  8  9]\n",
      " [10 11 12]]\n",
      "[[ 1  2  3  7  8  9]\n",
      " [ 4  5  6 10 11 12]]\n",
      "[[1 2 3]]\n",
      "[[4 5 6]]\n",
      "[[ 7  8  9]\n",
      " [10 11 12]]\n"
     ]
    }
   ],
   "source": [
    "arr1 = np.array([[1,2,3], [4,5,6]])\n",
    "arr2 = np.array([[7,8,9], [10,11,12]])\n",
    "concats_0 = np.concatenate([arr1, arr2], axis= 0) # вертикальная конкатенация, есть эквивалент vstack()\n",
    "print(concats_0)\n",
    "\n",
    "arr1 = np.array([[1,2,3], [4,5,6]])\n",
    "arr2 = np.array([[7,8,9], [10,11,12]])\n",
    "concats_1 = np.concatenate([arr1, arr2], axis= 1) # горизонтальная конкатенация, есть эксивалент hstack()\n",
    "print(concats_1)\n",
    "\n",
    "first, second, third = np.split(concats_0, [1,2], axis=0) # вертикальное разбиение\n",
    "print(first)\n",
    "print(second)\n",
    "print(third)\n",
    "\n"
   ]
  },
  {
   "cell_type": "code",
   "execution_count": 90,
   "metadata": {},
   "outputs": [
    {
     "data": {
      "text/plain": [
       "array([[ 3],\n",
       "       [ 6],\n",
       "       [ 9],\n",
       "       [12]])"
      ]
     },
     "execution_count": 90,
     "metadata": {},
     "output_type": "execute_result"
    }
   ],
   "source": [
    "x = concats_0[:, :-1]\n",
    "x\n",
    "y = concats_0[:, -1:]\n",
    "y"
   ]
  },
  {
   "cell_type": "markdown",
   "metadata": {},
   "source": [
    "### Типы данных numpy"
   ]
  },
  {
   "cell_type": "code",
   "execution_count": 96,
   "metadata": {},
   "outputs": [
    {
     "name": "stdout",
     "output_type": "stream",
     "text": [
      "int64\n",
      "float64\n",
      "float64\n",
      "<U32\n",
      "['1' '2' '2.5' 'john']\n"
     ]
    },
    {
     "data": {
      "text/plain": [
       "array(['1', '2', '2.5', 'john'], dtype='<U32')"
      ]
     },
     "execution_count": 96,
     "metadata": {},
     "output_type": "execute_result"
    }
   ],
   "source": [
    "x = np.array([1, 2])   # numpy сам подберет тип данных\n",
    "print(x.dtype)         # выведет на экран \"int64\"\n",
    "\n",
    "x = np.array([1.0, 2.0])   # Здесь numpy выберет float64\n",
    "print(x.dtype)             # выведет на экран \"float64\"\n",
    "\n",
    "x = np.array([1, 2], dtype=np.float64)   # Тут мы заставим numpy сконвертировать данные во float\n",
    "print(x.dtype)                         # выведет на экран \"float64\"\n",
    "\n",
    "# конвертация типов производится методом astype(), он возвращает копию текущего массива\n",
    "y = x.astype(dtype=np.int32) \n",
    "\n",
    "x = np.array([1, 2, 2.5, 'john'])   # Из-за такого тут будет сообщение об ошибке\n",
    "\n",
    "print(x.dtype)\n",
    "print(x)\n",
    "np.nan\n",
    "x\n"
   ]
  },
  {
   "cell_type": "markdown",
   "metadata": {},
   "source": [
    "### Операции с массивами numpy"
   ]
  },
  {
   "cell_type": "markdown",
   "metadata": {},
   "source": [
    "#### Поэлементные операции\n",
    "\n",
    "Выполняются для каждого элемента массива или среза."
   ]
  },
  {
   "cell_type": "code",
   "execution_count": 97,
   "metadata": {},
   "outputs": [
    {
     "name": "stdout",
     "output_type": "stream",
     "text": [
      "[[ 6.  8.]\n",
      " [10. 12.]]\n",
      "[[ 6.  8.]\n",
      " [10. 12.]]\n",
      "[[1.         1.41421356]\n",
      " [1.73205081 2.        ]]\n",
      "[[ 2.71828183  7.3890561 ]\n",
      " [20.08553692 54.59815003]]\n",
      "[[0.         0.69314718]\n",
      " [1.09861229 1.38629436]]\n"
     ]
    }
   ],
   "source": [
    "x = np.array([[1,2],[3,4]], dtype=np.float64)\n",
    "y = np.array([[5,6],[7,8]], dtype=np.float64)\n",
    "\n",
    "# Поэлементное сложение:\n",
    "print(np.add(x, y)) # можно использовать функцию add()\n",
    "print(x + y) # можно просто использовать оператор \"+\"\n",
    "# То же самое с другими арифметическими операциями: вычитанием, умножением и делением\n",
    "\n",
    "# Взятие квадратного корня\n",
    "print(np.sqrt(x))\n",
    "\n",
    "# Взятие экспоненты\n",
    "print(np.exp(x))\n",
    "\n",
    "# Логарифмирование\n",
    "print(np.log(x))\n",
    "\n",
    "# Другие операции над элементами массивов numpy - см. документацию"
   ]
  },
  {
   "cell_type": "markdown",
   "metadata": {},
   "source": [
    "#### Практика\n",
    "\n",
    "Выполните следующие упражнения:"
   ]
  },
  {
   "cell_type": "code",
   "execution_count": 104,
   "metadata": {},
   "outputs": [
    {
     "data": {
      "text/plain": [
       "array([[ 4,  6],\n",
       "       [12, 14],\n",
       "       [20, 22]])"
      ]
     },
     "execution_count": 104,
     "metadata": {},
     "output_type": "execute_result"
    }
   ],
   "source": [
    "a = np.array([[1,2,3,4], [5,6,7,8], [9,10,11,12]])\n",
    "\n",
    "# получите срез в виде квадратной матрицы 3x2, с левого конца\n",
    "a_3x2_left = a[:,:2]\n",
    "\n",
    "# 1. из него получите матрицу, содержащую эти элементы, возведенные в квадрат\n",
    "a_3x2_left2 = a_3x2_left **2\n",
    "a_3x2_left2\n",
    "\n",
    "# 2. возьмите срез 3x2 с правого конца и сложите со имеющимся срезом\n",
    "a_3x2_right = a[:, -2:]\n",
    "x = a_3x2_left + a_3x2_right\n",
    "x"
   ]
  },
  {
   "cell_type": "markdown",
   "metadata": {},
   "source": [
    "### Операции из области линейной алгебры\n",
    "\n",
    "Умножение матриц, скалярное произведение векторов (как частный случай умножения матриц), транспонирование - базовые функции пакета numpy.\n",
    "\n",
    "В модуле numpy.linalg еще есть встроенные функции для расчетов рангов матриц, определителей, вычисления собственных чисел, а также для решения линейных уравнений:\n",
    " - ```np.linalg.solve(A, b)``` - вычисляет единственное решение системы линейных уравнений, где A - квадратная матрица коэффициентов, b - вектор значений\n",
    " - ```np.linalg.matrix_rank(A)``` - вычисляет ранг матрицы\n",
    " - ```np.linalg.inv(A)``` - вычисляет обратную матрицу\n",
    " - ```np.linalg.eig(A)``` - вычисляет собственный вектор или собственное число матрицы"
   ]
  },
  {
   "cell_type": "code",
   "execution_count": 107,
   "metadata": {},
   "outputs": [
    {
     "name": "stdout",
     "output_type": "stream",
     "text": [
      "219\n",
      "219\n",
      "----------\n",
      "[29 67]\n",
      "[29 67]\n",
      "----------\n",
      "[[19 22]\n",
      " [43 50]]\n",
      "[[19 22]\n",
      " [43 50]]\n"
     ]
    }
   ],
   "source": [
    "# создаем две матрицы\n",
    "x = np.array([[1,2],[3,4]])\n",
    "y = np.array([[5,6],[7,8]])\n",
    "\n",
    "# и два вектора\n",
    "v = np.array([9,10])\n",
    "w = np.array([11, 12])\n",
    "\n",
    "# Скалярное произведение векторов; оба выражения дают 219\n",
    "print(v.dot(w))\n",
    "print(np.dot(v, w))\n",
    "\n",
    "print('-'*10)\n",
    "\n",
    "# Умножение матрицы на вектор, оба выражения возвращают вектор [29 67]\n",
    "print(x.dot(v))\n",
    "print(np.dot(x, v))\n",
    "\n",
    "print('-'*10)\n",
    "\n",
    "# Умножение матриц, в итоге получаем\n",
    "# [[19 22]\n",
    "#  [43 50]]\n",
    "print(x.dot(y))\n",
    "print(np.dot(x, y))"
   ]
  },
  {
   "cell_type": "markdown",
   "metadata": {},
   "source": [
    "### Бродкастинг (broadcasting)\n",
    "\n",
    "В русскоязычной литературе этот термин также встречается как \"укладывание\"."
   ]
  },
  {
   "cell_type": "code",
   "execution_count": 108,
   "metadata": {},
   "outputs": [
    {
     "name": "stdout",
     "output_type": "stream",
     "text": [
      "[[ 2  2  4]\n",
      " [ 5  5  7]\n",
      " [ 8  8 10]\n",
      " [11 11 13]]\n",
      "[[ 2  4  6]\n",
      " [ 8 10 12]\n",
      " [14 16 18]\n",
      " [20 22 24]]\n"
     ]
    }
   ],
   "source": [
    "# Добавим вектор v к каждой строке матрицы x\n",
    "# результат запишем в матрицу y\n",
    "x = np.array([[1,2,3], [4,5,6], [7,8,9], [10, 11, 12]])\n",
    "v = np.array([1, 0, 1])\n",
    "y = x + v  # Add v to each row of x using broadcasting\n",
    "print(y)  # результат \"[[ 2  2  4]\n",
    "          #          [ 5  5  7]\n",
    "          #          [ 8  8 10]\n",
    "          #          [11 11 13]]\"\n",
    "            \n",
    "            \n",
    "### как это было бы без бродкастинга\n",
    "y = np.empty_like(x)   # создаем пустой массив \"как x\"\n",
    "\n",
    "# В ЦИКЛЕ добываем векторы из x, складываем с v и записываем в y\n",
    "for i in range(4):\n",
    "    y[i, :] = x[i, :] + v\n",
    "\n",
    "# ИЛИ\n",
    "vv = np.tile(v, (4, 1))   # размножаем вектор v в матрицу той же размерности, что x\n",
    "y = x + vv  # скалыдваем\n",
    "# уже лучше, но все равно не то\n",
    "\n",
    "# Бродкастинг также работает и со скалярными данными\n",
    "y = (x * 2)\n",
    "print(y)\n",
    "# [[ 2  4  6]\n",
    "#  [ 8 10 12]\n",
    "#  [14 16 18]\n",
    "#  [20 22 24]]"
   ]
  },
  {
   "cell_type": "code",
   "execution_count": 112,
   "metadata": {},
   "outputs": [
    {
     "data": {
      "text/plain": [
       "array([[[ 2,  3,  4],\n",
       "        [ 4,  5,  6],\n",
       "        [ 7,  8,  9],\n",
       "        [11, 12, 13]]])"
      ]
     },
     "execution_count": 112,
     "metadata": {},
     "output_type": "execute_result"
    }
   ],
   "source": [
    "x = np.array([[1,2,3], [4,5,6], [7,8,9], [10, 11, 12]])\n",
    "v=np.array([1, 0, 0, 1])\n",
    "v.reshape((1, v.shape[0], 1)) + x"
   ]
  },
  {
   "cell_type": "markdown",
   "metadata": {},
   "source": [
    "### Агрегатные вычисления"
   ]
  },
  {
   "cell_type": "code",
   "execution_count": 113,
   "metadata": {},
   "outputs": [
    {
     "name": "stdout",
     "output_type": "stream",
     "text": [
      "78\n",
      "6.5\n",
      "24\n",
      "26\n"
     ]
    }
   ],
   "source": [
    "x = np.array([[1,2,3], [4,5,6], [7,8,9], [10, 11, 12]])\n",
    "\n",
    "print(x.sum()) # сумма\n",
    "\n",
    "print(x.mean()) # среднее\n",
    "\n",
    "print(x[2].sum()) # сумма по 2-й строке\n",
    "\n",
    "print(np.sum(x[:, 1])) # сумма по 1-му столбцу\n",
    "\n"
   ]
  },
  {
   "cell_type": "markdown",
   "metadata": {},
   "source": [
    "Функции ```max()``` и ```argmax()```:"
   ]
  },
  {
   "cell_type": "code",
   "execution_count": 114,
   "metadata": {},
   "outputs": [
    {
     "name": "stdout",
     "output_type": "stream",
     "text": [
      "[14 86 37 92 72 49 61  9 56  3]\n",
      "92\n",
      "3\n"
     ]
    }
   ],
   "source": [
    "a_vec = (np.random.random( 10 ) * 100).astype(dtype=np.int64)\n",
    "print(a_vec)\n",
    "print(a_vec.max()) # возвращает максимум\n",
    "print(a_vec.argmax()) # возвращает позицию для элемента с максимальным значением"
   ]
  },
  {
   "cell_type": "code",
   "execution_count": 117,
   "metadata": {},
   "outputs": [
    {
     "name": "stdout",
     "output_type": "stream",
     "text": [
      "[[7 0 2]\n",
      " [7 6 1]\n",
      " [8 3 0]] [7 0 2 7 6 1 8 3 0]\n"
     ]
    },
    {
     "data": {
      "text/plain": [
       "6"
      ]
     },
     "execution_count": 117,
     "metadata": {},
     "output_type": "execute_result"
    }
   ],
   "source": [
    "m = np.random.randint(0,10, (3,3)  )\n",
    "print(m, m.ravel())\n",
    "m.argmax() # вернет индекс как будто матрица \"раскатана\" в вектор"
   ]
  },
  {
   "cell_type": "markdown",
   "metadata": {},
   "source": [
    "#### Сортировка"
   ]
  },
  {
   "cell_type": "code",
   "execution_count": 130,
   "metadata": {},
   "outputs": [
    {
     "name": "stdout",
     "output_type": "stream",
     "text": [
      "[89 98 57  2 76 50 70  8 29 68]\n",
      "None\n",
      "[ 2  8 29 50 57 68 70 76 89 98]\n",
      "[98 89 76 70 68 57 50 29  8  2]\n",
      "CPU times: user 193 µs, sys: 29 µs, total: 222 µs\n",
      "Wall time: 181 µs\n",
      "[ 2  8 29 50 57 68 70 76 89 98]\n",
      "[ 2  8 29 50 57]\n"
     ]
    }
   ],
   "source": [
    "a_vec = (np.random.random( 10 ) * 100).astype(dtype=np.int64)\n",
    "print(a_vec)\n",
    "print(a_vec.sort())\n",
    "print(np.sort(a_vec))\n",
    "%time print(a_vec[np.argsort(-a_vec)])\n",
    "print(a_vec)\n",
    "#print(a_vec.argsort(reverse=True))\n",
    "print(a_vec[ a_vec.argsort()[:5] ])"
   ]
  },
  {
   "cell_type": "code",
   "execution_count": 127,
   "metadata": {},
   "outputs": [
    {
     "name": "stdout",
     "output_type": "stream",
     "text": [
      "CPU times: user 29 µs, sys: 5 µs, total: 34 µs\n",
      "Wall time: 37.2 µs\n"
     ]
    },
    {
     "data": {
      "text/plain": [
       "array([64, 61, 58, 27, 25, 23, 20, 17, 15,  7])"
      ]
     },
     "execution_count": 127,
     "metadata": {},
     "output_type": "execute_result"
    }
   ],
   "source": [
    "%time np.sort(a_vec)[::-1]"
   ]
  },
  {
   "cell_type": "markdown",
   "metadata": {},
   "source": [
    "### Как надо и как не надо пользоваться numpy\n",
    "\n",
    "Использование numpy неэффективно, если объекты numpy обрабатывать вне самого numpy. Подходите к данным как к векторам и матрицам, обрабатывайте их эффективно!"
   ]
  },
  {
   "cell_type": "code",
   "execution_count": 128,
   "metadata": {},
   "outputs": [
    {
     "name": "stdout",
     "output_type": "stream",
     "text": [
      "7.33 µs ± 797 ns per loop (mean ± std. dev. of 7 runs, 200 loops each)\n",
      "99.2 µs ± 20.1 µs per loop (mean ± std. dev. of 7 runs, 200 loops each)\n",
      "3.68 µs ± 958 ns per loop (mean ± std. dev. of 7 runs, 200 loops each)\n"
     ]
    }
   ],
   "source": [
    "# На примере задачи \"получить сумму  квадратов натуральных чисел от 0 до 1000\"\n",
    "# чистый python:\n",
    "%timeit -n200 x = sum(x*x for x in range(100))\n",
    "\n",
    "# наивный numpy - хуже чистого Python'а\n",
    "na = np.arange(1000)\n",
    "%timeit -n200 x = sum(na*na)\n",
    "\n",
    "# векторизованный numpy\n",
    "%timeit -n200 x = np.dot(na, na)"
   ]
  },
  {
   "cell_type": "markdown",
   "metadata": {},
   "source": [
    "## Практические задания\n",
    "\n",
    "Решите следующие простые задания, не прибегая к использованию циклов и исключая использование функций python, таких как ```sum()```, ```max()```, и т.д:"
   ]
  },
  {
   "cell_type": "code",
   "execution_count": 162,
   "metadata": {},
   "outputs": [
    {
     "name": "stdout",
     "output_type": "stream",
     "text": [
      "[2 6 3 1 2 1 9 7 3 4]\n",
      "1\n",
      "3\n",
      "[   2    6    3 -100    2 -100    9    7    3    4]\n",
      "[   4    3    7    9 -100    2 -100    3    6    2]\n",
      "[  6   9  10 -91 -98 -98 -91  10   9   6]\n",
      "-328\n",
      "36204\n",
      "36204\n"
     ]
    }
   ],
   "source": [
    "# создайте массив numpy из 10-ти случайных натуральных чисел\n",
    "a = np.random.randint(0, 10, (10))\n",
    "min_a = a.min()\n",
    "min_idx = a.argmin()\n",
    "\n",
    "print(a)\n",
    "print(min_a)\n",
    "print(min_idx)\n",
    "\n",
    "a[ a == min_a] = -100\n",
    "print(a)\n",
    "\n",
    "\n",
    "b = a[::-1]\n",
    "print(b)\n",
    "\n",
    "c = a + b\n",
    "print(c)\n",
    "\n",
    "print(c.sum())\n",
    "\n",
    "print(np.sum(c**2))\n",
    "print((c**2).sum())\n",
    "# найдите минимум в этом массиве и индекс этого минимального значения, замените этот элемент на -100\n",
    "\n",
    "\n",
    "# сложите этот массив с его \"зеркальным отображением\"\n",
    "# Палиндром\n",
    "\n",
    "# посчитайте сумму элементов получившегося массива\n",
    "\n",
    "# посчитайте сумму квадратов элементов получившегося массива"
   ]
  },
  {
   "cell_type": "markdown",
   "metadata": {},
   "source": [
    "1 . Решите систему уравнений методом solve:\n",
    "\n",
    "$\\begin{cases}\n",
    "x_1 - x_2 + x_3 = 3 \\\\\n",
    "2x_1 + x_2 + x_3 = 11 \\\\\n",
    "x_1 + x_2 + 2x_3 = 8\n",
    "\\end{cases}\n",
    "$"
   ]
  },
  {
   "cell_type": "code",
   "execution_count": 5,
   "metadata": {},
   "outputs": [
    {
     "data": {
      "text/plain": [
       "array([4., 2., 1.])"
      ]
     },
     "execution_count": 5,
     "metadata": {},
     "output_type": "execute_result"
    }
   ],
   "source": [
    "A = np.array([[1, -1, 1], [2, 1, 1], [1, 1, 2]])\n",
    "B = np.array([3, 11, 8])\n",
    "np.linalg.solve(A, B)\n"
   ]
  },
  {
   "cell_type": "markdown",
   "metadata": {},
   "source": [
    "2 . Решите систему уравнений методом обратной матрицы: $A * x = b$, $x = A^-1 * b$\n",
    "\n",
    "$\\begin{cases}\n",
    "2x_1 + x_2 - 2x_3 = -3 \\\\\n",
    "x_1 - 2x_2 + x_3 = 11 \\\\\n",
    "3x_1 + x_2 - x_3 = 0\n",
    "\\end{cases}\n",
    "$\n"
   ]
  },
  {
   "cell_type": "code",
   "execution_count": 9,
   "metadata": {},
   "outputs": [
    {
     "data": {
      "text/plain": [
       "array([ 1.75, -4.  ,  1.25])"
      ]
     },
     "execution_count": 9,
     "metadata": {},
     "output_type": "execute_result"
    }
   ],
   "source": [
    "a = [[2, 1, -2], [1, -2, 1], [3, 1, -1]]\n",
    "b = [-3, 11, 0]\n",
    "np.linalg.inv(a).dot(b)"
   ]
  },
  {
   "cell_type": "markdown",
   "metadata": {},
   "source": [
    "3 . Найдите расстояние от точки $M(1;0;-2)$  \n",
    "до плоскости, заданной уравнением $2x-y+2z=4$.\n",
    "\n",
    "Формула для рассчета расстояния от точки до плоскости:  \n",
    "$d_{01}=\\frac{\\left|\\left(\\bar r_0\\cdot \\bar n_1\\right)+D_1\\right|}{\\left|\\bar n_1\\right|}$, где $r_0$ - радиус-вектор к точке,  $n_1$ - вектор нормали к плоскости, $D_1$ - константа из уравнения плоскости."
   ]
  },
  {
   "cell_type": "code",
   "execution_count": 12,
   "metadata": {},
   "outputs": [
    {
     "data": {
      "text/plain": [
       "0.6666666666666666"
      ]
     },
     "execution_count": 12,
     "metadata": {},
     "output_type": "execute_result"
    }
   ],
   "source": [
    "M = np.array([1, 0, -2])\n",
    "n = np.array([2, -1, 2])\n",
    "D = 4\n",
    "d = np.abs(M.dot(n) + D) / np.sqrt(n.dot(n))\n",
    "d"
   ]
  },
  {
   "cell_type": "markdown",
   "metadata": {
    "collapsed": true
   },
   "source": [
    "#### Задачи на векторизацию, булевы маски и бродкастинг\n",
    "\n",
    "Требуется решить их с использованием объектов и функций библиотеки ```numpy```, без использования циклов, с минимальным количеством строк кода. \n",
    "\n",
    "1. Найти сумму ряда чисел от 0 до 100."
   ]
  },
  {
   "cell_type": "code",
   "execution_count": 15,
   "metadata": {},
   "outputs": [
    {
     "data": {
      "text/plain": [
       "4950"
      ]
     },
     "execution_count": 15,
     "metadata": {},
     "output_type": "execute_result"
    }
   ],
   "source": [
    "np.arange(100).sum()"
   ]
  },
  {
   "cell_type": "markdown",
   "metadata": {
    "collapsed": true
   },
   "source": [
    "2. Выведите списки чисел, из данного массива:\\\n",
    "    2.1 кратные 3-м \\\n",
    "    2.2 кратные 5-ти \\\n",
    "    2.3 кратные одновременно и 3-м, и 5-ти \\\n",
    "    2.4 кратные как 3-м, так и 5-ти, кроме четных чисел"
   ]
  },
  {
   "cell_type": "code",
   "execution_count": 25,
   "metadata": {},
   "outputs": [
    {
     "data": {
      "text/plain": [
       "array([ 0,  3,  6,  9, 12, 15, 18, 21, 24, 27, 30, 33, 36, 39, 42, 45, 48,\n",
       "       51, 54, 57, 60, 63, 66, 69, 72, 75, 78, 81, 84, 87, 90, 93, 96, 99])"
      ]
     },
     "execution_count": 25,
     "metadata": {},
     "output_type": "execute_result"
    }
   ],
   "source": [
    "n = np.arange(100)\n",
    "m_3 = (n % 3 == 0)\n",
    "b = n[m_3]\n",
    "b"
   ]
  },
  {
   "cell_type": "code",
   "execution_count": 26,
   "metadata": {},
   "outputs": [
    {
     "data": {
      "text/plain": [
       "array([ 0,  5, 10, 15, 20, 25, 30, 35, 40, 45, 50, 55, 60, 65, 70, 75, 80,\n",
       "       85, 90, 95])"
      ]
     },
     "execution_count": 26,
     "metadata": {},
     "output_type": "execute_result"
    }
   ],
   "source": [
    "m_5 = (n % 5 == 0)\n",
    "b = n[m_5]\n",
    "b"
   ]
  },
  {
   "cell_type": "code",
   "execution_count": 33,
   "metadata": {},
   "outputs": [
    {
     "name": "stdout",
     "output_type": "stream",
     "text": [
      "[ 0 15 30 45 60 75 90]\n"
     ]
    }
   ],
   "source": [
    "m_3 = (n % 3 == 0)\n",
    "m_5 = (a % 5 == 0)\n",
    "print(n[m_3 & m_5])"
   ]
  },
  {
   "cell_type": "code",
   "execution_count": 37,
   "metadata": {},
   "outputs": [
    {
     "name": "stdout",
     "output_type": "stream",
     "text": [
      "[15 45 75]\n"
     ]
    }
   ],
   "source": [
    "m_2 = (n % 2 == 0)\n",
    "print(n[m_3 & m_5 & ~m_2])"
   ]
  },
  {
   "cell_type": "markdown",
   "metadata": {
    "collapsed": true
   },
   "source": [
    "3. У вас есть матрица, столбцы которой содержат данные о диаметре и длине стальных циллиндрических прутков, которые подлежат покраске. Посчитайте расход краски в кг, если известно, что толщина покрытия - 0.001 мм, а плотность краски $5000 кг/м^3$."
   ]
  },
  {
   "cell_type": "code",
   "execution_count": 51,
   "metadata": {},
   "outputs": [
    {
     "name": "stdout",
     "output_type": "stream",
     "text": [
      "[[1.    0.02 ]\n",
      " [2.    0.02 ]\n",
      " [3.    0.025]\n",
      " [2.    0.025]\n",
      " [1.    0.015]]\n",
      "0.631892092361417\n",
      "0.631892092361417\n"
     ]
    }
   ],
   "source": [
    "M = np.array([[1, 2, 3 , 2, 1], [0.02, 0.02, 0.025, 0.025, 0.015]]).T\n",
    "print(M)\n",
    "D = M[:, 1]\n",
    "L = M[:, 0]\n",
    "S = (np.pi*D*L + 2*np.pi*(D/2)**2).sum()\n",
    "print(S)\n",
    "\n",
    "S = (np.pi * D.dot(L) + 0.5 * np.pi * D.dot(D)).sum()\n",
    "print(S)\n",
    "#V = S * h\n",
    "#W = V * ro"
   ]
  },
  {
   "cell_type": "markdown",
   "metadata": {},
   "source": [
    "4. Создайте матрицу размера MxN и заполните ее случайными числами в диапазоне от 0 до 1. \\\n",
    "    4.1 К каждой строке матрицы прибавьте ряд натуральных чисел от 0 до N. \\\n",
    "    4.2 К каждому столбцу матрицы прибавьте ряд десятков натуральных чисел от M*10 до 0 (например, 40, 30, 20, 10 etc)."
   ]
  },
  {
   "cell_type": "code",
   "execution_count": 71,
   "metadata": {},
   "outputs": [
    {
     "name": "stdout",
     "output_type": "stream",
     "text": [
      "[[1.7335275  2.59835836 3.10881334 4.8563137 ]\n",
      " [1.57394676 2.23367032 3.17213619 4.88717692]\n",
      " [1.39159994 2.47808181 3.29787458 4.60483697]\n",
      " [1.73760143 2.10200239 3.20719131 4.89402217]\n",
      " [1.65678644 2.22964584 3.99578776 4.635177  ]]\n",
      "[50 40 30 20 10]\n"
     ]
    },
    {
     "data": {
      "text/plain": [
       "array([[51.7335275 , 52.59835836, 53.10881334, 54.8563137 ],\n",
       "       [41.57394676, 42.23367032, 43.17213619, 44.88717692],\n",
       "       [31.39159994, 32.47808181, 33.29787458, 34.60483697],\n",
       "       [21.73760143, 22.10200239, 23.20719131, 24.89402217],\n",
       "       [11.65678644, 12.22964584, 13.99578776, 14.635177  ]])"
      ]
     },
     "execution_count": 71,
     "metadata": {},
     "output_type": "execute_result"
    }
   ],
   "source": [
    "M = 5\n",
    "N = 4\n",
    "A = np.random.random((M, N))\n",
    "L = np.arange(1, N + 1)\n",
    "print(A + L)\n",
    "T = np.arange(M * 10, 0, -10)\n",
    "print(T)\n",
    "K = T.reshape((M, 1))\n",
    "K + A + L"
   ]
  },
  {
   "cell_type": "code",
   "execution_count": null,
   "metadata": {},
   "outputs": [],
   "source": []
  },
  {
   "cell_type": "code",
   "execution_count": null,
   "metadata": {},
   "outputs": [],
   "source": []
  }
 ],
 "metadata": {
  "kernelspec": {
   "display_name": "Python 3",
   "language": "python",
   "name": "python3"
  },
  "language_info": {
   "codemirror_mode": {
    "name": "ipython",
    "version": 3
   },
   "file_extension": ".py",
   "mimetype": "text/x-python",
   "name": "python",
   "nbconvert_exporter": "python",
   "pygments_lexer": "ipython3",
   "version": "3.8.8"
  }
 },
 "nbformat": 4,
 "nbformat_minor": 2
}
