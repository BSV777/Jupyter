{
 "cells": [
  {
   "cell_type": "markdown",
   "metadata": {},
   "source": [
    "# Курс \"Программирование на языке Python. Уровень 4. Анализ и визуализация данных на языке Python. Библиотеки numpy, pandas, matplotlib\"\n",
    "\n",
    "## Модуль 2. Библиотека numpy\n",
    "\n",
    "- Вспомним, что такое векторы, матрицы, тензоры, гиперплоскости и т.д. \n",
    "\n",
    "\n",
    "\n",
    "- Массивы (списки) в Python: индексы, срезы, итерация\n",
    "- Векторы и матрицы в numpy, типы данных numpy\n",
    "- Базовые операции в numpy: сложение, умножение, бродкаст\n",
    "- Как нужно и как не нужно использовать numpy\n",
    "- Линейная алгебра в numpy\n",
    "- Векторизация, практика\n",
    "\n",
    "\n"
   ]
  },
  {
   "cell_type": "markdown",
   "metadata": {},
   "source": [
    "## Массивы (списки) в Python: базовые операции, индексы, срезы, итерация"
   ]
  },
  {
   "cell_type": "code",
   "execution_count": 2,
   "metadata": {},
   "outputs": [],
   "source": [
    "# активируем numpy\n",
    "# если на этом этапе получаем сообщение об ошибке, выполняем pip install numpy / conda install numpy\n",
    "\n",
    "import numpy as np\n"
   ]
  },
  {
   "cell_type": "code",
   "execution_count": 2,
   "metadata": {},
   "outputs": [
    {
     "name": "stdout",
     "output_type": "stream",
     "text": [
      "['a', 'b', 1, 0.5, {'James': 'Brown', 'Luke': 'Skywalker'}]\n"
     ]
    }
   ],
   "source": [
    "# создать список\n",
    "list1 = ['a', 'b', 1, 0.5, {'James':'Brown', 'Luke':'Skywalker'}]\n",
    "list2 = list(range(5))\n",
    "\n",
    "#показать содержимое списка\n",
    "print(list1)\n",
    "\n",
    "#добавить элемент\n",
    "list1.append('Something New') # ['a', 'b', 1, 0.5, {'Luke': 'Skywalker', 'James': 'Brown'}, 'Something New']\n",
    "#убрать последний элемент (и вернуть его)\n",
    "list2.pop() # [0, 1, 2, 3]\n",
    "#сортировать (в порядке убывания)\n",
    "list2.sort(reverse = True)  # [3, 2, 1, 0]\n"
   ]
  },
  {
   "cell_type": "code",
   "execution_count": 3,
   "metadata": {},
   "outputs": [
    {
     "name": "stdout",
     "output_type": "stream",
     "text": [
      "[0, 1, 2, 3, 4]\n",
      "2\n",
      "2\n",
      "[2, 3]\n",
      "[2, 3, 4]\n",
      "[0, 1]\n",
      "[0, 1, 2, 3, 4]\n",
      "[0, 1, 2]\n",
      "[0, 2, 4]\n",
      "[1, 3]\n",
      "[0, 1, 8, 9, 4]\n"
     ]
    }
   ],
   "source": [
    "# обращение к элементам списка\n",
    "nums = list(range(5))     \n",
    "print(nums)               # выведет на экран \"[0, 1, 2, 3, 4]\"\n",
    "print(nums[2])            # выведет на экран 2-й элемент: \"2\"\n",
    "print(nums[-3])           # выведет на экран 3-й элемент с конца: \"2\"\n",
    "print(nums[2:4])          # выведет на экран срез со 2-го до 4-го: \"[2, 3]\"\n",
    "print(nums[2:])           # выведет на экран срез со 2-го и до конца: \"[2, 3, 4]\"\n",
    "print(nums[:2])           # выведет на экран срез с начала и до 2-го элемента \"[0, 1]\"\n",
    "print(nums[:])            # срез всего списка: \"[0, 1, 2, 3, 4]\"\n",
    "print(nums[:-2])          # отрицательный срез, все элементы, кроме двух в конце: \"[0, 1, 2]\"\n",
    "print(nums[::2])          # все четные элементы\n",
    "print(nums[1::2])         # все нечетные элементы\n",
    "nums[2:4] = [8, 9]        # заместит элементы со 2-го до 4-го списком [8, 9]\n",
    "print(nums)               # выведет на экран \"[0, 1, 8, 9, 4]\""
   ]
  },
  {
   "cell_type": "markdown",
   "metadata": {},
   "source": [
    "## Векторы и матрицы в numpy\n",
    "\n",
    "### Различные способы создания векторов и матриц"
   ]
  },
  {
   "cell_type": "code",
   "execution_count": 4,
   "metadata": {},
   "outputs": [
    {
     "name": "stdout",
     "output_type": "stream",
     "text": [
      "<class 'numpy.ndarray'>\n",
      "(3,)\n",
      "1 2 3\n",
      "[5 2 3]\n",
      "(2, 3)\n",
      "1 2 4\n"
     ]
    }
   ],
   "source": [
    "a = np.array([1, 2, 3])   # Создаем вектор как массив numpy, из списка\n",
    "print(type(a))            # выведет на экран \"<class 'numpy.ndarray'>\"\n",
    "print(a.shape)            # выведет на экран \"(3,)\"\n",
    "print(a[0], a[1], a[2])   # выведет на экран \"1 2 3\"\n",
    "a[0] = 5                  # Запишем что-нибудь в первый элемент\n",
    "print(a)                  # выведет на экран \"[5, 2, 3]\"\n",
    "\n",
    "b = np.array([[1,2,3],[4,5,6]])    # Создаем матрицу размера 2х3 из двух списков\n",
    "print(b.shape)                     # выведет на экран \"(2, 3)\"\n",
    "print(b[0, 0], b[0, 1], b[1, 0])   # выведет на экран \"1 2 4\""
   ]
  },
  {
   "cell_type": "code",
   "execution_count": 7,
   "metadata": {},
   "outputs": [
    {
     "name": "stdout",
     "output_type": "stream",
     "text": [
      "[0 1 2 3 4 5 6 7 8 9]\n",
      "[[0. 0.]\n",
      " [0. 0.]]\n",
      "[[1. 1.]]\n",
      "[[7 7]\n",
      " [7 7]]\n",
      "[[1. 0.]\n",
      " [0. 1.]]\n"
     ]
    }
   ],
   "source": [
    "# некоторые встроенные функции для создания специфических матриц\n",
    "nat_nums = np.arange(10) # вектор из натуральных чисел\n",
    "all_zeros_2x2 = np.zeros( (2,2) )   # Создаем нулевую матрицу размером 2x2\n",
    "all_ones_1x2 = np.ones( (1,2) )    # Единичная матрица размера 1x2\n",
    "all_sevens_2x2 = np.full((2,2), 7)  # Матрица 2х2, заполненная числом 7\n",
    "identity_matrix = np.eye(2)         # Матрица идентичности 2x2 (все эелементы - 0, главная диагональ - 1)\n",
    "\n",
    "print(nat_nums)\n",
    "print(all_zeros_2x2)\n",
    "print(all_ones_1x2)\n",
    "print(all_sevens_2x2)\n",
    "print(identity_matrix)"
   ]
  },
  {
   "cell_type": "markdown",
   "metadata": {},
   "source": [
    "### Случайные числа\n",
    "\n",
    "Используем подмодуль ```np.random```, его специально устанавливать не нужно."
   ]
  },
  {
   "cell_type": "code",
   "execution_count": 8,
   "metadata": {},
   "outputs": [
    {
     "name": "stdout",
     "output_type": "stream",
     "text": [
      "[[0.77342175 0.04844335]\n",
      " [0.11483225 0.18010935]]\n",
      "[[7 5 5]\n",
      " [3 6 1]\n",
      " [2 3 1]]\n",
      "[  0  10  20  30  40  50  60  70  80  90 100 110 120 130 140 150 160 170\n",
      " 180 190 200 210 220 230 240 250 260 270 280 290 300 310 320 330 340 350\n",
      " 360 370 380 390 400 410]\n",
      "[310 180 270]\n"
     ]
    },
    {
     "ename": "ValueError",
     "evalue": "a must be 1-dimensional",
     "output_type": "error",
     "traceback": [
      "\u001b[0;31m---------------------------------------------------------------------------\u001b[0m",
      "\u001b[0;31mValueError\u001b[0m                                Traceback (most recent call last)",
      "\u001b[0;32m<ipython-input-8-1699f16df37a>\u001b[0m in \u001b[0;36m<module>\u001b[0;34m\u001b[0m\n\u001b[1;32m      9\u001b[0m \u001b[0mprint\u001b[0m\u001b[0;34m(\u001b[0m\u001b[0mchoice\u001b[0m\u001b[0;34m)\u001b[0m\u001b[0;34m\u001b[0m\u001b[0;34m\u001b[0m\u001b[0m\n\u001b[1;32m     10\u001b[0m \u001b[0;34m\u001b[0m\u001b[0m\n\u001b[0;32m---> 11\u001b[0;31m \u001b[0mprint\u001b[0m\u001b[0;34m(\u001b[0m\u001b[0mnp\u001b[0m\u001b[0;34m.\u001b[0m\u001b[0mrandom\u001b[0m\u001b[0;34m.\u001b[0m\u001b[0mchoice\u001b[0m\u001b[0;34m(\u001b[0m\u001b[0mrandom_matrix\u001b[0m\u001b[0;34m,\u001b[0m \u001b[0;36m2\u001b[0m\u001b[0;34m)\u001b[0m\u001b[0;34m)\u001b[0m \u001b[0;31m# работает только с векторами\u001b[0m\u001b[0;34m\u001b[0m\u001b[0;34m\u001b[0m\u001b[0m\n\u001b[0m",
      "\u001b[0;32mmtrand.pyx\u001b[0m in \u001b[0;36mnumpy.random.mtrand.RandomState.choice\u001b[0;34m()\u001b[0m\n",
      "\u001b[0;31mValueError\u001b[0m: a must be 1-dimensional"
     ]
    }
   ],
   "source": [
    "random_matrix = np.random.random((2,2))  # Матрица 2x2 со случайно заданными вещ. числами от 0 до 1\n",
    "print(random_matrix)\n",
    "randint_matrix_3x3 = np.random.randint(0,10, (3,3)) # Матрица 3х3 со случайнами целыми числами\n",
    "print(randint_matrix_3x3)\n",
    "\n",
    "vec = np.arange(42) * 10\n",
    "print(vec)\n",
    "choice = np.random.choice(vec, 3) # выберет случаные 3 элемента из массива\n",
    "print(choice)\n",
    "\n",
    "print(np.random.choice(random_matrix, 2)) # работает только с векторами"
   ]
  },
  {
   "cell_type": "markdown",
   "metadata": {},
   "source": [
    "#### Практика\n",
    "\n",
    "Выполните следующие упражнения:\n",
    "\n"
   ]
  },
  {
   "cell_type": "code",
   "execution_count": 12,
   "metadata": {},
   "outputs": [
    {
     "name": "stdout",
     "output_type": "stream",
     "text": [
      "[1 2 3 4 5 6 7]\n",
      "[[1 2 5]\n",
      " [2 4 6]]\n"
     ]
    },
    {
     "data": {
      "text/plain": [
       "array([ 1,  4,  9, 16, 25, 36, 49, 64, 81])"
      ]
     },
     "execution_count": 12,
     "metadata": {},
     "output_type": "execute_result"
    }
   ],
   "source": [
    "# создайте вектор, состоящий из натуральных чисел от 1 до 7\n",
    "v_nat_1_7 = np.arange(1,8)\n",
    "print(v_nat_1_7)\n",
    "\n",
    "\n",
    "# создайте матрицу размером 2x3 из списка списков\n",
    "m_2x3 = np.array([[1, 2, 5], [2, 4, 6]])\n",
    "print(m_2x3)\n",
    "\n",
    "# создайте вектор, состоящий из квадратов натуральных чисел, начиная с 1 до 10\n",
    "v_sqrs = np.arange(1, 10)**2\n",
    "v_sqrs\n",
    "\n"
   ]
  },
  {
   "cell_type": "markdown",
   "metadata": {},
   "source": [
    "### Обращение к элементам матриц, срезы"
   ]
  },
  {
   "cell_type": "code",
   "execution_count": 14,
   "metadata": {},
   "outputs": [
    {
     "name": "stdout",
     "output_type": "stream",
     "text": [
      "3\n",
      "3\n",
      "2\n",
      "77\n",
      "----\n",
      "[[ 1 77  3  4]\n",
      " [ 5  6  7  8]\n",
      " [ 9 10 11 12]]\n",
      "[5 6 7 8]\n",
      "[[5 6 7 8]]\n",
      "[77  6 10]\n",
      "[[77]\n",
      " [ 6]\n",
      " [10]]\n"
     ]
    }
   ],
   "source": [
    "a = np.array([[1,2,3,4], [5,6,7,8], [9,10,11,12]])\n",
    "# [[ 1  2  3  4]\n",
    "#  [ 5  6  7  8]\n",
    "#  [ 9 10 11 12]]\n",
    "\n",
    "# Эти выражения эквивалентны\n",
    "print(a[0][2])\n",
    "print(a[0, 2]) # лучше использовать это, т.к. оно выполняется оптимальнее\n",
    "\n",
    "# Срежем: возьмем ряды с 0-го до 2-го и колонки с 1-й до 3-ей\n",
    "b = a[:2, 1:3]\n",
    "# [[2 3]\n",
    "#  [6 7]]\n",
    "\n",
    "## ВНИМАНИЕ: нулевое измерение - всегда \"по вертикали\", первое - по \"горизонтали\"!\n",
    "\n",
    "# Срез массива numpy - это представление оригинального массива\n",
    "# Попытка изменить там данные приведет к изменению оригинального массива\n",
    "print(a[0, 1])   # Выведет \"2\"\n",
    "b[0, 0] = 77     # b[0, 0] - то же самое, что и a[0, 1]\n",
    "print(a[0, 1])   # выведет на экран \"77\"\n",
    "\n",
    "print('----')\n",
    "print(a)\n",
    "# Срезы матриц можно получать как в виде векторов, так и 2-мерных матриц с размерностью 1xn или nx1\n",
    "print(a[1, :]) ## выведет на экран \"[5 6 7 8]\"\n",
    "print(a[1:2, :]) ## выведет на экран \"[[5 6 7 8]]\" \n",
    "print(a[:, 1]) ## выведет на экран \"[77  6 10]\"\n",
    "print(a[:, 1:2]) ## ВОПРОС: что эта команда выведет на экран?"
   ]
  },
  {
   "cell_type": "markdown",
   "metadata": {},
   "source": [
    "#### Практические задачи\n",
    "\n",
    "Выполните следующие упражнения:"
   ]
  },
  {
   "cell_type": "code",
   "execution_count": 22,
   "metadata": {},
   "outputs": [
    {
     "name": "stdout",
     "output_type": "stream",
     "text": [
      "[[ 1 77  3  4]\n",
      " [ 5  6  7  8]\n",
      " [ 9 10 11 12]]\n",
      "[[ 1 77]\n",
      " [ 5  6]]\n",
      "[[ 7  8]\n",
      " [11 12]]\n",
      "[ 3  7 11]\n"
     ]
    }
   ],
   "source": [
    "print(a)\n",
    "\n",
    "# для матрицы a - сделайте срез в виде квадратных матриц 2x2 из левого верхнего левого \n",
    "# и правого нижнего углов\n",
    "a_upper_left_2x2 = a[:2,:2]\n",
    "print(a_upper_left_2x2)\n",
    "\n",
    "a_lower_right_2x2 = a[-2:, -2:]\n",
    "print(a_lower_right_2x2)\n",
    "\n",
    "# # для той же матрицы получите в виде векторов\n",
    "# # 2-й с конца столбец\n",
    "a_col_2 = a[:, -2]\n",
    "print(a_col_2)\n",
    "\n",
    "# # последнюю строку\n",
    "a_last_row = a[-1, : ]\n"
   ]
  },
  {
   "cell_type": "markdown",
   "metadata": {},
   "source": [
    "### Индексирование: булев индекс и индекс массивом целых чисел\n",
    "\n",
    "Для доступа к элементам массивов numpy можно использовать \"маску\" - матрицу булевых элементов, а также список целых чисел."
   ]
  },
  {
   "cell_type": "code",
   "execution_count": 24,
   "metadata": {},
   "outputs": [
    {
     "name": "stdout",
     "output_type": "stream",
     "text": [
      "[[1 2]\n",
      " [3 4]\n",
      " [5 6]]\n",
      "[[False False]\n",
      " [ True  True]\n",
      " [ True  True]]\n",
      "[3 4 5 6]\n",
      "[3 4 5 6]\n"
     ]
    }
   ],
   "source": [
    "a = np.array([[1,2], [3, 4], [5, 6]])\n",
    "\n",
    "print(a)\n",
    "\n",
    "bool_idx = (a > 2)   # Эта команда возвращает массив numpy из булевых элементов\n",
    "                     # той же размерности, что и a. Его элементы True, если\n",
    "                     # соотв. элементы a > 2 \n",
    "\n",
    "print(bool_idx)      # выведет на экран \"[[False False]\n",
    "                     #                   [ True  True]\n",
    "                     #                   [ True  True]]\"\n",
    "\n",
    "# Используя эту матрицу, мы можем получить вектор из элементов матрицы a, \n",
    "# которые соответсвуют условию\n",
    "print(a[ bool_idx ])  # выведет на экран \"[3 4 5 6]\"\n",
    "\n",
    "# ...и все это - одной строкой:\n",
    "print(a[ a > 2 ])     # выведет на экран \"[3 4 5 6]\""
   ]
  },
  {
   "cell_type": "code",
   "execution_count": null,
   "metadata": {},
   "outputs": [],
   "source": [
    "1001  \n",
    "0001\n",
    "----\n",
    "1001 ~\n",
    "0110"
   ]
  },
  {
   "cell_type": "markdown",
   "metadata": {},
   "source": [
    "Для булевых масок определены следующие логические операции:\n",
    "- ```&``` - логическое \"и\"\n",
    "- ```|``` - логическое \"или\"\n",
    "- ```~``` - логическое отрицание.\n",
    "\n",
    "**Обратите внимание:** каждый операнд в логическом выражении порождает свою булеву маску, далее эти операторы работают как битовые, выполняя логические операции для каждого элемента масок-операндов."
   ]
  },
  {
   "cell_type": "code",
   "execution_count": 33,
   "metadata": {},
   "outputs": [
    {
     "name": "stdout",
     "output_type": "stream",
     "text": [
      "-----\n",
      "[[False False]\n",
      " [ True  True]\n",
      " [ True  True]]\n",
      "[[ True  True]\n",
      " [ True  True]\n",
      " [False False]]\n",
      "-----\n",
      "[[False False]\n",
      " [ True  True]\n",
      " [False False]]\n",
      "-----\n",
      "[3 4]\n",
      "-----\n",
      "[1]\n"
     ]
    }
   ],
   "source": [
    "a = np.array([[1,2], [3, 4], [5, 6]])\n",
    "bm_1 = (a>2)\n",
    "bm_2 = (a<5)\n",
    "print('-'*5)\n",
    "print( bm_1)\n",
    "print( bm_2 )\n",
    "\n",
    "print('-'*5)\n",
    "\n",
    "print( bm_1 & bm_2 ) # \"&\" работает как \"and\" для каждого элемента маски-операнда\n",
    "\n",
    "print('-'*5)\n",
    "\n",
    "print(a[ bm_1 & bm_2 ])\n",
    "\n",
    "print('-'*5)\n",
    "\n",
    "print( a[ (a<2) & ~(a>5) ] ) # не забывайте про скобки для каждой анонимной булевой маски!~"
   ]
  },
  {
   "cell_type": "markdown",
   "metadata": {},
   "source": [
    "\"Fancy indexing\" - индексирование массивом целых чисел."
   ]
  },
  {
   "cell_type": "code",
   "execution_count": 34,
   "metadata": {},
   "outputs": [
    {
     "name": "stdout",
     "output_type": "stream",
     "text": [
      "[ 0 10 20 30 40 50 60 70 80 90]\n",
      "[20 30 20 40 20]\n"
     ]
    }
   ],
   "source": [
    "a = np.arange(0, 100, 10)\n",
    "print(a) # [ 0 10 20 30 40 50 60 70 80 90]\n",
    "\n",
    "b = a[ [2, 3, 2, 4, 2] ] \n",
    "print(b) # [20 30 20 40 20]"
   ]
  },
  {
   "cell_type": "markdown",
   "metadata": {},
   "source": [
    "#### Практика\n",
    "\n",
    "Выполните следующие упражнения:\n",
    "\n",
    "1. Из среза в виде квадратной матрицы 3x3, взятой с правого конца, выберите следующие элементы:"
   ]
  },
  {
   "cell_type": "code",
   "execution_count": 36,
   "metadata": {},
   "outputs": [
    {
     "name": "stdout",
     "output_type": "stream",
     "text": [
      "[[ 2  3  4]\n",
      " [ 6  7  8]\n",
      " [10 11 12]]\n",
      "[2 3 4 6 7 8]\n",
      "[ 3  7 11]\n"
     ]
    }
   ],
   "source": [
    "a = np.array([[1,2,3,4], [5,6,7,8], [9,10,11,12]])\n",
    "\n",
    "a_3x3_last = a[-3:,-3:]\n",
    "print(a_3x3_last)\n",
    "\n",
    "# 1. те, которые меньше 10\n",
    "print(a_3x3_last[ a_3x3_last < 10 ])\n",
    "\n",
    "# 2. нечетные элементы\n",
    "print(a_3x3_last[ a_3x3_last%2 != 0 ])\n"
   ]
  },
  {
   "cell_type": "markdown",
   "metadata": {},
   "source": [
    "\n",
    "2. Создайте массив из 10 натуральных чисел и присвойте 3-м случайным элементам из этого массива число 5000."
   ]
  },
  {
   "cell_type": "code",
   "execution_count": 69,
   "metadata": {},
   "outputs": [
    {
     "name": "stdout",
     "output_type": "stream",
     "text": [
      "[  0 100 200 300 400 500 600 700 800 900]\n",
      "[2 3 5]\n"
     ]
    },
    {
     "data": {
      "text/plain": [
       "array([   0,  100, 5000, 5000,  400, 5000,  600,  700,  800,  900])"
      ]
     },
     "execution_count": 69,
     "metadata": {},
     "output_type": "execute_result"
    }
   ],
   "source": [
    "a = np.arange(0, 1000, 100)\n",
    "print(a)\n",
    "\n",
    "# ваш код здесь\n",
    "choice = np.random.choice( np.arange(a.shape[0]), 3, replace=False)\n",
    "print(choice)\n",
    "a[ choice ] = 5000\n",
    "a"
   ]
  },
  {
   "cell_type": "code",
   "execution_count": 55,
   "metadata": {},
   "outputs": [],
   "source": [
    "np.random.choice?"
   ]
  },
  {
   "cell_type": "markdown",
   "metadata": {},
   "source": [
    "### Изменение форм и размерностей массивов numpy\n",
    "\n",
    "Изменить форму массива можно функцией ```reshape( dim )```, где dim - кортеж с новой размерностью массива. Будет возвращена копия объекта, но область данных останется неизменной, а изменения в оригинальном массиве будут отражены в порожденной копии. При этом, если одна из размерностей массива неизвестна, на ее месте можно указать ```-1```.\n",
    "\n",
    "Кортеж с текущей размерностью массива находится в его свойстве ```shape```.\n",
    "\n",
    "\"Плоское\" представление массива вернет метод ```ravel()```, а метод ```flatten()``` вернет его копию."
   ]
  },
  {
   "cell_type": "code",
   "execution_count": 71,
   "metadata": {},
   "outputs": [
    {
     "name": "stdout",
     "output_type": "stream",
     "text": [
      "[0 1 2 3 4 5 6 7 8]\n",
      "[[  0   1   2]\n",
      " [  3   4 100]\n",
      " [  6   7   8]]\n",
      "----------\n",
      "[  0   1   2   3   4 100   6   7   8]\n",
      "[  0   1   2   3   4 100   6   7   8]\n",
      "[  0   1   2   3 200 100   6   7   8]\n"
     ]
    }
   ],
   "source": [
    "a = np.arange(9) # [0 1 2 3 4 5 6 7 8]\n",
    "print(a)\n",
    "b = a.reshape((3,3)) \n",
    "# [[  0   1   2]\n",
    "#  [  3   4   5]\n",
    "#  [  6   7   8]]\n",
    "a[5] = 100\n",
    "print(b)\n",
    "# [[  0   1   2]\n",
    "#  [  3   4 100]\n",
    "#  [  6   7   8]]\n",
    "print('-'*10)\n",
    "r = b.ravel()\n",
    "f = b.flatten()\n",
    "print(f)\n",
    "f[4] = 200\n",
    "print(a) # [  0   1   2   3   4 100   6   7   8]\n",
    "r[4] = 200\n",
    "print(a) # [  0   1   2   3 200 100   6   7   8]"
   ]
  },
  {
   "cell_type": "markdown",
   "metadata": {},
   "source": [
    "#### Практика\n",
    "\n",
    "Создайте матрицу случайной размерности от 2 до 16, заполненную нулями и на ее базе создайте новую матрицу, обратной размерности, заполненную случайными числами."
   ]
  },
  {
   "cell_type": "code",
   "execution_count": 79,
   "metadata": {},
   "outputs": [
    {
     "data": {
      "text/plain": [
       "array([[0.21238078, 0.91704051],\n",
       "       [0.12405593, 0.0626082 ],\n",
       "       [0.17346119, 0.05014416],\n",
       "       [0.55119856, 0.19927238],\n",
       "       [0.04335126, 0.37170699],\n",
       "       [0.50892869, 0.06208005],\n",
       "       [0.87447865, 0.27078887],\n",
       "       [0.71680773, 0.56898815],\n",
       "       [0.43158627, 0.01717652],\n",
       "       [0.22225457, 0.17523663],\n",
       "       [0.22254725, 0.34758774]])"
      ]
     },
     "execution_count": 79,
     "metadata": {},
     "output_type": "execute_result"
    }
   ],
   "source": [
    "dims = ( (14 * np.random.random(2) // 1) + 2).astype(dtype=np.int64)\n",
    "# ваш код здесь\n",
    "a = np.zeros(dims)\n",
    "b = np.random.random( (dims[::-1] ) )\n",
    "b"
   ]
  },
  {
   "cell_type": "markdown",
   "metadata": {},
   "source": [
    "\n",
    "### Конкатенация  и разбиение массивов\n",
    "\n",
    "Используются функции ```concatenate()``` и ```split()```.\n"
   ]
  },
  {
   "cell_type": "code",
   "execution_count": 80,
   "metadata": {},
   "outputs": [
    {
     "name": "stdout",
     "output_type": "stream",
     "text": [
      "[[ 1  2  3]\n",
      " [ 4  5  6]\n",
      " [ 7  8  9]\n",
      " [10 11 12]]\n",
      "[[ 1  2  3  7  8  9]\n",
      " [ 4  5  6 10 11 12]]\n",
      "[[1 2 3]]\n",
      "[[4 5 6]]\n",
      "[[ 7  8  9]\n",
      " [10 11 12]]\n"
     ]
    }
   ],
   "source": [
    "arr1 = np.array([[1,2,3], [4,5,6]])\n",
    "arr2 = np.array([[7,8,9], [10,11,12]])\n",
    "concats_0 = np.concatenate([arr1, arr2], axis= 0) # вертикальная конкатенация, есть эквивалент vstack()\n",
    "print(concats_0)\n",
    "\n",
    "arr1 = np.array([[1,2,3], [4,5,6]])\n",
    "arr2 = np.array([[7,8,9], [10,11,12]])\n",
    "concats_1 = np.concatenate([arr1, arr2], axis= 1) # горизонтальная конкатенация, есть эксивалент hstack()\n",
    "print(concats_1)\n",
    "\n",
    "first, second, third = np.split(concats_0, [1,2], axis=0) # вертикальное разбиение\n",
    "print(first)\n",
    "print(second)\n",
    "print(third)"
   ]
  },
  {
   "cell_type": "code",
   "execution_count": 84,
   "metadata": {},
   "outputs": [
    {
     "name": "stdout",
     "output_type": "stream",
     "text": [
      "[[ 1  2]\n",
      " [ 4  5]\n",
      " [ 7  8]\n",
      " [10 11]]\n"
     ]
    },
    {
     "data": {
      "text/plain": [
       "array([[ 3],\n",
       "       [ 6],\n",
       "       [ 9],\n",
       "       [12]])"
      ]
     },
     "execution_count": 84,
     "metadata": {},
     "output_type": "execute_result"
    }
   ],
   "source": [
    "X = concats_0[:, :-1]\n",
    "print(X)\n",
    "y = concats_0[:, -1:]\n",
    "y"
   ]
  },
  {
   "cell_type": "markdown",
   "metadata": {},
   "source": [
    "### Типы данных numpy"
   ]
  },
  {
   "cell_type": "code",
   "execution_count": 90,
   "metadata": {},
   "outputs": [
    {
     "name": "stdout",
     "output_type": "stream",
     "text": [
      "int64\n",
      "float64\n",
      "float64\n"
     ]
    },
    {
     "data": {
      "text/plain": [
       "{'zz': 'ww'}"
      ]
     },
     "execution_count": 90,
     "metadata": {},
     "output_type": "execute_result"
    }
   ],
   "source": [
    "x = np.array([1, 2])   # numpy сам подберет тип данных\n",
    "print(x.dtype)         # выведет на экран \"int64\"\n",
    "\n",
    "x = np.array([1.0, 2.0])   # Здесь numpy выберет float64\n",
    "print(x.dtype)             # выведет на экран \"float64\"\n",
    "\n",
    "x = np.array([1, 2], dtype=np.float64)   # Тут мы заставим numpy сконвертировать данные во float\n",
    "print(x.dtype)                         # выведет на экран \"float64\"\n",
    "\n",
    "# конвертация типов производится методом astype(), он возвращает копию текущего массива\n",
    "y = x.astype(dtype=np.int32) \n",
    "\n",
    "x = np.array([1, 2, 2.5, 'john', {'zz':'ww'}])   # Из-за такого тут будет сообщение об ошибке\n",
    "x[-1]\n",
    "\n"
   ]
  },
  {
   "cell_type": "markdown",
   "metadata": {},
   "source": [
    "### Операции с массивами numpy"
   ]
  },
  {
   "cell_type": "markdown",
   "metadata": {},
   "source": [
    "#### Поэлементные операции\n",
    "\n",
    "Выполняются для каждого элемента массива или среза."
   ]
  },
  {
   "cell_type": "code",
   "execution_count": 91,
   "metadata": {},
   "outputs": [
    {
     "name": "stdout",
     "output_type": "stream",
     "text": [
      "[[ 6.  8.]\n",
      " [10. 12.]]\n",
      "[[ 6.  8.]\n",
      " [10. 12.]]\n",
      "[[1.         1.41421356]\n",
      " [1.73205081 2.        ]]\n",
      "[[ 2.71828183  7.3890561 ]\n",
      " [20.08553692 54.59815003]]\n",
      "[[0.         0.69314718]\n",
      " [1.09861229 1.38629436]]\n"
     ]
    }
   ],
   "source": [
    "x = np.array([[1,2],[3,4]], dtype=np.float64)\n",
    "y = np.array([[5,6],[7,8]], dtype=np.float64)\n",
    "\n",
    "# Поэлементное сложение:\n",
    "print(np.add(x, y)) # можно использовать функцию add()\n",
    "print(x + y) # можно просто использовать оператор \"+\"\n",
    "# То же самое с другими арифметическими операциями: вычитанием, умножением и делением\n",
    "\n",
    "# Взятие квадратного корня\n",
    "print(np.sqrt(x))\n",
    "\n",
    "# Взятие экспоненты\n",
    "print(np.exp(x))\n",
    "\n",
    "# Логарифмирование\n",
    "print(np.log(x))\n",
    "\n",
    "# Другие операции над элементами массивов numpy - см. документацию"
   ]
  },
  {
   "cell_type": "markdown",
   "metadata": {},
   "source": [
    "#### Практика\n",
    "\n",
    "Выполните следующие упражнения:"
   ]
  },
  {
   "cell_type": "code",
   "execution_count": 94,
   "metadata": {},
   "outputs": [
    {
     "name": "stdout",
     "output_type": "stream",
     "text": [
      "[[ 1  2  3  4]\n",
      " [ 5  6  7  8]\n",
      " [ 9 10 11 12]]\n"
     ]
    },
    {
     "data": {
      "text/plain": [
       "array([[ 4,  6],\n",
       "       [12, 14],\n",
       "       [20, 22]])"
      ]
     },
     "execution_count": 94,
     "metadata": {},
     "output_type": "execute_result"
    }
   ],
   "source": [
    "a = np.array([[1,2,3,4], [5,6,7,8], [9,10,11,12]])\n",
    "\n",
    "print(a)\n",
    "\n",
    "# получите срез в виде квадратной матрицы 3x2, с левого конца\n",
    "a_3x2_left = a[:,:2]\n",
    "\n",
    "# 1. из него получите матрицу, содержащую эти элементы, возведенные в квадрат\n",
    "## ваш код здесь\n",
    "a_3x2_left2 = a_3x2_left **2\n",
    "\n",
    "# 2. возьмите срез 3x2 с правого конца и сложите со имеющимся срезом\n",
    "## ваш код здесь\n",
    "a_3x2_right = a[:, -2:] \n",
    "x = a_3x2_left + a_3x2_right\n",
    "x"
   ]
  },
  {
   "cell_type": "markdown",
   "metadata": {},
   "source": [
    "### Операции из области линейной алгебры\n",
    "\n",
    "Умножение матриц, скалярное произведение векторов (как частный случай умножения матриц), транспонирование - базовые функции пакета numpy.\n",
    "\n",
    "В модуле numpy.linalg еще есть встроенные функции для расчетов рангов матриц, определителей, вычисления собственных чисел, а также для решения линейных уравнений:\n",
    " - ```np.linalg.solve(A, b)``` - вычисляет единственное решение системы линейных уравнений, где A - квадратная матрица коэффициентов, b - вектор значений\n",
    " - ```np.linalg.matrix_rank(A)``` - вычисляет ранг матрицы\n",
    " - ```np.linalg.inv(A)``` - вычисляет обратную матрицу\n",
    " - ```np.linalg.eig(A)``` - вычисляет собственный вектор или собственное число матрицы"
   ]
  },
  {
   "cell_type": "code",
   "execution_count": 97,
   "metadata": {},
   "outputs": [
    {
     "name": "stdout",
     "output_type": "stream",
     "text": [
      "219\n",
      "219\n",
      "-----\n",
      "[29 67]\n",
      "[29 67]\n",
      "-----\n",
      "[[19 22]\n",
      " [43 50]]\n",
      "[[19 22]\n",
      " [43 50]]\n"
     ]
    }
   ],
   "source": [
    "# создаем две матрицы\n",
    "x = np.array([[1,2],[3,4]])\n",
    "y = np.array([[5,6],[7,8]])\n",
    "\n",
    "# и два вектора\n",
    "v = np.array([9,10])\n",
    "w = np.array([11, 12])\n",
    "\n",
    "# Скалярное произведение векторов; оба выражения дают 219\n",
    "print(v.dot(w))\n",
    "print(np.dot(v, w))\n",
    "\n",
    "print('-'*5)\n",
    "\n",
    "# Умножение матрицы на вектор, оба выражения возвращают вектор [29 67]\n",
    "print(x.dot(v))\n",
    "print(np.dot(x, v))\n",
    "\n",
    "print('-'*5)\n",
    "\n",
    "# Умножение матриц, в итоге получаем\n",
    "# [[19 22]\n",
    "#  [43 50]]\n",
    "print(x.dot(y))\n",
    "print(np.dot(x, y))"
   ]
  },
  {
   "cell_type": "markdown",
   "metadata": {},
   "source": [
    "### Бродкастинг (broadcasting)\n",
    "\n",
    "В русскоязычной литературе этот термин также встречается как \"укладывание\"."
   ]
  },
  {
   "cell_type": "code",
   "execution_count": 98,
   "metadata": {},
   "outputs": [
    {
     "name": "stdout",
     "output_type": "stream",
     "text": [
      "[[ 1  2  3]\n",
      " [ 4  5  6]\n",
      " [ 7  8  9]\n",
      " [10 11 12]]\n",
      "[[ 2  2  4]\n",
      " [ 5  5  7]\n",
      " [ 8  8 10]\n",
      " [11 11 13]]\n",
      "[[ 2  4  6]\n",
      " [ 8 10 12]\n",
      " [14 16 18]\n",
      " [20 22 24]]\n"
     ]
    }
   ],
   "source": [
    "# Добавим вектор v к каждой строке матрицы x\n",
    "# результат запишем в матрицу y\n",
    "x = np.array([[1,2,3], [4,5,6], [7,8,9], [10, 11, 12]])\n",
    "print(x)\n",
    "v = np.array([1, 0, 1])\n",
    "y = x + v  # Add v to each row of x using broadcasting\n",
    "print(y)  # результат \"[[ 2  2  4]\n",
    "          #          [ 5  5  7]\n",
    "          #          [ 8  8 10]\n",
    "          #          [11 11 13]]\"\n",
    "            \n",
    "            \n",
    "### как это было бы без бродкастинга\n",
    "y = np.empty_like(x)   # создаем пустой массив \"как x\"\n",
    "\n",
    "# В ЦИКЛЕ добываем векторы из x, складываем с v и записываем в y\n",
    "for i in range(4):\n",
    "    y[i, :] = x[i, :] + v\n",
    "\n",
    "# ИЛИ\n",
    "vv = np.tile(v, (4, 1))   # размножаем вектор v в матрицу той же размерности, что x\n",
    "y = x + vv  # скалыдваем\n",
    "# уже лучше, но все равно не то\n",
    "\n",
    "# Бродкастинг также работает и со скалярными данными\n",
    "y = (x * 2)\n",
    "print(y)\n",
    "# [[ 2  4  6]\n",
    "#  [ 8 10 12]\n",
    "#  [14 16 18]\n",
    "#  [20 22 24]]"
   ]
  },
  {
   "cell_type": "code",
   "execution_count": 107,
   "metadata": {},
   "outputs": [
    {
     "name": "stdout",
     "output_type": "stream",
     "text": [
      "[[ 1  2  3]\n",
      " [ 4  5  6]\n",
      " [ 7  8  9]\n",
      " [10 11 12]]\n"
     ]
    },
    {
     "data": {
      "text/plain": [
       "array([[ 2,  3,  4],\n",
       "       [ 4,  5,  6],\n",
       "       [ 7,  8,  9],\n",
       "       [11, 12, 13]])"
      ]
     },
     "execution_count": 107,
     "metadata": {},
     "output_type": "execute_result"
    }
   ],
   "source": [
    "x = np.array([[1,2,3], [4,5,6], [7,8,9], [10, 11, 12]])\n",
    "print(x)\n",
    "v = np.array([1, 0, 0, 1])\n",
    "v.reshape( (v.shape[0],1) ) + x"
   ]
  },
  {
   "cell_type": "markdown",
   "metadata": {},
   "source": [
    "### Агрегатные вычисления"
   ]
  },
  {
   "cell_type": "code",
   "execution_count": 108,
   "metadata": {},
   "outputs": [
    {
     "name": "stdout",
     "output_type": "stream",
     "text": [
      "78\n",
      "6.5\n",
      "24\n",
      "26\n"
     ]
    }
   ],
   "source": [
    "x = np.array([[1,2,3], [4,5,6], [7,8,9], [10, 11, 12]])\n",
    "\n",
    "print(x.sum()) # сумма\n",
    "\n",
    "print(x.mean()) # среднее\n",
    "\n",
    "print(x[2].sum()) # сумма по 2-й строке\n",
    "\n",
    "print(np.sum(x[:, 1])) # сумма по 1-му столбцу\n",
    "\n"
   ]
  },
  {
   "cell_type": "markdown",
   "metadata": {},
   "source": [
    "Функции ```max()``` и ```argmax()```:"
   ]
  },
  {
   "cell_type": "code",
   "execution_count": 109,
   "metadata": {},
   "outputs": [
    {
     "name": "stdout",
     "output_type": "stream",
     "text": [
      "[ 6 35 91 62 70 23 17 92 68 27]\n",
      "92\n",
      "7\n"
     ]
    }
   ],
   "source": [
    "a_vec = (np.random.random( 10 ) * 100).astype(dtype=np.int64)\n",
    "print(a_vec)\n",
    "print(a_vec.max()) # возвращает максимум\n",
    "print(a_vec.argmax()) # возвращает позицию для элемента с максимальным значением"
   ]
  },
  {
   "cell_type": "code",
   "execution_count": 114,
   "metadata": {},
   "outputs": [
    {
     "name": "stdout",
     "output_type": "stream",
     "text": [
      "[[8 4 8]\n",
      " [5 2 7]\n",
      " [9 5 9]]\n",
      "[8 4 8 5 2 7 9 5 9]\n"
     ]
    },
    {
     "data": {
      "text/plain": [
       "6"
      ]
     },
     "execution_count": 114,
     "metadata": {},
     "output_type": "execute_result"
    }
   ],
   "source": [
    "m = np.random.randint(0,10, (3,3)  )\n",
    "print(m)\n",
    "print(m.ravel())\n",
    "m.argmax() # вернет индекс как будто матрица \"раскатана\" в вектор"
   ]
  },
  {
   "cell_type": "markdown",
   "metadata": {},
   "source": [
    "#### Сортировка"
   ]
  },
  {
   "cell_type": "code",
   "execution_count": 123,
   "metadata": {},
   "outputs": [
    {
     "name": "stdout",
     "output_type": "stream",
     "text": [
      "[ 0 29 26 12 63 37 31 82 46 33]\n",
      "[82 63 46 37 33 31 29 26 12  0]\n",
      "[ 0 29 26 12 63 37 31 82 46 33]\n",
      "[0 3 2 1 6 9 5 8 4 7]\n",
      "[33 37 46 63 82]\n"
     ]
    }
   ],
   "source": [
    "a_vec = (np.random.random( 10 ) * 100).astype(dtype=np.int64)\n",
    "print(a_vec)\n",
    "print(a_vec[np.argsort(-a_vec)])\n",
    "print(a_vec)\n",
    "print(a_vec.argsort())\n",
    "print(a_vec[ a_vec.argsort()[-5:] ])"
   ]
  },
  {
   "cell_type": "code",
   "execution_count": 126,
   "metadata": {},
   "outputs": [
    {
     "data": {
      "text/plain": [
       "array([82, 63, 46, 37, 33, 31, 29, 26, 12,  0])"
      ]
     },
     "execution_count": 126,
     "metadata": {},
     "output_type": "execute_result"
    }
   ],
   "source": [
    "np.sort(a_vec)[::-1]"
   ]
  },
  {
   "cell_type": "markdown",
   "metadata": {},
   "source": [
    "### Как надо и как не надо пользоваться numpy\n",
    "\n",
    "Использование numpy неэффективно, если объекты numpy обрабатывать вне самого numpy. Подходите к данным как к векторам и матрицам, обрабатывайте их эффективно!"
   ]
  },
  {
   "cell_type": "code",
   "execution_count": 128,
   "metadata": {},
   "outputs": [
    {
     "name": "stdout",
     "output_type": "stream",
     "text": [
      "The slowest run took 5.56 times longer than the fastest. This could mean that an intermediate result is being cached.\n",
      "41.5 µs ± 28.1 µs per loop (mean ± std. dev. of 7 runs, 200 loops each)\n",
      "-----\n",
      "70.4 µs ± 25.2 µs per loop (mean ± std. dev. of 7 runs, 200 loops each)\n",
      "-----\n",
      "The slowest run took 5.23 times longer than the fastest. This could mean that an intermediate result is being cached.\n",
      "4.99 µs ± 3.35 µs per loop (mean ± std. dev. of 7 runs, 200 loops each)\n"
     ]
    }
   ],
   "source": [
    "# На примере задачи \"получить сумму  квадратов натуральных чисел от 0 до 1000\"\n",
    "# чистый python:\n",
    "%timeit -n200 x = sum(x*x for x in range(100))\n",
    "print('-'*5)\n",
    "# наивный numpy - хуже чистого Python'а\n",
    "na = np.arange(100)\n",
    "%timeit -n200 x = sum(na*na)\n",
    "print('-'*5)\n",
    "# векторизованный numpy\n",
    "%timeit -n200 x = np.dot(na, na)"
   ]
  },
  {
   "cell_type": "markdown",
   "metadata": {},
   "source": [
    "## Практические задания\n",
    "\n",
    "Решите следующие простые задания, не прибегая к использованию циклов и исключая использование функций python, таких как ```sum()```, ```max()```, и т.д:"
   ]
  },
  {
   "cell_type": "code",
   "execution_count": null,
   "metadata": {},
   "outputs": [],
   "source": [
    "# создайте массив numpy из 10-ти случайных натуральных чисел\n",
    "\n",
    "# найдите минимум в этом массиве и индекс этого минимального значения, \n",
    "# замените этот элемент на -100\n",
    "\n",
    "# сложите этот массив с его \"зеркальным отображением\"\n",
    "\n",
    "# посчитайте сумму элементов получившегося массива\n",
    "\n",
    "# посчитайте сумму квадратов элементов получившегося массива"
   ]
  },
  {
   "cell_type": "code",
   "execution_count": 141,
   "metadata": {},
   "outputs": [
    {
     "name": "stdout",
     "output_type": "stream",
     "text": [
      "[1 3 5 3 1 1 1 7 8 3]\n",
      "1\n",
      "0\n",
      "[-100    3    5    3 -100 -100 -100    7    8    3]\n",
      "-----\n",
      "[ -97   11   12  -97 -200 -200  -97   12   11  -97]\n",
      "-----\n",
      "-742\n",
      "118166\n",
      "118166\n"
     ]
    }
   ],
   "source": [
    "a = np.random.randint(1, 10, (10,))\n",
    "print(a)\n",
    "\n",
    "min_ = a.min() \n",
    "print(min_)\n",
    "min_idx = a.argmin() \n",
    "print(min_idx)\n",
    "\n",
    "a[ a==min_ ] = -100 \n",
    "print(a)\n",
    "\n",
    "print('-'*5)\n",
    "\n",
    "b = a + a[::-1]\n",
    "print(b)\n",
    "\n",
    "print('-'*5)\n",
    "print(b.sum())\n",
    "print( np.sum( b**2 ) )\n",
    "print( (b**2).sum() )\n"
   ]
  },
  {
   "cell_type": "markdown",
   "metadata": {},
   "source": [
    "1 . Решите систему уравнений методом solve:\n",
    "\n",
    "$\\begin{cases}\n",
    "x_1 - x_2 + x_3 = 3 \\\\\n",
    "2x_1 + x_2 + x_3 = 11 \\\\\n",
    "x_1 + x_2 + 2x_3 = 8\n",
    "\\end{cases}\n",
    "$"
   ]
  },
  {
   "cell_type": "code",
   "execution_count": 5,
   "metadata": {},
   "outputs": [
    {
     "data": {
      "text/plain": [
       "array([4., 2., 1.])"
      ]
     },
     "execution_count": 5,
     "metadata": {},
     "output_type": "execute_result"
    }
   ],
   "source": [
    "# ваш код здесь\n",
    "a = np.array( [ [1,-1, 1], [2,1,1], [1,1, 2] ] )\n",
    "b = np.array([3,11,8])\n",
    "\n",
    "np.linalg.solve(a, b)\n"
   ]
  },
  {
   "cell_type": "markdown",
   "metadata": {},
   "source": [
    "2 . Решите систему уравнений методом обратной матрицы: $A * x = b$, $x = A^-1 * b$\n",
    "\n",
    "$\\begin{cases}\n",
    "2x_1 + x_2 - 2x_3 = -3 \\\\\n",
    "x_1 - 2x_2 + x_3 = 11 \\\\\n",
    "3x_1 + x_2 - x_3 = 0\n",
    "\\end{cases}\n",
    "$\n"
   ]
  },
  {
   "cell_type": "code",
   "execution_count": 8,
   "metadata": {},
   "outputs": [
    {
     "data": {
      "text/plain": [
       "array([ 1.75, -4.  ,  1.25])"
      ]
     },
     "execution_count": 8,
     "metadata": {},
     "output_type": "execute_result"
    }
   ],
   "source": [
    "# ваш код здесь\n",
    "a = [ [2,1,-2], [1,-2,1], [3,1,-1] ]\n",
    "b = [-3, 11, 0]\n",
    "np.linalg.inv(a).dot(b)"
   ]
  },
  {
   "cell_type": "markdown",
   "metadata": {},
   "source": [
    "3 . Найдите расстояние от точки $M(1;0;-2)$  \n",
    "до плоскости, заданной уравнением $2x-y+2z=4$.\n",
    "\n",
    "Формула для рассчета расстояния от точки до плоскости:  \n",
    "$d_{01}=\\frac{\\left|\\left(\\bar r_0\\cdot \\bar n_1\\right)+D_1\\right|}{\\left|\\bar n_1\\right|}$, где $r_0$ - радиус-вектор к точке,  $n_1$ - вектор нормали к плоскости, $D_1$ - константа из уравнения плоскости."
   ]
  },
  {
   "cell_type": "code",
   "execution_count": 11,
   "metadata": {},
   "outputs": [
    {
     "data": {
      "text/plain": [
       "0.6666666666666666"
      ]
     },
     "execution_count": 11,
     "metadata": {},
     "output_type": "execute_result"
    }
   ],
   "source": [
    "# ваш код здесь\n",
    "M = np.array([1, 0, -2])\n",
    "n = np.array([2, -1, 2])\n",
    "D = 4\n",
    "\n",
    "d = np.abs( M.dot(n) + D ) / np.sqrt(n.dot(n))\n",
    "d"
   ]
  },
  {
   "cell_type": "markdown",
   "metadata": {
    "collapsed": true
   },
   "source": [
    "#### Задачи на векторизацию, булевы маски и бродкастинг\n",
    "\n",
    "Требуется решить их с использованием объектов и функций библиотеки ```numpy```, без использования циклов, с минимальным количеством строк кода. \n",
    "\n",
    "1. Найти сумму ряда чисел от 0 до 100."
   ]
  },
  {
   "cell_type": "code",
   "execution_count": 14,
   "metadata": {},
   "outputs": [
    {
     "name": "stdout",
     "output_type": "stream",
     "text": [
      "4950\n"
     ]
    },
    {
     "data": {
      "text/plain": [
       "array([ 0,  1,  2,  3,  4,  5,  6,  7,  8,  9, 10, 11, 12, 13, 14, 15, 16,\n",
       "       17, 18, 19, 20, 21, 22, 23, 24, 25, 26, 27, 28, 29, 30, 31, 32, 33,\n",
       "       34, 35, 36, 37, 38, 39, 40, 41, 42, 43, 44, 45, 46, 47, 48, 49, 50,\n",
       "       51, 52, 53, 54, 55, 56, 57, 58, 59, 60, 61, 62, 63, 64, 65, 66, 67,\n",
       "       68, 69, 70, 71, 72, 73, 74, 75, 76, 77, 78, 79, 80, 81, 82, 83, 84,\n",
       "       85, 86, 87, 88, 89, 90, 91, 92, 93, 94, 95, 96, 97, 98, 99])"
      ]
     },
     "execution_count": 14,
     "metadata": {},
     "output_type": "execute_result"
    }
   ],
   "source": [
    "# ваш код здесь\n",
    "n = np.arange(100)\n",
    "print(n.sum())\n",
    "n"
   ]
  },
  {
   "cell_type": "markdown",
   "metadata": {
    "collapsed": true
   },
   "source": [
    "2. Выведите списки чисел, из данного массива:\\\n",
    "    2.1 кратные 3-м \\\n",
    "    2.2 кратные 5-ти \\\n",
    "    2.3 кратные одновременно и 3-м, и 5-ти \\\n",
    "    2.4 кратные как 3-м, так и 5-ти, кроме четных чисел"
   ]
  },
  {
   "cell_type": "code",
   "execution_count": 21,
   "metadata": {},
   "outputs": [
    {
     "name": "stdout",
     "output_type": "stream",
     "text": [
      "[ 0  3  6  9 12 15 18 21 24 27 30 33 36 39 42 45 48 51 54 57 60 63 66 69\n",
      " 72 75 78 81 84 87 90 93 96 99]\n",
      "[ 0  5 10 15 20 25 30 35 40 45 50 55 60 65 70 75 80 85 90 95]\n",
      "[ 0 15 30 45 60 75 90]\n",
      "[15 45 75]\n"
     ]
    }
   ],
   "source": [
    "# ваш код здесь\n",
    "# 2.1\n",
    "m_3 = (n % 3 == 0) \n",
    "print(n[m_3])\n",
    "# 2.2\n",
    "m_5 = (n % 5 == 0) \n",
    "print(n[m_5])\n",
    "# 2.3\n",
    "print(n[m_3 & m_5])\n",
    "# 2.4\n",
    "m_2 = (n % 2 == 0) \n",
    "print(n[m_3 & m_5 & ~m_2])"
   ]
  },
  {
   "cell_type": "markdown",
   "metadata": {
    "collapsed": true
   },
   "source": [
    "3. У вас есть матрица, столбцы которой содержат данные о диаметре и длине стальных циллиндрических прутков, которые подлежат покраске. Посчитайте расход краски в кг, если известно, что толщина покрытия - 0.001 мм, а плотность краски $5000 кг/м^3$."
   ]
  },
  {
   "cell_type": "code",
   "execution_count": 39,
   "metadata": {},
   "outputs": [
    {
     "name": "stdout",
     "output_type": "stream",
     "text": [
      "[[1.    0.02 ]\n",
      " [2.    0.02 ]\n",
      " [3.    0.025]\n",
      " [2.    0.025]\n",
      " [1.    0.015]]\n",
      "0.631892092361417\n",
      "0.631892092361417\n",
      "0.631892092361417\n",
      "0.0031594604618070845\n"
     ]
    }
   ],
   "source": [
    "# ваш код здесь\n",
    "M = np.array([ [1,2,3,2,1], [ 0.02, 0.02, 0.025, 0.025, 0.015, ] ] ).T\n",
    "h = 1e-6\n",
    "ro = 5000\n",
    "print(M)\n",
    "\n",
    "D = M[:, 1] \n",
    "L = M[:, 0] \n",
    "S = (np.pi*D*L + 2*np.pi*(D/2)**2).sum()\n",
    "print(S)\n",
    "S = (np.pi*M[:, 0]*M[:,1] + 2*np.pi*(M[:,1]/2)**2).sum()\n",
    "print(S)\n",
    "\n",
    "S = np.pi * D.dot(L) + 0.5 * np.pi * D.dot(D)\n",
    "print(S)\n",
    "\n",
    "V = S*h\n",
    "W = V * ro\n",
    "print(W)"
   ]
  },
  {
   "cell_type": "markdown",
   "metadata": {},
   "source": [
    "4. Создайте матрицу размера MxN и заполните ее случайными числами в диапазоне от 0 до 1. \\\n",
    "    4.1 К каждой строке матрицы прибавьте ряд натуральных чисел от 0 до N. \\\n",
    "    4.2 К каждому столбцу матрицы прибавьте ряд десятков натуральных чисел от M*10 до 0 (например, 40, 30, 20, 10 etc)."
   ]
  },
  {
   "cell_type": "code",
   "execution_count": 55,
   "metadata": {},
   "outputs": [
    {
     "name": "stdout",
     "output_type": "stream",
     "text": [
      "[[1.74888021 2.40018648 3.86201098 4.21993889]\n",
      " [1.55102084 2.13754802 3.33338    4.70890325]\n",
      " [1.33623152 2.93212862 3.10306065 4.87095264]\n",
      " [1.47112576 2.8757389  3.78298204 4.1514656 ]\n",
      " [1.17699139 2.21926395 3.65927049 4.03649696]]\n"
     ]
    },
    {
     "data": {
      "text/plain": [
       "array([[51.74888021, 52.40018648, 53.86201098, 54.21993889],\n",
       "       [41.55102084, 42.13754802, 43.33338   , 44.70890325],\n",
       "       [31.33623152, 32.93212862, 33.10306065, 34.87095264],\n",
       "       [21.47112576, 22.8757389 , 23.78298204, 24.1514656 ],\n",
       "       [11.17699139, 12.21926395, 13.65927049, 14.03649696]])"
      ]
     },
     "execution_count": 55,
     "metadata": {},
     "output_type": "execute_result"
    }
   ],
   "source": [
    "# ваш код здесь\n",
    "M = 5\n",
    "N = 4\n",
    "\n",
    "A = np.random.random((M,N))\n",
    "nat_nums = np.arange(1, N+1)\n",
    "print(A + nat_nums)\n",
    "T = np.arange(M * 10, 0, -10) \n",
    "K = T.reshape( (M,1) )\n",
    "K + A + nat_nums"
   ]
  },
  {
   "cell_type": "code",
   "execution_count": null,
   "metadata": {},
   "outputs": [],
   "source": []
  },
  {
   "cell_type": "code",
   "execution_count": null,
   "metadata": {},
   "outputs": [],
   "source": []
  }
 ],
 "metadata": {
  "kernelspec": {
   "display_name": "Python 3",
   "language": "python",
   "name": "python3"
  },
  "language_info": {
   "codemirror_mode": {
    "name": "ipython",
    "version": 3
   },
   "file_extension": ".py",
   "mimetype": "text/x-python",
   "name": "python",
   "nbconvert_exporter": "python",
   "pygments_lexer": "ipython3",
   "version": "3.8.8"
  }
 },
 "nbformat": 4,
 "nbformat_minor": 2
}
