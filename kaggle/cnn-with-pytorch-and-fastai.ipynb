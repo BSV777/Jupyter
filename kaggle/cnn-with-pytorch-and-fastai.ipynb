{
 "cells": [
  {
   "cell_type": "code",
   "execution_count": 1,
   "metadata": {},
   "outputs": [],
   "source": [
    "import time\n",
    "start_time = time.time()"
   ]
  },
  {
   "cell_type": "code",
   "execution_count": 2,
   "metadata": {
    "execution": {
     "iopub.execute_input": "2021-08-14T04:30:18.549476Z",
     "iopub.status.busy": "2021-08-14T04:30:18.549094Z",
     "iopub.status.idle": "2021-08-14T04:30:20.806425Z",
     "shell.execute_reply": "2021-08-14T04:30:20.805472Z",
     "shell.execute_reply.started": "2021-08-14T04:30:18.549389Z"
    }
   },
   "outputs": [
    {
     "name": "stderr",
     "output_type": "stream",
     "text": [
      "/home/dev/anaconda3/lib/python3.8/site-packages/torch/cuda/__init__.py:83: UserWarning: \n",
      "    Found GPU%d %s which is of cuda capability %d.%d.\n",
      "    PyTorch no longer supports this GPU because it is too old.\n",
      "    The minimum cuda capability supported by this library is %d.%d.\n",
      "    \n",
      "  warnings.warn(old_gpu_warn.format(d, name, major, minor, min_arch // 10, min_arch % 10))\n"
     ]
    }
   ],
   "source": [
    "from fastai.vision.all import *"
   ]
  },
  {
   "cell_type": "markdown",
   "metadata": {},
   "source": [
    "# Prepare our training data"
   ]
  },
  {
   "cell_type": "code",
   "execution_count": 3,
   "metadata": {
    "execution": {
     "iopub.execute_input": "2021-08-14T04:30:20.810106Z",
     "iopub.status.busy": "2021-08-14T04:30:20.809831Z",
     "iopub.status.idle": "2021-08-14T04:30:24.196423Z",
     "shell.execute_reply": "2021-08-14T04:30:24.195412Z",
     "shell.execute_reply.started": "2021-08-14T04:30:20.810080Z"
    }
   },
   "outputs": [],
   "source": [
    "input_path = Path(\"/home/dev/AIprojects/digit-recognizer/\")\n",
    "train = pd.read_csv(input_path/\"train.csv\")"
   ]
  },
  {
   "cell_type": "code",
   "execution_count": 4,
   "metadata": {
    "execution": {
     "iopub.execute_input": "2021-08-14T08:47:18.773415Z",
     "iopub.status.busy": "2021-08-14T08:47:18.773107Z",
     "iopub.status.idle": "2021-08-14T08:47:18.779966Z",
     "shell.execute_reply": "2021-08-14T08:47:18.779127Z",
     "shell.execute_reply.started": "2021-08-14T08:47:18.773381Z"
    }
   },
   "outputs": [],
   "source": [
    "from torchvision import transforms\n",
    "\n",
    "class NumberDataset:\n",
    "    def __init__(self, data, transform=None):\n",
    "        self.data = data.reset_index(drop=True)\n",
    "        self.trans = transform\n",
    "    \n",
    "    def __len__(self):\n",
    "        return self.data.shape[0]\n",
    "    \n",
    "    def __getitem__(self, index):\n",
    "        \n",
    "        d = self.data.iloc[index, 1:].values.reshape(1, 28, 28)\n",
    "        \n",
    "        if self.trans:\n",
    "            d = self.trans(tensor(d))\n",
    "        else:\n",
    "            d = tensor(d)/255\n",
    "        \n",
    "        y = self.data.iloc[index, 0]\n",
    "        \n",
    "        return d, tensor(y)"
   ]
  },
  {
   "cell_type": "code",
   "execution_count": 5,
   "metadata": {
    "execution": {
     "iopub.execute_input": "2021-08-14T08:50:05.200498Z",
     "iopub.status.busy": "2021-08-14T08:50:05.200184Z",
     "iopub.status.idle": "2021-08-14T08:50:05.557546Z",
     "shell.execute_reply": "2021-08-14T08:50:05.556713Z",
     "shell.execute_reply.started": "2021-08-14T08:50:05.200468Z"
    }
   },
   "outputs": [],
   "source": [
    "train_idx, valid_idx = RandomSplitter()(train)\n",
    "\n",
    "device = \"cuda\" if torch.cuda.is_available() else \"cpu\"\n",
    "\n",
    "train_ds = NumberDataset(train.iloc[train_idx, :])\n",
    "valid_ds = NumberDataset(train.iloc[valid_idx, :])\n",
    "\n",
    "train_dl = DataLoader(train_ds, bs=64)\n",
    "valid_dl = DataLoader(valid_ds, bs=128)\n",
    "\n",
    "dls = DataLoaders(train_dl, valid_dl).to(device)"
   ]
  },
  {
   "cell_type": "markdown",
   "metadata": {},
   "source": [
    "# Build and Train the model"
   ]
  },
  {
   "cell_type": "code",
   "execution_count": 6,
   "metadata": {
    "execution": {
     "iopub.execute_input": "2021-08-14T08:58:16.622939Z",
     "iopub.status.busy": "2021-08-14T08:58:16.622624Z",
     "iopub.status.idle": "2021-08-14T08:58:16.718871Z",
     "shell.execute_reply": "2021-08-14T08:58:16.718023Z",
     "shell.execute_reply.started": "2021-08-14T08:58:16.622910Z"
    }
   },
   "outputs": [],
   "source": [
    "model = nn.Sequential(\n",
    "    ConvLayer(1, 32),\n",
    "    ConvLayer(32, 64),\n",
    "    nn.MaxPool2d(2),\n",
    "    ConvLayer(64, 128),\n",
    "    ConvLayer(128, 256),\n",
    "    nn.MaxPool2d(2),\n",
    "    ConvLayer(256, 512),\n",
    "    ConvLayer(512, 1024),\n",
    "    nn.MaxPool2d(2),\n",
    "    nn.AdaptiveAvgPool2d(1),\n",
    "    Flatten(), \n",
    "    nn.Linear(1024, 256),\n",
    "    nn.Dropout(0.5),\n",
    "    nn.Linear(256, 10)\n",
    ").to(device)"
   ]
  },
  {
   "cell_type": "code",
   "execution_count": 7,
   "metadata": {
    "execution": {
     "iopub.execute_input": "2021-08-14T08:58:16.984637Z",
     "iopub.status.busy": "2021-08-14T08:58:16.984307Z",
     "iopub.status.idle": "2021-08-14T08:58:16.989135Z",
     "shell.execute_reply": "2021-08-14T08:58:16.988003Z",
     "shell.execute_reply.started": "2021-08-14T08:58:16.984606Z"
    }
   },
   "outputs": [],
   "source": [
    "learn = Learner(dls, model, metrics=accuracy, \n",
    "                loss_func=LabelSmoothingCrossEntropy())"
   ]
  },
  {
   "cell_type": "code",
   "execution_count": 8,
   "metadata": {
    "execution": {
     "iopub.execute_input": "2021-08-14T08:58:17.379714Z",
     "iopub.status.busy": "2021-08-14T08:58:17.379402Z",
     "iopub.status.idle": "2021-08-14T08:58:21.219899Z",
     "shell.execute_reply": "2021-08-14T08:58:21.219108Z",
     "shell.execute_reply.started": "2021-08-14T08:58:17.379686Z"
    }
   },
   "outputs": [
    {
     "data": {
      "text/html": [],
      "text/plain": [
       "<IPython.core.display.HTML object>"
      ]
     },
     "metadata": {},
     "output_type": "display_data"
    },
    {
     "data": {
      "text/plain": [
       "SuggestedLRs(valley=0.00013182566908653826)"
      ]
     },
     "execution_count": 8,
     "metadata": {},
     "output_type": "execute_result"
    },
    {
     "data": {
      "image/png": "[encoded data removed]",
      "text/plain": [
       "<Figure size 432x288 with 1 Axes>"
      ]
     },
     "metadata": {
      "needs_background": "light"
     },
     "output_type": "display_data"
    }
   ],
   "source": [
    "learn.lr_find()"
   ]
  },
  {
   "cell_type": "code",
   "execution_count": 9,
   "metadata": {
    "execution": {
     "iopub.execute_input": "2021-08-14T08:58:26.315975Z",
     "iopub.status.busy": "2021-08-14T08:58:26.315629Z",
     "iopub.status.idle": "2021-08-14T09:04:07.529700Z",
     "shell.execute_reply": "2021-08-14T09:04:07.528893Z",
     "shell.execute_reply.started": "2021-08-14T08:58:26.315943Z"
    }
   },
   "outputs": [
    {
     "data": {
      "text/html": [
       "<table border=\"1\" class=\"dataframe\">\n",
       "  <thead>\n",
       "    <tr style=\"text-align: left;\">\n",
       "      <th>epoch</th>\n",
       "      <th>train_loss</th>\n",
       "      <th>valid_loss</th>\n",
       "      <th>accuracy</th>\n",
       "      <th>time</th>\n",
       "    </tr>\n",
       "  </thead>\n",
       "  <tbody>\n",
       "    <tr>\n",
       "      <td>0</td>\n",
       "      <td>0.621695</td>\n",
       "      <td>0.672226</td>\n",
       "      <td>0.964881</td>\n",
       "      <td>01:19</td>\n",
       "    </tr>\n",
       "    <tr>\n",
       "      <td>1</td>\n",
       "      <td>0.584062</td>\n",
       "      <td>0.588387</td>\n",
       "      <td>0.989048</td>\n",
       "      <td>01:18</td>\n",
       "    </tr>\n",
       "    <tr>\n",
       "      <td>2</td>\n",
       "      <td>0.558116</td>\n",
       "      <td>0.569981</td>\n",
       "      <td>0.984286</td>\n",
       "      <td>01:18</td>\n",
       "    </tr>\n",
       "    <tr>\n",
       "      <td>3</td>\n",
       "      <td>0.540835</td>\n",
       "      <td>0.534651</td>\n",
       "      <td>0.993214</td>\n",
       "      <td>01:18</td>\n",
       "    </tr>\n",
       "    <tr>\n",
       "      <td>4</td>\n",
       "      <td>0.528046</td>\n",
       "      <td>0.528121</td>\n",
       "      <td>0.993810</td>\n",
       "      <td>01:18</td>\n",
       "    </tr>\n",
       "    <tr>\n",
       "      <td>5</td>\n",
       "      <td>0.520325</td>\n",
       "      <td>0.524018</td>\n",
       "      <td>0.993452</td>\n",
       "      <td>01:18</td>\n",
       "    </tr>\n",
       "    <tr>\n",
       "      <td>6</td>\n",
       "      <td>0.515303</td>\n",
       "      <td>0.523413</td>\n",
       "      <td>0.994405</td>\n",
       "      <td>01:18</td>\n",
       "    </tr>\n",
       "    <tr>\n",
       "      <td>7</td>\n",
       "      <td>0.511856</td>\n",
       "      <td>0.519161</td>\n",
       "      <td>0.994524</td>\n",
       "      <td>01:18</td>\n",
       "    </tr>\n",
       "    <tr>\n",
       "      <td>8</td>\n",
       "      <td>0.510393</td>\n",
       "      <td>0.518457</td>\n",
       "      <td>0.995000</td>\n",
       "      <td>01:18</td>\n",
       "    </tr>\n",
       "    <tr>\n",
       "      <td>9</td>\n",
       "      <td>0.508940</td>\n",
       "      <td>0.516207</td>\n",
       "      <td>0.995476</td>\n",
       "      <td>01:18</td>\n",
       "    </tr>\n",
       "    <tr>\n",
       "      <td>10</td>\n",
       "      <td>0.508438</td>\n",
       "      <td>0.516150</td>\n",
       "      <td>0.994762</td>\n",
       "      <td>01:18</td>\n",
       "    </tr>\n",
       "    <tr>\n",
       "      <td>11</td>\n",
       "      <td>0.507862</td>\n",
       "      <td>0.515024</td>\n",
       "      <td>0.995119</td>\n",
       "      <td>01:18</td>\n",
       "    </tr>\n",
       "    <tr>\n",
       "      <td>12</td>\n",
       "      <td>0.507540</td>\n",
       "      <td>0.514945</td>\n",
       "      <td>0.995119</td>\n",
       "      <td>01:18</td>\n",
       "    </tr>\n",
       "    <tr>\n",
       "      <td>13</td>\n",
       "      <td>0.507280</td>\n",
       "      <td>0.514657</td>\n",
       "      <td>0.995714</td>\n",
       "      <td>01:18</td>\n",
       "    </tr>\n",
       "    <tr>\n",
       "      <td>14</td>\n",
       "      <td>0.507290</td>\n",
       "      <td>0.514587</td>\n",
       "      <td>0.995476</td>\n",
       "      <td>01:18</td>\n",
       "    </tr>\n",
       "  </tbody>\n",
       "</table>"
      ],
      "text/plain": [
       "<IPython.core.display.HTML object>"
      ]
     },
     "metadata": {},
     "output_type": "display_data"
    }
   ],
   "source": [
    "learn.fit_one_cycle(15, 1e-3)"
   ]
  },
  {
   "cell_type": "code",
   "execution_count": 10,
   "metadata": {
    "execution": {
     "iopub.execute_input": "2021-08-14T09:04:57.167338Z",
     "iopub.status.busy": "2021-08-14T09:04:57.167010Z",
     "iopub.status.idle": "2021-08-14T09:05:00.317756Z",
     "shell.execute_reply": "2021-08-14T09:05:00.317005Z",
     "shell.execute_reply.started": "2021-08-14T09:04:57.167307Z"
    }
   },
   "outputs": [
    {
     "data": {
      "text/html": [],
      "text/plain": [
       "<IPython.core.display.HTML object>"
      ]
     },
     "metadata": {},
     "output_type": "display_data"
    }
   ],
   "source": [
    "preds, targs = learn.get_preds()"
   ]
  },
  {
   "cell_type": "code",
   "execution_count": 11,
   "metadata": {
    "execution": {
     "iopub.execute_input": "2021-08-14T09:05:00.319549Z",
     "iopub.status.busy": "2021-08-14T09:05:00.319202Z",
     "iopub.status.idle": "2021-08-14T09:05:01.011022Z",
     "shell.execute_reply": "2021-08-14T09:05:01.010198Z",
     "shell.execute_reply.started": "2021-08-14T09:05:00.319513Z"
    }
   },
   "outputs": [
    {
     "data": {
      "image/png": "[encoded data removed]",
      "text/plain": [
       "<Figure size 900x600 with 2 Axes>"
      ]
     },
     "metadata": {
      "needs_background": "light"
     },
     "output_type": "display_data"
    }
   ],
   "source": [
    "from sklearn.metrics import confusion_matrix\n",
    "import seaborn as sns\n",
    "\n",
    "\n",
    "fig = plt.figure(dpi=150)\n",
    "sns.heatmap(confusion_matrix(targs, preds.argmax(1)), cmap=\"Blues\",\n",
    "            square=True, annot=True);"
   ]
  },
  {
   "cell_type": "markdown",
   "metadata": {},
   "source": [
    "# Make prediction on the test set"
   ]
  },
  {
   "cell_type": "code",
   "execution_count": 12,
   "metadata": {
    "execution": {
     "iopub.execute_input": "2021-08-14T09:05:06.453634Z",
     "iopub.status.busy": "2021-08-14T09:05:06.453308Z",
     "iopub.status.idle": "2021-08-14T09:05:07.849865Z",
     "shell.execute_reply": "2021-08-14T09:05:07.849014Z",
     "shell.execute_reply.started": "2021-08-14T09:05:06.453605Z"
    }
   },
   "outputs": [],
   "source": [
    "test = pd.read_csv(input_path/\"test.csv\")"
   ]
  },
  {
   "cell_type": "code",
   "execution_count": 13,
   "metadata": {
    "execution": {
     "iopub.execute_input": "2021-08-14T09:05:07.851818Z",
     "iopub.status.busy": "2021-08-14T09:05:07.851475Z",
     "iopub.status.idle": "2021-08-14T09:05:07.924401Z",
     "shell.execute_reply": "2021-08-14T09:05:07.923565Z",
     "shell.execute_reply.started": "2021-08-14T09:05:07.851782Z"
    }
   },
   "outputs": [],
   "source": [
    "class TestDS(NumberDataset):\n",
    "    def __getitem__(self, index):\n",
    "        \n",
    "        d = self.data.iloc[index, :].values.reshape(1, 28, 28)\n",
    "        \n",
    "        if self.trans:\n",
    "            d = self.trans(tensor(d)/255)\n",
    "        else:\n",
    "            d = tensor(d)/255\n",
    "        \n",
    "        return d, tensor(0)\n",
    "\n",
    "\n",
    "\n",
    "test_ds = TestDS(test)\n",
    "test_dl = DataLoader(test_ds, bs=128, device=device)"
   ]
  },
  {
   "cell_type": "code",
   "execution_count": 14,
   "metadata": {
    "execution": {
     "iopub.execute_input": "2021-08-14T09:05:07.926615Z",
     "iopub.status.busy": "2021-08-14T09:05:07.926104Z",
     "iopub.status.idle": "2021-08-14T09:05:15.911650Z",
     "shell.execute_reply": "2021-08-14T09:05:15.910914Z",
     "shell.execute_reply.started": "2021-08-14T09:05:07.926575Z"
    }
   },
   "outputs": [
    {
     "data": {
      "text/html": [],
      "text/plain": [
       "<IPython.core.display.HTML object>"
      ]
     },
     "metadata": {},
     "output_type": "display_data"
    }
   ],
   "source": [
    "preds, targ = learn.get_preds(dl=test_dl)"
   ]
  },
  {
   "cell_type": "code",
   "execution_count": 15,
   "metadata": {
    "execution": {
     "iopub.execute_input": "2021-08-14T09:05:15.913413Z",
     "iopub.status.busy": "2021-08-14T09:05:15.913070Z",
     "iopub.status.idle": "2021-08-14T09:05:16.009652Z",
     "shell.execute_reply": "2021-08-14T09:05:16.008684Z",
     "shell.execute_reply.started": "2021-08-14T09:05:15.913377Z"
    }
   },
   "outputs": [],
   "source": [
    "sub = pd.read_csv(input_path/\"sample_submission.csv\")\n",
    "sub[\"Label\"] = np.argmax(preds, axis=1)\n",
    "sub.to_csv(\"submission.csv\", index=False)"
   ]
  },
  {
   "cell_type": "code",
   "execution_count": 16,
   "metadata": {},
   "outputs": [
    {
     "name": "stdout",
     "output_type": "stream",
     "text": [
      "Working time: 1229.22807264328 seconds\n"
     ]
    }
   ],
   "source": [
    "print(\"Working time: %s seconds\" % (time.time() - start_time))"
   ]
  }
 ],
 "metadata": {
  "kernelspec": {
   "display_name": "Python 3",
   "language": "python",
   "name": "python3"
  },
  "language_info": {
   "codemirror_mode": {
    "name": "ipython",
    "version": 3
   },
   "file_extension": ".py",
   "mimetype": "text/x-python",
   "name": "python",
   "nbconvert_exporter": "python",
   "pygments_lexer": "ipython3",
   "version": "3.8.8"
  }
 },
 "nbformat": 4,
 "nbformat_minor": 4
}
