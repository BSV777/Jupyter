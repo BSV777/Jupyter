{
 "cells": [
  {
   "cell_type": "markdown",
   "metadata": {},
   "source": [
    "<BR>\n",
    "Which do u like, tensorflow.keras or pytorch? \"Today\" I'm somehow in pytorch mode. Let's enjoy Pytorch!<BR>\n",
    "BTW, if you are in tensorflow.keras mode, you can find some of them in my notebooks area."
   ]
  },
  {
   "cell_type": "markdown",
   "metadata": {},
   "source": [
    "<BR><BR>\n",
    "## Let's experience <font color=\"blue\">\"Image recognition by using Deep Learning Tech\"</font> with <font color=\"green\"> MNIST dataset.</font>\n",
    "## What is MNIST?\n",
    "The MNIST is a database of handwritten digits from 0 to 9. By the way, MNIST stands for Modified National Institute of Standards and Technology database.\n",
    "## What is Deep Learning?\n",
    "Deep learning is one of machine learning algorithms which consists of multiple layers to extract features of datasets.\n",
    "## What is Pytorch?\n",
    "Pytorch is one of machine learning libraries, originally developed by Facebook's AI Research Lab. It's useful especially for deep learning.\n",
    "<HR>"
   ]
  },
  {
   "cell_type": "markdown",
   "metadata": {},
   "source": [
    "1. Import libraries"
   ]
  },
  {
   "cell_type": "code",
   "execution_count": 1,
   "metadata": {
    "execution": {
     "iopub.execute_input": "2021-10-12T13:08:13.816448Z",
     "iopub.status.busy": "2021-10-12T13:08:13.816038Z",
     "iopub.status.idle": "2021-10-12T13:08:16.056308Z",
     "shell.execute_reply": "2021-10-12T13:08:16.055318Z",
     "shell.execute_reply.started": "2021-10-12T13:08:13.816369Z"
    }
   },
   "outputs": [],
   "source": [
    "import torch\n",
    "import torch.nn as nn\n",
    "import torch.optim as optim\n",
    "import torch.nn.functional as F\n",
    "from sklearn.model_selection import train_test_split\n",
    "import pandas as pd\n",
    "import numpy as np\n",
    "import matplotlib.pyplot as plt\n",
    "from tqdm.notebook import tqdm as tqdm"
   ]
  },
  {
   "cell_type": "markdown",
   "metadata": {},
   "source": [
    "2. Let's download datasets and check datasets."
   ]
  },
  {
   "cell_type": "code",
   "execution_count": 2,
   "metadata": {
    "execution": {
     "iopub.execute_input": "2021-10-12T13:08:16.058547Z",
     "iopub.status.busy": "2021-10-12T13:08:16.058232Z",
     "iopub.status.idle": "2021-10-12T13:08:16.067686Z",
     "shell.execute_reply": "2021-10-12T13:08:16.066345Z",
     "shell.execute_reply.started": "2021-10-12T13:08:16.058515Z"
    }
   },
   "outputs": [
    {
     "name": "stdout",
     "output_type": "stream",
     "text": [
      "./digit-recognizer/sample_submission.csv\n",
      "./digit-recognizer/train.csv\n",
      "./digit-recognizer/test.csv\n"
     ]
    }
   ],
   "source": [
    "# print dataset paths by Kaggle's way\n",
    "import os\n",
    "for dirname, _, filenames in os.walk('./digit-recognizer'):\n",
    "    for filename in filenames:\n",
    "        print(os.path.join(dirname, filename))"
   ]
  },
  {
   "cell_type": "code",
   "execution_count": 3,
   "metadata": {
    "execution": {
     "iopub.execute_input": "2021-10-12T13:08:16.069868Z",
     "iopub.status.busy": "2021-10-12T13:08:16.069459Z",
     "iopub.status.idle": "2021-10-12T13:08:19.765667Z",
     "shell.execute_reply": "2021-10-12T13:08:19.764776Z",
     "shell.execute_reply.started": "2021-10-12T13:08:16.069789Z"
    }
   },
   "outputs": [],
   "source": [
    "train_data = pd.read_csv('./digit-recognizer/train.csv')"
   ]
  },
  {
   "cell_type": "markdown",
   "metadata": {},
   "source": [
    "Check the train_data."
   ]
  },
  {
   "cell_type": "code",
   "execution_count": 4,
   "metadata": {
    "execution": {
     "iopub.execute_input": "2021-10-12T13:08:19.767876Z",
     "iopub.status.busy": "2021-10-12T13:08:19.767655Z",
     "iopub.status.idle": "2021-10-12T13:08:19.795584Z",
     "shell.execute_reply": "2021-10-12T13:08:19.794913Z",
     "shell.execute_reply.started": "2021-10-12T13:08:19.767848Z"
    }
   },
   "outputs": [
    {
     "data": {
      "text/html": [
       "<div>\n",
       "<style scoped>\n",
       "    .dataframe tbody tr th:only-of-type {\n",
       "        vertical-align: middle;\n",
       "    }\n",
       "\n",
       "    .dataframe tbody tr th {\n",
       "        vertical-align: top;\n",
       "    }\n",
       "\n",
       "    .dataframe thead th {\n",
       "        text-align: right;\n",
       "    }\n",
       "</style>\n",
       "<table border=\"1\" class=\"dataframe\">\n",
       "  <thead>\n",
       "    <tr style=\"text-align: right;\">\n",
       "      <th></th>\n",
       "      <th>label</th>\n",
       "      <th>pixel0</th>\n",
       "      <th>pixel1</th>\n",
       "      <th>pixel2</th>\n",
       "      <th>pixel3</th>\n",
       "      <th>pixel4</th>\n",
       "      <th>pixel5</th>\n",
       "      <th>pixel6</th>\n",
       "      <th>pixel7</th>\n",
       "      <th>pixel8</th>\n",
       "      <th>...</th>\n",
       "      <th>pixel774</th>\n",
       "      <th>pixel775</th>\n",
       "      <th>pixel776</th>\n",
       "      <th>pixel777</th>\n",
       "      <th>pixel778</th>\n",
       "      <th>pixel779</th>\n",
       "      <th>pixel780</th>\n",
       "      <th>pixel781</th>\n",
       "      <th>pixel782</th>\n",
       "      <th>pixel783</th>\n",
       "    </tr>\n",
       "  </thead>\n",
       "  <tbody>\n",
       "    <tr>\n",
       "      <th>0</th>\n",
       "      <td>1</td>\n",
       "      <td>0</td>\n",
       "      <td>0</td>\n",
       "      <td>0</td>\n",
       "      <td>0</td>\n",
       "      <td>0</td>\n",
       "      <td>0</td>\n",
       "      <td>0</td>\n",
       "      <td>0</td>\n",
       "      <td>0</td>\n",
       "      <td>...</td>\n",
       "      <td>0</td>\n",
       "      <td>0</td>\n",
       "      <td>0</td>\n",
       "      <td>0</td>\n",
       "      <td>0</td>\n",
       "      <td>0</td>\n",
       "      <td>0</td>\n",
       "      <td>0</td>\n",
       "      <td>0</td>\n",
       "      <td>0</td>\n",
       "    </tr>\n",
       "    <tr>\n",
       "      <th>1</th>\n",
       "      <td>0</td>\n",
       "      <td>0</td>\n",
       "      <td>0</td>\n",
       "      <td>0</td>\n",
       "      <td>0</td>\n",
       "      <td>0</td>\n",
       "      <td>0</td>\n",
       "      <td>0</td>\n",
       "      <td>0</td>\n",
       "      <td>0</td>\n",
       "      <td>...</td>\n",
       "      <td>0</td>\n",
       "      <td>0</td>\n",
       "      <td>0</td>\n",
       "      <td>0</td>\n",
       "      <td>0</td>\n",
       "      <td>0</td>\n",
       "      <td>0</td>\n",
       "      <td>0</td>\n",
       "      <td>0</td>\n",
       "      <td>0</td>\n",
       "    </tr>\n",
       "    <tr>\n",
       "      <th>2</th>\n",
       "      <td>1</td>\n",
       "      <td>0</td>\n",
       "      <td>0</td>\n",
       "      <td>0</td>\n",
       "      <td>0</td>\n",
       "      <td>0</td>\n",
       "      <td>0</td>\n",
       "      <td>0</td>\n",
       "      <td>0</td>\n",
       "      <td>0</td>\n",
       "      <td>...</td>\n",
       "      <td>0</td>\n",
       "      <td>0</td>\n",
       "      <td>0</td>\n",
       "      <td>0</td>\n",
       "      <td>0</td>\n",
       "      <td>0</td>\n",
       "      <td>0</td>\n",
       "      <td>0</td>\n",
       "      <td>0</td>\n",
       "      <td>0</td>\n",
       "    </tr>\n",
       "    <tr>\n",
       "      <th>3</th>\n",
       "      <td>4</td>\n",
       "      <td>0</td>\n",
       "      <td>0</td>\n",
       "      <td>0</td>\n",
       "      <td>0</td>\n",
       "      <td>0</td>\n",
       "      <td>0</td>\n",
       "      <td>0</td>\n",
       "      <td>0</td>\n",
       "      <td>0</td>\n",
       "      <td>...</td>\n",
       "      <td>0</td>\n",
       "      <td>0</td>\n",
       "      <td>0</td>\n",
       "      <td>0</td>\n",
       "      <td>0</td>\n",
       "      <td>0</td>\n",
       "      <td>0</td>\n",
       "      <td>0</td>\n",
       "      <td>0</td>\n",
       "      <td>0</td>\n",
       "    </tr>\n",
       "    <tr>\n",
       "      <th>4</th>\n",
       "      <td>0</td>\n",
       "      <td>0</td>\n",
       "      <td>0</td>\n",
       "      <td>0</td>\n",
       "      <td>0</td>\n",
       "      <td>0</td>\n",
       "      <td>0</td>\n",
       "      <td>0</td>\n",
       "      <td>0</td>\n",
       "      <td>0</td>\n",
       "      <td>...</td>\n",
       "      <td>0</td>\n",
       "      <td>0</td>\n",
       "      <td>0</td>\n",
       "      <td>0</td>\n",
       "      <td>0</td>\n",
       "      <td>0</td>\n",
       "      <td>0</td>\n",
       "      <td>0</td>\n",
       "      <td>0</td>\n",
       "      <td>0</td>\n",
       "    </tr>\n",
       "  </tbody>\n",
       "</table>\n",
       "<p>5 rows × 785 columns</p>\n",
       "</div>"
      ],
      "text/plain": [
       "   label  pixel0  pixel1  pixel2  pixel3  pixel4  pixel5  pixel6  pixel7  \\\n",
       "0      1       0       0       0       0       0       0       0       0   \n",
       "1      0       0       0       0       0       0       0       0       0   \n",
       "2      1       0       0       0       0       0       0       0       0   \n",
       "3      4       0       0       0       0       0       0       0       0   \n",
       "4      0       0       0       0       0       0       0       0       0   \n",
       "\n",
       "   pixel8  ...  pixel774  pixel775  pixel776  pixel777  pixel778  pixel779  \\\n",
       "0       0  ...         0         0         0         0         0         0   \n",
       "1       0  ...         0         0         0         0         0         0   \n",
       "2       0  ...         0         0         0         0         0         0   \n",
       "3       0  ...         0         0         0         0         0         0   \n",
       "4       0  ...         0         0         0         0         0         0   \n",
       "\n",
       "   pixel780  pixel781  pixel782  pixel783  \n",
       "0         0         0         0         0  \n",
       "1         0         0         0         0  \n",
       "2         0         0         0         0  \n",
       "3         0         0         0         0  \n",
       "4         0         0         0         0  \n",
       "\n",
       "[5 rows x 785 columns]"
      ]
     },
     "execution_count": 4,
     "metadata": {},
     "output_type": "execute_result"
    }
   ],
   "source": [
    "train_data.head()"
   ]
  },
  {
   "cell_type": "markdown",
   "metadata": {},
   "source": [
    "That means the first column is \"label\", columns from the 2nd to the last is \"28 x 28 = 784 pixcels\".\n",
    "<BR>Okay, let's make x_train, y_train, x_test."
   ]
  },
  {
   "cell_type": "code",
   "execution_count": 5,
   "metadata": {
    "execution": {
     "iopub.execute_input": "2021-10-12T13:08:19.800048Z",
     "iopub.status.busy": "2021-10-12T13:08:19.799833Z",
     "iopub.status.idle": "2021-10-12T13:08:19.991488Z",
     "shell.execute_reply": "2021-10-12T13:08:19.990310Z",
     "shell.execute_reply.started": "2021-10-12T13:08:19.800020Z"
    }
   },
   "outputs": [],
   "source": [
    "x_train = train_data.iloc[:,1:].values/255 #train_data(x)\n",
    "y_train = train_data.label.values          #train_data(y)"
   ]
  },
  {
   "cell_type": "markdown",
   "metadata": {},
   "source": [
    "3. Let's split train_data(x)&(y) into train_x, valid_x, train_y, valid_y by using sklearn's train_test_split."
   ]
  },
  {
   "cell_type": "code",
   "execution_count": 6,
   "metadata": {
    "execution": {
     "iopub.execute_input": "2021-10-12T13:08:19.993508Z",
     "iopub.status.busy": "2021-10-12T13:08:19.993033Z",
     "iopub.status.idle": "2021-10-12T13:08:20.429662Z",
     "shell.execute_reply": "2021-10-12T13:08:20.428673Z",
     "shell.execute_reply.started": "2021-10-12T13:08:19.993463Z"
    }
   },
   "outputs": [],
   "source": [
    "train_x, train_valid_x, train_y, train_valid_y = train_test_split(x_train, y_train, test_size = 0.2, random_state = 42)"
   ]
  },
  {
   "cell_type": "markdown",
   "metadata": {},
   "source": [
    "4.Change them into Pytorch's Float Tensors."
   ]
  },
  {
   "cell_type": "code",
   "execution_count": 7,
   "metadata": {
    "execution": {
     "iopub.execute_input": "2021-10-12T13:08:20.431506Z",
     "iopub.status.busy": "2021-10-12T13:08:20.431232Z",
     "iopub.status.idle": "2021-10-12T13:08:20.546271Z",
     "shell.execute_reply": "2021-10-12T13:08:20.545357Z",
     "shell.execute_reply.started": "2021-10-12T13:08:20.431478Z"
    }
   },
   "outputs": [],
   "source": [
    "train_x_torch = torch.from_numpy(train_x).type(torch.FloatTensor)\n",
    "valid_x_torch = torch.from_numpy(train_valid_x).type(torch.FloatTensor)\n",
    "train_y_torch = torch.from_numpy(train_y).type(torch.LongTensor)\n",
    "valid_y_torch = torch.from_numpy(train_valid_y).type(torch.LongTensor)"
   ]
  },
  {
   "cell_type": "markdown",
   "metadata": {},
   "source": [
    "5. Think about dimentions of data. Without this \"an shapes doesn't fit error\", will occur."
   ]
  },
  {
   "cell_type": "code",
   "execution_count": 8,
   "metadata": {
    "execution": {
     "iopub.execute_input": "2021-10-12T13:08:20.551207Z",
     "iopub.status.busy": "2021-10-12T13:08:20.550918Z",
     "iopub.status.idle": "2021-10-12T13:08:20.559669Z",
     "shell.execute_reply": "2021-10-12T13:08:20.558917Z",
     "shell.execute_reply.started": "2021-10-12T13:08:20.551177Z"
    }
   },
   "outputs": [],
   "source": [
    "train_x_torch = train_x_torch.view(-1, 1,28,28).float()\n",
    "valid_x_torch = valid_x_torch.view(-1, 1,28,28).float()"
   ]
  },
  {
   "cell_type": "markdown",
   "metadata": {},
   "source": [
    "5. Let's make Tensor Datasets"
   ]
  },
  {
   "cell_type": "code",
   "execution_count": 9,
   "metadata": {
    "execution": {
     "iopub.execute_input": "2021-10-12T13:08:20.564207Z",
     "iopub.status.busy": "2021-10-12T13:08:20.563462Z",
     "iopub.status.idle": "2021-10-12T13:08:20.570671Z",
     "shell.execute_reply": "2021-10-12T13:08:20.569443Z",
     "shell.execute_reply.started": "2021-10-12T13:08:20.564158Z"
    }
   },
   "outputs": [],
   "source": [
    "train_set = torch.utils.data.TensorDataset(train_x_torch, train_y_torch)\n",
    "valid_set = torch.utils.data.TensorDataset(valid_x_torch, valid_y_torch)"
   ]
  },
  {
   "cell_type": "markdown",
   "metadata": {},
   "source": [
    "6. Let's make DataLoaders for mini-batching."
   ]
  },
  {
   "cell_type": "code",
   "execution_count": 10,
   "metadata": {
    "execution": {
     "iopub.execute_input": "2021-10-12T13:08:20.572461Z",
     "iopub.status.busy": "2021-10-12T13:08:20.572160Z",
     "iopub.status.idle": "2021-10-12T13:08:20.584117Z",
     "shell.execute_reply": "2021-10-12T13:08:20.583485Z",
     "shell.execute_reply.started": "2021-10-12T13:08:20.572430Z"
    }
   },
   "outputs": [],
   "source": [
    "#preparing Data Loaders\n",
    "batch_size = 128\n",
    "train_loader = torch.utils.data.DataLoader(train_set, shuffle = True, batch_size = 128)\n",
    "valid_loader = torch.utils.data.DataLoader(valid_set, shuffle = True, batch_size = 128)"
   ]
  },
  {
   "cell_type": "markdown",
   "metadata": {},
   "source": [
    "4. Let's show images of Digit Recognizer."
   ]
  },
  {
   "cell_type": "code",
   "execution_count": 11,
   "metadata": {
    "execution": {
     "iopub.execute_input": "2021-10-12T13:08:20.585263Z",
     "iopub.status.busy": "2021-10-12T13:08:20.585038Z",
     "iopub.status.idle": "2021-10-12T13:08:21.706176Z",
     "shell.execute_reply": "2021-10-12T13:08:21.705302Z",
     "shell.execute_reply.started": "2021-10-12T13:08:20.585234Z"
    }
   },
   "outputs": [
    {
     "data": {
      "image/png": "[encoded data removed]",
      "text/plain": [
       "<Figure size 2160x2160 with 10 Axes>"
      ]
     },
     "metadata": {
      "needs_background": "light"
     },
     "output_type": "display_data"
    }
   ],
   "source": [
    "plt.figure(figsize=(30,30))\n",
    "for i in range(10):\n",
    "    plt.subplot(20, 20, i+1)\n",
    "    plt.title(\"No.\" + str(i))\n",
    "    plt.imshow(train_data.iloc[:,1:].iloc[i].values.reshape(28,28),cmap='Greys')"
   ]
  },
  {
   "cell_type": "markdown",
   "metadata": {},
   "source": [
    "6. Check if GPU is available or not."
   ]
  },
  {
   "cell_type": "code",
   "execution_count": 12,
   "metadata": {
    "execution": {
     "iopub.execute_input": "2021-10-12T13:08:21.708672Z",
     "iopub.status.busy": "2021-10-12T13:08:21.707539Z",
     "iopub.status.idle": "2021-10-12T13:08:21.716210Z",
     "shell.execute_reply": "2021-10-12T13:08:21.715154Z",
     "shell.execute_reply.started": "2021-10-12T13:08:21.708595Z"
    }
   },
   "outputs": [
    {
     "data": {
      "text/plain": [
       "device(type='cuda', index=0)"
      ]
     },
     "execution_count": 12,
     "metadata": {},
     "output_type": "execute_result"
    }
   ],
   "source": [
    "device = torch.device(\"cuda:0\" if torch.cuda.is_available() else \"cpu\") \n",
    "device"
   ]
  },
  {
   "cell_type": "markdown",
   "metadata": {},
   "source": [
    "Okay \"Type='cuda'\" means GPU is available."
   ]
  },
  {
   "cell_type": "markdown",
   "metadata": {},
   "source": [
    "7.Let's send data to GPU and reset optimaizer and define loss calculation,loss backward .etc"
   ]
  },
  {
   "cell_type": "code",
   "execution_count": 13,
   "metadata": {
    "execution": {
     "iopub.execute_input": "2021-10-12T13:08:21.717945Z",
     "iopub.status.busy": "2021-10-12T13:08:21.717668Z",
     "iopub.status.idle": "2021-10-12T13:08:21.729040Z",
     "shell.execute_reply": "2021-10-12T13:08:21.727830Z",
     "shell.execute_reply.started": "2021-10-12T13:08:21.717906Z"
    }
   },
   "outputs": [],
   "source": [
    "list_process=[]"
   ]
  },
  {
   "cell_type": "code",
   "execution_count": 14,
   "metadata": {
    "execution": {
     "iopub.execute_input": "2021-10-12T13:08:21.731670Z",
     "iopub.status.busy": "2021-10-12T13:08:21.730771Z",
     "iopub.status.idle": "2021-10-12T13:08:21.742532Z",
     "shell.execute_reply": "2021-10-12T13:08:21.741641Z",
     "shell.execute_reply.started": "2021-10-12T13:08:21.731627Z"
    }
   },
   "outputs": [],
   "source": [
    "def train(model, epoch):\n",
    "    model.train()\n",
    "    train_loss = 0\n",
    "    correct = 0\n",
    "    for data, label in train_loader:\n",
    "        data, label = data.to(device), label.to(device)  \n",
    "        optimizer.zero_grad()  \n",
    "        output = model(data) \n",
    "        loss = criterion(output, label)  \n",
    "        loss.backward() \n",
    "        optimizer.step()  \n",
    "        train_loss += loss.item() \n",
    "        #get argmax values in outputs\n",
    "        pred = output.argmax(dim=1, keepdim=True)\n",
    "        correct += pred.eq(label.view_as(pred)).sum().item()\n",
    "    print('epoch for train: {}, accuracy: ({:.2f}%)'.format(epoch,correct*100 / len(train_loader.dataset)))\n",
    "    list_process.append(correct*100 / len(train_loader.dataset))"
   ]
  },
  {
   "cell_type": "markdown",
   "metadata": {},
   "source": [
    "8. Let's defing test. One thing different from \"def train\" is \"torch.no_grad()\"."
   ]
  },
  {
   "cell_type": "code",
   "execution_count": 15,
   "metadata": {
    "execution": {
     "iopub.execute_input": "2021-10-12T13:08:21.744465Z",
     "iopub.status.busy": "2021-10-12T13:08:21.743811Z",
     "iopub.status.idle": "2021-10-12T13:08:21.760556Z",
     "shell.execute_reply": "2021-10-12T13:08:21.759856Z",
     "shell.execute_reply.started": "2021-10-12T13:08:21.744425Z"
    }
   },
   "outputs": [],
   "source": [
    "def valid(model, epoch):\n",
    "    model.eval()\n",
    "    test_loss = 0\n",
    "    correct = 0\n",
    "    with torch.no_grad():\n",
    "        for data, label in valid_loader:\n",
    "            data, label = data.to(device), label.to(device)\n",
    "            output = model(data)\n",
    "            test_loss += criterion(output, label).item()\n",
    "            pred = output.argmax(dim=1, keepdim=True)\n",
    "            correct += pred.eq(label.view_as(pred)).sum().item()\n",
    "    print('epoch for test: {}, accuracy: ({:.2f}%)'.format(epoch,correct*100 / len(valid_loader.dataset)))"
   ]
  },
  {
   "cell_type": "markdown",
   "metadata": {},
   "source": [
    "9. Define layers like Conv2d for CNN, max_pool2d for max pooing .etc"
   ]
  },
  {
   "cell_type": "code",
   "execution_count": 16,
   "metadata": {
    "execution": {
     "iopub.execute_input": "2021-10-12T13:08:21.761940Z",
     "iopub.status.busy": "2021-10-12T13:08:21.761607Z",
     "iopub.status.idle": "2021-10-12T13:08:21.799806Z",
     "shell.execute_reply": "2021-10-12T13:08:21.798709Z",
     "shell.execute_reply.started": "2021-10-12T13:08:21.761913Z"
    }
   },
   "outputs": [
    {
     "name": "stderr",
     "output_type": "stream",
     "text": [
      "/home/dev/anaconda3/lib/python3.8/site-packages/torch/cuda/__init__.py:83: UserWarning: \n",
      "    Found GPU%d %s which is of cuda capability %d.%d.\n",
      "    PyTorch no longer supports this GPU because it is too old.\n",
      "    The minimum cuda capability supported by this library is %d.%d.\n",
      "    \n",
      "  warnings.warn(old_gpu_warn.format(d, name, major, minor, min_arch // 10, min_arch % 10))\n"
     ]
    }
   ],
   "source": [
    "class cnn_layers(nn.Module):\n",
    "    def __init__(self):\n",
    "        super(cnn_layers,self).__init__()\n",
    "        self.conv1 = nn.Conv2d(1, 32, 3, 1)\n",
    "        self.conv2 = nn.Conv2d(32, 64, 3, 1)\n",
    "        self.dropout1 = nn.Dropout(0.25)\n",
    "        self.dropout2 = nn.Dropout(0.5)\n",
    "        self.fc1 = nn.Linear(9216, 128)\n",
    "        self.fc2 = nn.Linear(128, 10)\n",
    "\n",
    "    def forward(self, x):\n",
    "        x = self.conv1(x)\n",
    "        x = F.relu(x)\n",
    "        x = self.conv2(x)\n",
    "        x = F.relu(x)\n",
    "        x = F.max_pool2d(x, 2)\n",
    "        x = self.dropout1(x)\n",
    "        x = torch.flatten(x, 1)\n",
    "        x = self.fc1(x)\n",
    "        x = F.relu(x)\n",
    "        x = self.dropout2(x)\n",
    "        x = self.fc2(x)\n",
    "        output = F.log_softmax(x, dim=1)\n",
    "        return output\n",
    "\n",
    "model = cnn_layers()\n",
    "model.to(device)\n",
    "optimizer = optim.Adam(model.parameters(), lr=0.0001)\n",
    "criterion = nn.CrossEntropyLoss() "
   ]
  },
  {
   "cell_type": "markdown",
   "metadata": {},
   "source": [
    "10. Let's start 20-epoch deep learning."
   ]
  },
  {
   "cell_type": "code",
   "execution_count": 17,
   "metadata": {
    "execution": {
     "iopub.execute_input": "2021-10-12T13:08:21.801676Z",
     "iopub.status.busy": "2021-10-12T13:08:21.801357Z"
    }
   },
   "outputs": [
    {
     "name": "stdout",
     "output_type": "stream",
     "text": [
      "cnn_layers(\n",
      "  (conv1): Conv2d(1, 32, kernel_size=(3, 3), stride=(1, 1))\n",
      "  (conv2): Conv2d(32, 64, kernel_size=(3, 3), stride=(1, 1))\n",
      "  (dropout1): Dropout(p=0.25, inplace=False)\n",
      "  (dropout2): Dropout(p=0.5, inplace=False)\n",
      "  (fc1): Linear(in_features=9216, out_features=128, bias=True)\n",
      "  (fc2): Linear(in_features=128, out_features=10, bias=True)\n",
      ")\n"
     ]
    },
    {
     "data": {
      "application/vnd.jupyter.widget-view+json": {
       "model_id": "23ff9d5927dd4435bf5021fa786271fe",
       "version_major": 2,
       "version_minor": 0
      },
      "text/plain": [
       "  0%|          | 0/30 [00:00<?, ?it/s]"
      ]
     },
     "metadata": {},
     "output_type": "display_data"
    },
    {
     "name": "stdout",
     "output_type": "stream",
     "text": [
      "epoch for train: 0, accuracy: (72.08%)\n",
      "epoch for train: 1, accuracy: (89.22%)\n",
      "epoch for train: 2, accuracy: (92.22%)\n",
      "epoch for train: 3, accuracy: (93.90%)\n",
      "epoch for train: 4, accuracy: (94.92%)\n",
      "epoch for train: 5, accuracy: (95.67%)\n",
      "epoch for train: 6, accuracy: (96.38%)\n",
      "epoch for train: 7, accuracy: (96.72%)\n",
      "epoch for train: 8, accuracy: (97.12%)\n",
      "epoch for train: 9, accuracy: (97.19%)\n",
      "epoch for train: 10, accuracy: (97.39%)\n",
      "epoch for train: 11, accuracy: (97.60%)\n",
      "epoch for train: 12, accuracy: (97.79%)\n",
      "epoch for train: 13, accuracy: (97.95%)\n",
      "epoch for train: 14, accuracy: (97.94%)\n",
      "epoch for train: 15, accuracy: (98.14%)\n",
      "epoch for train: 16, accuracy: (98.27%)\n",
      "epoch for train: 17, accuracy: (98.25%)\n",
      "epoch for train: 18, accuracy: (98.38%)\n",
      "epoch for train: 19, accuracy: (98.39%)\n",
      "epoch for train: 20, accuracy: (98.57%)\n",
      "epoch for train: 21, accuracy: (98.58%)\n",
      "epoch for train: 22, accuracy: (98.66%)\n",
      "epoch for train: 23, accuracy: (98.75%)\n",
      "epoch for train: 24, accuracy: (98.70%)\n",
      "epoch for train: 25, accuracy: (98.81%)\n",
      "epoch for train: 26, accuracy: (98.79%)\n",
      "epoch for train: 27, accuracy: (98.89%)\n",
      "epoch for train: 28, accuracy: (98.90%)\n",
      "epoch for train: 29, accuracy: (99.00%)\n"
     ]
    }
   ],
   "source": [
    "print(model)\n",
    "for epoch in tqdm(range(30)):\n",
    "    train(model,epoch)"
   ]
  },
  {
   "cell_type": "code",
   "execution_count": 18,
   "metadata": {},
   "outputs": [
    {
     "name": "stderr",
     "output_type": "stream",
     "text": [
      "No handles with labels found to put in legend.\n"
     ]
    },
    {
     "data": {
      "image/png": "[encoded data removed]",
      "text/plain": [
       "<Figure size 432x288 with 1 Axes>"
      ]
     },
     "metadata": {
      "needs_background": "light"
     },
     "output_type": "display_data"
    }
   ],
   "source": [
    "import matplotlib.pyplot as plt\n",
    "plt.plot(list_process)\n",
    "plt.xlabel(\"number of epochs\")\n",
    "plt.ylabel(\"accuracy(%)\")\n",
    "plt.title(\"CNN with Pytorch Model\")\n",
    "plt.legend()\n",
    "plt.show()"
   ]
  },
  {
   "cell_type": "code",
   "execution_count": 19,
   "metadata": {},
   "outputs": [
    {
     "data": {
      "application/vnd.jupyter.widget-view+json": {
       "model_id": "bb7491e8b5a74d619ccfff1f2404c6ad",
       "version_major": 2,
       "version_minor": 0
      },
      "text/plain": [
       "  0%|          | 0/3 [00:00<?, ?it/s]"
      ]
     },
     "metadata": {},
     "output_type": "display_data"
    },
    {
     "name": "stdout",
     "output_type": "stream",
     "text": [
      "epoch for test: 0, accuracy: (98.92%)\n",
      "epoch for test: 1, accuracy: (98.92%)\n",
      "epoch for test: 2, accuracy: (98.92%)\n"
     ]
    }
   ],
   "source": [
    "for epoch in tqdm(range(3)):\n",
    "    valid(model,epoch)"
   ]
  },
  {
   "cell_type": "markdown",
   "metadata": {},
   "source": [
    "11. Let's check if this model's prediction is correct or not."
   ]
  },
  {
   "cell_type": "markdown",
   "metadata": {},
   "source": [
    "11-1. Make a dataloader for testing."
   ]
  },
  {
   "cell_type": "code",
   "execution_count": 20,
   "metadata": {},
   "outputs": [],
   "source": [
    "test_data = pd.read_csv('./digit-recognizer/test.csv')"
   ]
  },
  {
   "cell_type": "code",
   "execution_count": 21,
   "metadata": {},
   "outputs": [],
   "source": [
    "x_test = test_data.values/255\n",
    "x_test_torch = torch.from_numpy(x_test).type(torch.FloatTensor)\n",
    "d_labels = np.zeros(x_test.shape)\n",
    "d_labels = torch.from_numpy(d_labels)\n",
    "#Think about dimentions of data. Without this \"an shapes doesn't fit error\", will occur.\n",
    "x_test_torch = x_test_torch.view(-1, 1, 28, 28)\n",
    "#Make a tensordataset and a testloader\n",
    "testset = torch.utils.data.TensorDataset(x_test_torch, d_labels)\n",
    "testloader = torch.utils.data.DataLoader(testset, batch_size = 1, shuffle = False)"
   ]
  },
  {
   "cell_type": "markdown",
   "metadata": {},
   "source": [
    "11-2. Let's start prediction."
   ]
  },
  {
   "cell_type": "code",
   "execution_count": 22,
   "metadata": {},
   "outputs": [],
   "source": [
    "submit_list = [['ImageId', 'Label']]\n",
    "with torch.no_grad():\n",
    "    model.eval()\n",
    "    image_id = 1\n",
    "    for images,label in testloader:\n",
    "        images,label = images.to(device), label.to(device)\n",
    "        outputs = model(images)\n",
    "        probs = torch.exp(outputs)\n",
    "        top_p, top_class = probs.topk(1, dim = 1)\n",
    "        for preds in top_class:\n",
    "            submit_list.append([image_id,preds.item()])\n",
    "            image_id += 1"
   ]
  },
  {
   "cell_type": "markdown",
   "metadata": {},
   "source": [
    "11-3. Make a CSV file for submission"
   ]
  },
  {
   "cell_type": "code",
   "execution_count": 23,
   "metadata": {},
   "outputs": [
    {
     "name": "stdout",
     "output_type": "stream",
     "text": [
      "submit.csv saved\n"
     ]
    }
   ],
   "source": [
    "df = pd.DataFrame(submit_list)\n",
    "df.columns = df.iloc[0]\n",
    "df = df.drop(0, axis = 0)\n",
    "df.to_csv('submit.csv', index = False)\n",
    "print(\"submit.csv saved\")"
   ]
  },
  {
   "cell_type": "code",
   "execution_count": 24,
   "metadata": {},
   "outputs": [
    {
     "data": {
      "image/png": "[encoded data removed]",
      "text/plain": [
       "<Figure size 2160x2160 with 5 Axes>"
      ]
     },
     "metadata": {
      "needs_background": "light"
     },
     "output_type": "display_data"
    }
   ],
   "source": [
    "plt.figure(figsize=(30,30))\n",
    "for i in range(5,10):\n",
    "    plt.subplot(20, 20, i+1)\n",
    "    plt.imshow(test_data.iloc[i].values.reshape(28,28),cmap='Greys')"
   ]
  },
  {
   "cell_type": "code",
   "execution_count": 25,
   "metadata": {},
   "outputs": [
    {
     "data": {
      "text/html": [
       "<div>\n",
       "<style scoped>\n",
       "    .dataframe tbody tr th:only-of-type {\n",
       "        vertical-align: middle;\n",
       "    }\n",
       "\n",
       "    .dataframe tbody tr th {\n",
       "        vertical-align: top;\n",
       "    }\n",
       "\n",
       "    .dataframe thead th {\n",
       "        text-align: right;\n",
       "    }\n",
       "</style>\n",
       "<table border=\"1\" class=\"dataframe\">\n",
       "  <thead>\n",
       "    <tr style=\"text-align: right;\">\n",
       "      <th></th>\n",
       "      <th>6</th>\n",
       "      <th>7</th>\n",
       "      <th>8</th>\n",
       "      <th>9</th>\n",
       "      <th>10</th>\n",
       "    </tr>\n",
       "    <tr>\n",
       "      <th>0</th>\n",
       "      <th></th>\n",
       "      <th></th>\n",
       "      <th></th>\n",
       "      <th></th>\n",
       "      <th></th>\n",
       "    </tr>\n",
       "  </thead>\n",
       "  <tbody>\n",
       "    <tr>\n",
       "      <th>Label</th>\n",
       "      <td>7</td>\n",
       "      <td>0</td>\n",
       "      <td>3</td>\n",
       "      <td>0</td>\n",
       "      <td>3</td>\n",
       "    </tr>\n",
       "  </tbody>\n",
       "</table>\n",
       "</div>"
      ],
      "text/plain": [
       "      6  7  8  9  10\n",
       "0                   \n",
       "Label  7  0  3  0  3"
      ]
     },
     "execution_count": 25,
     "metadata": {},
     "output_type": "execute_result"
    }
   ],
   "source": [
    "df.iloc[5:10,[1]].T"
   ]
  },
  {
   "cell_type": "markdown",
   "metadata": {},
   "source": [
    "### Correct answers?!\n",
    "### Thanks for reading my notebook :-) "
   ]
  },
  {
   "cell_type": "code",
   "execution_count": null,
   "metadata": {},
   "outputs": [],
   "source": []
  }
 ],
 "metadata": {
  "kernelspec": {
   "display_name": "Python 3",
   "language": "python",
   "name": "python3"
  },
  "language_info": {
   "codemirror_mode": {
    "name": "ipython",
    "version": 3
   },
   "file_extension": ".py",
   "mimetype": "text/x-python",
   "name": "python",
   "nbconvert_exporter": "python",
   "pygments_lexer": "ipython3",
   "version": "3.8.8"
  }
 },
 "nbformat": 4,
 "nbformat_minor": 4
}
