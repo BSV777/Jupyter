{
 "cells": [
  {
   "cell_type": "markdown",
   "id": "806979e2",
   "metadata": {},
   "source": [
    "Дан отсортированный массив целых чисел a , целое число K и индекс элемента index .\n",
    "Необходимо вернуть в любом порядке K чисел из массива, которые являются ближайшими по значению к элементу a[index] .\n",
    "\n",
    "find_k_closest(a={2, 3, 5, 7, 11}, K=2, index=3) -> {5, 7}\n",
    "\n",
    "7\n",
    "\n",
    "5 4 2 0 4\n",
    "0 1 2 3 4\n",
    "\n",
    "3 2 4 1 0\n",
    "\n",
    "find_k_closest(a={4, 12, 15, 16, 24}, K=3, index=1) -> {12, 15, 16}\n",
    "\n",
    "8 0 3 4 12"
   ]
  },
  {
   "cell_type": "code",
   "execution_count": 30,
   "id": "37da3e06",
   "metadata": {},
   "outputs": [
    {
     "name": "stdout",
     "output_type": "stream",
     "text": [
      "2  :  1  -  4  :  8\n",
      "left\n",
      "1  :  4  -  4  :  8\n",
      "left\n",
      "0  :  12  -  4  :  8\n",
      "right\n",
      "0  :  12  -  5  :  14\n",
      "left\n",
      "0  :  30  -  5  :  14\n",
      "right\n",
      "[16, 15, 12, 24, 4, 30]\n"
     ]
    }
   ],
   "source": [
    "a = [4, 12, 15, 16, 24, 30]\n",
    "y = []\n",
    "k = 6\n",
    "index = 3\n",
    "maxval = a[-1]\n",
    "\n",
    "if index != 0:\n",
    "    ix_left = index - 1\n",
    "    dif_left = a[index] - a[ix_left]        \n",
    "else:\n",
    "    dif_left = maxval\n",
    "\n",
    "if index != len(a) - 1:           \n",
    "    ix_right = index + 1\n",
    "    dif_right = a[ix_right] - a[index]\n",
    "else:\n",
    "    dif_right = maxval\n",
    "\n",
    "y.append(a[index])\n",
    "\n",
    "\n",
    "while k > 1:\n",
    "\n",
    "    print(ix_left, \" : \", dif_left, \" - \", ix_right, \" : \", dif_right)\n",
    "    \n",
    "    if ix_left >= 0 and (dif_left < dif_right):\n",
    "        y.append(a[ix_left])\n",
    "        if ix_left != 0:\n",
    "            ix_left -= 1\n",
    "            dif_left = a[index] - a[ix_left]        \n",
    "        else:\n",
    "            dif_left = maxval\n",
    "        print(\"left\")\n",
    "    \n",
    "    elif ix_right < len(a) and (dif_left > dif_right):\n",
    "        y.append(a[ix_right])\n",
    "        if ix_right != len(a) - 1:           \n",
    "            ix_right += 1\n",
    "            dif_right = a[ix_right] - a[index]\n",
    "        else:\n",
    "            dif_right = maxval\n",
    "        print(\"right\")\n",
    "    \n",
    "    k -= 1\n",
    "print(y)"
   ]
  },
  {
   "cell_type": "code",
   "execution_count": null,
   "id": "8bf6435a",
   "metadata": {},
   "outputs": [],
   "source": []
  }
 ],
 "metadata": {
  "kernelspec": {
   "display_name": "Python 3",
   "language": "python",
   "name": "python3"
  },
  "language_info": {
   "codemirror_mode": {
    "name": "ipython",
    "version": 3
   },
   "file_extension": ".py",
   "mimetype": "text/x-python",
   "name": "python",
   "nbconvert_exporter": "python",
   "pygments_lexer": "ipython3",
   "version": "3.8.8"
  }
 },
 "nbformat": 4,
 "nbformat_minor": 5
}
