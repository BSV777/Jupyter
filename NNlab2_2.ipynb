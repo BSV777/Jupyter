{
 "cells": [
  {
   "cell_type": "markdown",
   "id": "88835b76",
   "metadata": {},
   "source": [
    "### Изучение нейронных сетей. Лаб.2.2."
   ]
  },
  {
   "cell_type": "code",
   "execution_count": 1,
   "id": "f1a6c636",
   "metadata": {
    "scrolled": true
   },
   "outputs": [
    {
     "name": "stdout",
     "output_type": "stream",
     "text": [
      "Files already downloaded and verified\n",
      "Files already downloaded and verified\n"
     ]
    },
    {
     "name": "stderr",
     "output_type": "stream",
     "text": [
      "/home/sbaykov/anaconda3/lib/python3.8/site-packages/torch/cuda/__init__.py:83: UserWarning: \n",
      "    Found GPU%d %s which is of cuda capability %d.%d.\n",
      "    PyTorch no longer supports this GPU because it is too old.\n",
      "    The minimum cuda capability supported by this library is %d.%d.\n",
      "    \n",
      "  warnings.warn(old_gpu_warn.format(d, name, major, minor, min_arch // 10, min_arch % 10))\n",
      "/home/sbaykov/anaconda3/lib/python3.8/site-packages/torch/nn/functional.py:718: UserWarning: Named tensors and all their associated APIs are an experimental feature and subject to change. Please do not use them for anything important until they are released as stable. (Triggered internally at  /opt/conda/conda-bld/pytorch_1623448234945/work/c10/core/TensorImpl.h:1156.)\n",
      "  return torch.max_pool2d(input, kernel_size, stride, padding, dilation, ceil_mode)\n"
     ]
    },
    {
     "name": "stdout",
     "output_type": "stream",
     "text": [
      "Learning rate = 0.20100000000000015\n",
      "[1,   200] loss: 2.304\n",
      "Learning rate = 0.4010000000000003\n",
      "[1,   400] loss: 2.304\n",
      "Learning rate = 0.6010000000000004\n",
      "[1,   600] loss: 2.304\n",
      "Learning rate = 0.8010000000000006\n",
      "[1,   800] loss: 2.303\n",
      "Learning rate = 1.0010000000000006\n",
      "[1,  1000] loss: 2.305\n",
      "Learning rate = 1.2009999999999785\n",
      "[1,  1200] loss: 2.303\n",
      "Learning rate = 1.4009999999999565\n",
      "[1,  1400] loss: 2.305\n",
      "Finished Training\n",
      "Working time: 4.750750303268433 seconds\n",
      "Кривая обучения:\n"
     ]
    },
    {
     "data": {
      "image/png": "[encoded data removed]",
      "text/plain": [
       "<Figure size 432x288 with 1 Axes>"
      ]
     },
     "metadata": {
      "needs_background": "light"
     },
     "output_type": "display_data"
    }
   ],
   "source": [
    "from __future__ import print_function\n",
    "import torch\n",
    "import torch.nn as nn\n",
    "import torch.nn.functional as F\n",
    "import torchvision\n",
    "import torchvision.transforms as transforms\n",
    "import torch.optim as optim\n",
    "import time\n",
    "import matplotlib.pyplot as plt\n",
    "import numpy as np\n",
    "\n",
    "device = torch.device(\"cuda:0\" if torch.cuda.is_available() else \"cpu\")\n",
    "\n",
    "transform = transforms.Compose(\n",
    "    [transforms.ToTensor(),\n",
    "     transforms.Normalize((0.5, 0.5, 0.5), (0.5, 0.5, 0.5))])\n",
    "\n",
    "trainset = torchvision.datasets.CIFAR10(root='./data', train=True, \n",
    "                                        download=True, transform=transform)\n",
    "\n",
    "trainloader = torch.utils.data.DataLoader(trainset, batch_size=32, \n",
    "                                          shuffle=True, num_workers=4)\n",
    "\n",
    "testset = torchvision.datasets.CIFAR10(root='./data', train=False, \n",
    "                                       download=True, transform=transform)\n",
    "testloader = torch.utils.data.DataLoader(testset, batch_size=4, \n",
    "                                         shuffle=False, num_workers=2)\n",
    "\n",
    "classes = ('plane', 'car', 'bird', 'cat', 'deer', \n",
    "           'dog', 'frog', 'horse', 'ship', 'truck')\n",
    "\n",
    "class Net(nn.Module):\n",
    "    def __init__(self):\n",
    "        super(Net, self).__init__()\n",
    "        self.conv1 = nn.Conv2d(3, 6, 5)       #\n",
    "        self.pool = nn.MaxPool2d(2, 2)        #\n",
    "        self.conv2 = nn.Conv2d(6, 16, 5)      #\n",
    "        self.fc1 = nn.Linear(16 * 5 * 5, 120) #\n",
    "        self.fc2 = nn.Linear(120, 84)         #\n",
    "        self.fc3 = nn.Linear(84, 10)          #\n",
    "\n",
    "    def forward(self, x):\n",
    "        x = self.pool(F.relu(self.conv1(x)))\n",
    "        x = self.pool(F.relu(self.conv2(x)))\n",
    "        x = x.view(-1, 16 * 5 * 5)    #\n",
    "        x = F.relu(self.fc1(x))\n",
    "        x = F.relu(self.fc2(x))\n",
    "        x = self.fc3(x)\n",
    "        return x\n",
    "\n",
    "net = Net()\n",
    "\n",
    "criterion = nn.CrossEntropyLoss()\n",
    "\n",
    "learn_rate = 0.001\n",
    "optimizer = optim.SGD(net.parameters(), lr=learn_rate, momentum=0.9) \n",
    "\n",
    "net.to(device)\n",
    "\n",
    "start_time = time.time()\n",
    "\n",
    "x = []\n",
    "y = []\n",
    "j = 0\n",
    "\n",
    "for epoch in range(1):  # loop over the dataset multiple times\n",
    "    optimizer = optim.SGD(net.parameters(), lr=learn_rate, momentum=0.9)\n",
    "\n",
    "    running_loss = 0.0\n",
    "    for i, data in enumerate(trainloader, 0):\n",
    "\n",
    "        optimizer = optim.SGD(net.parameters(), lr=learn_rate, momentum=0.9)\n",
    "        learn_rate += 0.001\n",
    "        \n",
    "        inputs, labels = data[0].to(device), data[1].to(device)\n",
    "\n",
    "        optimizer.zero_grad()\n",
    "\n",
    "        outputs = net(inputs)\n",
    "        loss = criterion(outputs, labels)\n",
    "        #loss.backward()\n",
    "        #optimizer.step()\n",
    "\n",
    "        # print statistics\n",
    "        running_loss += loss.item()\n",
    "        if i % 200 == 199:    # print every 200 mini-batches\n",
    "            print(\"Learning rate =\", learn_rate)\n",
    "            print('[%d, %5d] loss: %.3f' %\n",
    "                  (epoch + 1, i + 1, running_loss / 200))\n",
    "            running_loss = 0.0\n",
    "\n",
    "        x.append(j)\n",
    "        y.append(loss.item())\n",
    "        j += 1            \n",
    "\n",
    "print('Finished Training')\n",
    "\n",
    "print(\"Working time: %s seconds\" % (time.time() - start_time))\n",
    "\n",
    "print('Кривая обучения:')\n",
    "\n",
    "plt.plot(x, y)\n",
    "plt.show()"
   ]
  },
  {
   "cell_type": "code",
   "execution_count": null,
   "id": "d041ed40",
   "metadata": {},
   "outputs": [],
   "source": []
  }
 ],
 "metadata": {
  "kernelspec": {
   "display_name": "Python 3 (ipykernel)",
   "language": "python",
   "name": "python3"
  },
  "language_info": {
   "codemirror_mode": {
    "name": "ipython",
    "version": 3
   },
   "file_extension": ".py",
   "mimetype": "text/x-python",
   "name": "python",
   "nbconvert_exporter": "python",
   "pygments_lexer": "ipython3",
   "version": "3.8.11"
  }
 },
 "nbformat": 4,
 "nbformat_minor": 5
}
